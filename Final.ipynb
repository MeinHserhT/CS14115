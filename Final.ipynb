{
  "nbformat": 4,
  "nbformat_minor": 0,
  "metadata": {
    "colab": {
      "name": "Final.ipynb",
      "provenance": [],
      "collapsed_sections": [
        "9bJ3T0tBoksa",
        "zoc9cJXg0hSL",
        "oZz-ou5LEtg7",
        "p1-8QZEW2abj",
        "pAqen6wp1Wm-",
        "LQP2L0WV587q",
        "yU6CS9pfgOj_",
        "mlczwBgQOL45",
        "EDF7IKj1OEER",
        "ARTHPSWbu3u1",
        "jccvh1r_6yNz",
        "Q_b_b2kHSFNG",
        "jl_aIpEv4CL-",
        "14exQYoWQLBq",
        "WXqPnNgEQn9B",
        "By2IAGiGQpVQ",
        "128D49vt2Do2",
        "nIkUlmsch3PA"
      ],
      "toc_visible": true,
      "include_colab_link": true
    },
    "kernelspec": {
      "name": "python3",
      "display_name": "Python 3"
    },
    "language_info": {
      "name": "python"
    }
  },
  "cells": [
    {
      "cell_type": "markdown",
      "metadata": {
        "id": "view-in-github",
        "colab_type": "text"
      },
      "source": [
        "<a href=\"https://colab.research.google.com/github/MeinHserhT/CS14115/blob/main/Final.ipynb\" target=\"_parent\"><img src=\"https://colab.research.google.com/assets/colab-badge.svg\" alt=\"Open In Colab\"/></a>"
      ]
    },
    {
      "cell_type": "markdown",
      "source": [
        "Link github:\n",
        "https://github.com/MeinHserhT/CS14115/blob/main/Final.ipynb"
      ],
      "metadata": {
        "id": "xzHd4yY0uGaG"
      }
    },
    {
      "cell_type": "markdown",
      "source": [
        "References:\n",
        "- For data exploratory: https://www.kaggle.com/code/jsaguiar/complete-exploratory-analysis-all-columns/notebook \n",
        "- Feature engineering and training model: https://www.kaggle.com/competitions/ga-customer-revenue-prediction/discussion/82614 "
      ],
      "metadata": {
        "id": "u_DRE4ktsCYc"
      }
    },
    {
      "cell_type": "code",
      "execution_count": null,
      "metadata": {
        "id": "1kvwZ5JKHL71",
        "colab": {
          "base_uri": "https://localhost:8080/"
        },
        "outputId": "56e94531-00ac-469c-96f1-ccd4666bbf76"
      },
      "outputs": [
        {
          "output_type": "stream",
          "name": "stdout",
          "text": [
            "Mounted at /content/drive\n",
            "/content/drive/MyDrive/gStore Revenue Prediction/data\n"
          ]
        }
      ],
      "source": [
        "from google.colab import drive\n",
        "drive.mount('/content/drive')\n",
        "%cd drive/MyDrive/'gStore Revenue Prediction'/data"
      ]
    },
    {
      "cell_type": "code",
      "source": [
        "import numpy as np\n",
        "import pandas as pd\n",
        "pd.set_option('display.max_colwidth', None)\n",
        "pd.set_option('display.max_columns', None)\n",
        "from os import listdir\n",
        "from datetime import datetime, timedelta\n",
        "import ast\n",
        "\n",
        "import gc\n",
        "gc.enable()\n",
        "\n",
        "import warnings\n",
        "warnings.filterwarnings('ignore')\n",
        "\n",
        "from collections import Counter\n",
        "get_most_common = lambda values: max(Counter(values).items(), key = lambda x: x[1])[0]"
      ],
      "metadata": {
        "id": "Xs3X-X08JFFr"
      },
      "execution_count": null,
      "outputs": []
    },
    {
      "cell_type": "markdown",
      "source": [
        "# 1.&nbsp;Understand the problem"
      ],
      "metadata": {
        "id": "P0O_mFKFWB69"
      }
    },
    {
      "cell_type": "markdown",
      "source": [
        "- Overview: The 80/20 rule has proven true for many businesses–only a small percentage of customers produce most of the revenue. As such, marketing teams are challenged to make appropriate investments in promotional strategies.\n",
        "\n",
        "- Goal: Analyze a Google Merchandise Store (also known as GStore, where Google swag is sold) customer dataset to <b>predict revenue per customer</b>\n",
        "\n",
        "- Data format: \n",
        "    + Each row in the dataset is one visit to the store. \n",
        "    + <b>Not all rows in test_v2.csv will correspond to a row in the submission</b>, but all unique fullVisitorIds will correspond to a row in the submission.\n",
        "    + Due to the formatting of fullVisitorId you must <b>load the Id's as strings in order for all Id's to be properly unique!</b>\n",
        "    + There are multiple columns which contain <b>JSON blobs of varying depth</b>. In one of those JSON columns, totals, the sub-column transactionRevenue contains the revenue information we are trying to predict. This sub-column exists only for the training data.\n",
        "\n",
        "\n",
        "- Data train: user transactions which are collected from GStore around the world 01/08/2016 to 30/04/2018.\n",
        "- Data test: ALL users' transactions in the future time.\n",
        " + Public LB: is being calculated for those visitors during the same timeframe of 01/05/2018 to 15/10/2018\n",
        " + Private LB: is being calculated on the future-looking timeframe of 01/12/2018 to 31/01/2019 - for those **same** set of users. \n",
        " \n",
        " $\\Rightarrow$ Therefore, your submission that is intended for the public LB timeframe will be different from the private LB timeframe, which will be rescored/recalculated on the future timeframe.\n",
        " \n",
        " \n",
        "- Input: All transactions of a user from 01/05/2018 to 15/10/2018.\n",
        "- Output: Total revenue of that user during the predicting time. (01/12/2018 to 31/01/2019)\n",
        " \n",
        " We are predicting the <b>natural log of the sum of all transactions per user</b>. \n",
        " \n",
        "$$\n",
        "y_{user} = \\sum_{i=1}^{n} transaction_{user_i} \n",
        "$$\n",
        "$$\n",
        "target_{user} = \\ln({y_{user}+1})\n",
        "$$\n",
        " \n",
        "\n",
        "- External Data: is <b>permitted</b> for this competition. This includes the <a href=\"https://support.google.com/analytics/answer/6367342#access&zippy=%2Cin-this-article\">Google Merchandise Store Demo Account</a>. Although the Demo Account contains the predicted variable, final standings will not benefit from access to this external data, because it requires future-looking predictions.\n",
        "\n",
        "- Evaluation Metric:\n",
        " \n",
        " Submissions are scored on the root mean squared error. RMSE is defined as:\n",
        "\n",
        "$$ \\text{RMSE} = \\sqrt{\\frac{1}{n}\\sum^n_{i=1}(y_i - \\hat{y}_i)^2} $$"
      ],
      "metadata": {
        "id": "NcM_W-Gf-S9S"
      }
    },
    {
      "cell_type": "markdown",
      "source": [
        "![](https://drive.google.com/uc?export=view&id=1RXHGiWn7RGhTvxjnpFnpzRS4munE4pM6)\n"
      ],
      "metadata": {
        "id": "Nbr_tDD4o7DW"
      }
    },
    {
      "cell_type": "markdown",
      "source": [
        "# 2.&nbsp;Prepare data\n",
        "Follow the link: https://www.kaggle.com/code/minhvngc/exploration\n",
        "\n",
        "- Due to large dataset(train_v2.csv: 25.41GB, test_v2.csv: 7.62GB), we read data with chunksize method and extract JSON columns (based on: https://www.kaggle.com/code/codlife/pre-processing-for-huge-train-data-with-chunksize/notebook) and save it to separate files (each file contains all values of 1 column. Ex: train_fullVisitorId.csv, test_device.browser, ...)\n",
        "- After run the first chunksize, we recognized that file train_hits is very large (1~2GB) and we had about 17 chunksize to read. So we cannot save it (kaggle maximum output size is 20GB https://www.kaggle.com/docs/notebooks)\n",
        "\n",
        "- Don't use column 'hits' due to very large data (~20GB based on https://www.kaggle.com/competitions/ga-customer-revenue-prediction/discussion/71048).\n",
        "\n",
        "\n",
        "\n"
      ],
      "metadata": {
        "id": "BtgoaJ2kWjdN"
      }
    },
    {
      "cell_type": "markdown",
      "source": [
        "# 3.&nbsp;Explore data\n",
        "\n",
        "Follow the link: https://colab.research.google.com/drive/121tKvyBSNPEtPmau4dhL1NjIFrzw9xZl\n",
        "\n",
        "> For each file(column), we read it and explore the values' frequency and its description."
      ],
      "metadata": {
        "id": "gOBHp_KCXPTk"
      }
    },
    {
      "cell_type": "markdown",
      "source": [
        "#  4.&nbsp;Preprocess data"
      ],
      "metadata": {
        "id": "upP0_Pz9XXBf"
      }
    },
    {
      "cell_type": "markdown",
      "source": [
        "## 4.1 Load data\n",
        "- Read files and merge them into train dataframe and test dataframe. \n",
        "- Notice: fullVisitorId must be read as <b>string</b>\n"
      ],
      "metadata": {
        "id": "9bJ3T0tBoksa"
      }
    },
    {
      "cell_type": "code",
      "source": [
        "lst_file = listdir()\n",
        "lst_train_file = [f for f in lst_file if 'train' in f]\n",
        "lst_test_file = [f for f in lst_file if 'test' in f]\n",
        "\n",
        "train_default_df = pd.DataFrame()\n",
        "test_default_df = pd.DataFrame()"
      ],
      "metadata": {
        "id": "4LsW_JgLcznJ"
      },
      "execution_count": null,
      "outputs": []
    },
    {
      "cell_type": "code",
      "source": [
        "%%time\n",
        "for f in lst_train_file:\n",
        "    col = f[:-4]\n",
        "    if col == 'train_fullVisitorId':\n",
        "        train_default_df[col] = pd.read_csv(f, names = ['index', col], dtype=str).set_index('index')[col].to_list()\n",
        "    else:\n",
        "        train_default_df[col] = pd.read_csv(f, names = ['index', col],).set_index('index')[col]\n",
        "\n",
        "train_df = train_default_df.copy()\n",
        "train_df.columns = [c[6:] for c in train_df.columns]\n",
        "train_df.head(2)"
      ],
      "metadata": {
        "id": "x1yL9_YQPYAl",
        "colab": {
          "base_uri": "https://localhost:8080/",
          "height": 294
        },
        "outputId": "f1be279c-d41f-4c1b-a7de-377b7b2a3d3c"
      },
      "execution_count": null,
      "outputs": [
        {
          "output_type": "stream",
          "name": "stdout",
          "text": [
            "CPU times: user 27 s, sys: 3.65 s, total: 30.7 s\n",
            "Wall time: 52 s\n"
          ]
        },
        {
          "output_type": "execute_result",
          "data": {
            "text/plain": [
              "      channelGrouping                            customDimensions      date  \\\n",
              "index                                                                         \n",
              "0      Organic Search           [{'index': '4', 'value': 'EMEA'}]  20171016   \n",
              "1            Referral  [{'index': '4', 'value': 'North America'}]  20171016   \n",
              "\n",
              "      device.browser          device.browserVersion  \\\n",
              "index                                                 \n",
              "0            Firefox  not available in demo dataset   \n",
              "1             Chrome  not available in demo dataset   \n",
              "\n",
              "                  device.browserSize device.deviceCategory  \\\n",
              "index                                                        \n",
              "0      not available in demo dataset               desktop   \n",
              "1      not available in demo dataset               desktop   \n",
              "\n",
              "                 device.flashVersion  device.isMobile  \\\n",
              "index                                                   \n",
              "0      not available in demo dataset            False   \n",
              "1      not available in demo dataset            False   \n",
              "\n",
              "                     device.language    device.mobileDeviceBranding  \\\n",
              "index                                                                 \n",
              "0      not available in demo dataset  not available in demo dataset   \n",
              "1      not available in demo dataset  not available in demo dataset   \n",
              "\n",
              "             device.mobileDeviceInfo       device.mobileDeviceModel  \\\n",
              "index                                                                 \n",
              "0      not available in demo dataset  not available in demo dataset   \n",
              "1      not available in demo dataset  not available in demo dataset   \n",
              "\n",
              "      device.mobileDeviceMarketingName device.operatingSystem  \\\n",
              "index                                                           \n",
              "0        not available in demo dataset                Windows   \n",
              "1        not available in demo dataset              Chrome OS   \n",
              "\n",
              "          device.mobileInputSelector  device.operatingSystemVersion  \\\n",
              "index                                                                 \n",
              "0      not available in demo dataset  not available in demo dataset   \n",
              "1      not available in demo dataset  not available in demo dataset   \n",
              "\n",
              "                 device.screenColors        device.screenResolution  \\\n",
              "index                                                                 \n",
              "0      not available in demo dataset  not available in demo dataset   \n",
              "1      not available in demo dataset  not available in demo dataset   \n",
              "\n",
              "             fullVisitorId                geoNetwork.city  \\\n",
              "index                                                       \n",
              "0      3162355547410993243  not available in demo dataset   \n",
              "1      8934116514970143966                      Cupertino   \n",
              "\n",
              "                   geoNetwork.cityId geoNetwork.continent geoNetwork.country  \\\n",
              "index                                                                          \n",
              "0      not available in demo dataset               Europe            Germany   \n",
              "1      not available in demo dataset             Americas      United States   \n",
              "\n",
              "                geoNetwork.longitude            geoNetwork.latitude  \\\n",
              "index                                                                 \n",
              "0      not available in demo dataset  not available in demo dataset   \n",
              "1      not available in demo dataset  not available in demo dataset   \n",
              "\n",
              "                        geoNetwork.metro geoNetwork.networkDomain  \\\n",
              "index                                                               \n",
              "0          not available in demo dataset                (not set)   \n",
              "1      San Francisco-Oakland-San Jose CA                (not set)   \n",
              "\n",
              "          geoNetwork.networkLocation              geoNetwork.region  \\\n",
              "index                                                                 \n",
              "0      not available in demo dataset  not available in demo dataset   \n",
              "1      not available in demo dataset                     California   \n",
              "\n",
              "      geoNetwork.subContinent  socialEngagementType  totals.bounces  \\\n",
              "index                                                                 \n",
              "0              Western Europe  Not Socially Engaged             1.0   \n",
              "1            Northern America  Not Socially Engaged             NaN   \n",
              "\n",
              "       totals.hits  totals.newVisits  totals.pageviews  \\\n",
              "index                                                    \n",
              "0                1               1.0               1.0   \n",
              "1                2               NaN               2.0   \n",
              "\n",
              "       totals.sessionQualityDim  totals.timeOnSite  \\\n",
              "index                                                \n",
              "0                           1.0                NaN   \n",
              "1                           2.0               28.0   \n",
              "\n",
              "       totals.totalTransactionRevenue  totals.transactionRevenue  \\\n",
              "index                                                              \n",
              "0                                 NaN                        NaN   \n",
              "1                                 NaN                        NaN   \n",
              "\n",
              "       totals.transactions  totals.visits trafficSource.adContent  \\\n",
              "index                                                               \n",
              "0                      NaN              1                     NaN   \n",
              "1                      NaN              1                     NaN   \n",
              "\n",
              "      trafficSource.adwordsClickInfo.adNetworkType  \\\n",
              "index                                                \n",
              "0                                              NaN   \n",
              "1                                              NaN   \n",
              "\n",
              "      trafficSource.adwordsClickInfo.criteriaParameters  \\\n",
              "index                                                     \n",
              "0                         not available in demo dataset   \n",
              "1                         not available in demo dataset   \n",
              "\n",
              "      trafficSource.adwordsClickInfo.gclId  \\\n",
              "index                                        \n",
              "0                                      NaN   \n",
              "1                                      NaN   \n",
              "\n",
              "       trafficSource.adwordsClickInfo.page  \\\n",
              "index                                        \n",
              "0                                      NaN   \n",
              "1                                      NaN   \n",
              "\n",
              "      trafficSource.adwordsClickInfo.isVideoAd  \\\n",
              "index                                            \n",
              "0                                          NaN   \n",
              "1                                          NaN   \n",
              "\n",
              "      trafficSource.adwordsClickInfo.slot trafficSource.campaign  \\\n",
              "index                                                              \n",
              "0                                     NaN              (not set)   \n",
              "1                                     NaN              (not set)   \n",
              "\n",
              "      trafficSource.campaignCode trafficSource.isTrueDirect  \\\n",
              "index                                                         \n",
              "0                            NaN                        NaN   \n",
              "1                            NaN                        NaN   \n",
              "\n",
              "      trafficSource.keyword trafficSource.medium  \\\n",
              "index                                              \n",
              "0              water bottle              organic   \n",
              "1                       NaN             referral   \n",
              "\n",
              "                                             trafficSource.referralPath  \\\n",
              "index                                                                     \n",
              "0                                                                   NaN   \n",
              "1      /a/google.com/transportation/mtv-services/bikes/bike2workmay2016   \n",
              "\n",
              "      trafficSource.source     visitId  visitNumber  visitStartTime  \n",
              "index                                                                \n",
              "0                   google  1508198450            1      1508198450  \n",
              "1         sites.google.com  1508176307            6      1508176307  "
            ],
            "text/html": [
              "\n",
              "  <div id=\"df-76559679-e2b4-442f-bce7-af5bcf9ef87e\">\n",
              "    <div class=\"colab-df-container\">\n",
              "      <div>\n",
              "<style scoped>\n",
              "    .dataframe tbody tr th:only-of-type {\n",
              "        vertical-align: middle;\n",
              "    }\n",
              "\n",
              "    .dataframe tbody tr th {\n",
              "        vertical-align: top;\n",
              "    }\n",
              "\n",
              "    .dataframe thead th {\n",
              "        text-align: right;\n",
              "    }\n",
              "</style>\n",
              "<table border=\"1\" class=\"dataframe\">\n",
              "  <thead>\n",
              "    <tr style=\"text-align: right;\">\n",
              "      <th></th>\n",
              "      <th>channelGrouping</th>\n",
              "      <th>customDimensions</th>\n",
              "      <th>date</th>\n",
              "      <th>device.browser</th>\n",
              "      <th>device.browserVersion</th>\n",
              "      <th>device.browserSize</th>\n",
              "      <th>device.deviceCategory</th>\n",
              "      <th>device.flashVersion</th>\n",
              "      <th>device.isMobile</th>\n",
              "      <th>device.language</th>\n",
              "      <th>device.mobileDeviceBranding</th>\n",
              "      <th>device.mobileDeviceInfo</th>\n",
              "      <th>device.mobileDeviceModel</th>\n",
              "      <th>device.mobileDeviceMarketingName</th>\n",
              "      <th>device.operatingSystem</th>\n",
              "      <th>device.mobileInputSelector</th>\n",
              "      <th>device.operatingSystemVersion</th>\n",
              "      <th>device.screenColors</th>\n",
              "      <th>device.screenResolution</th>\n",
              "      <th>fullVisitorId</th>\n",
              "      <th>geoNetwork.city</th>\n",
              "      <th>geoNetwork.cityId</th>\n",
              "      <th>geoNetwork.continent</th>\n",
              "      <th>geoNetwork.country</th>\n",
              "      <th>geoNetwork.longitude</th>\n",
              "      <th>geoNetwork.latitude</th>\n",
              "      <th>geoNetwork.metro</th>\n",
              "      <th>geoNetwork.networkDomain</th>\n",
              "      <th>geoNetwork.networkLocation</th>\n",
              "      <th>geoNetwork.region</th>\n",
              "      <th>geoNetwork.subContinent</th>\n",
              "      <th>socialEngagementType</th>\n",
              "      <th>totals.bounces</th>\n",
              "      <th>totals.hits</th>\n",
              "      <th>totals.newVisits</th>\n",
              "      <th>totals.pageviews</th>\n",
              "      <th>totals.sessionQualityDim</th>\n",
              "      <th>totals.timeOnSite</th>\n",
              "      <th>totals.totalTransactionRevenue</th>\n",
              "      <th>totals.transactionRevenue</th>\n",
              "      <th>totals.transactions</th>\n",
              "      <th>totals.visits</th>\n",
              "      <th>trafficSource.adContent</th>\n",
              "      <th>trafficSource.adwordsClickInfo.adNetworkType</th>\n",
              "      <th>trafficSource.adwordsClickInfo.criteriaParameters</th>\n",
              "      <th>trafficSource.adwordsClickInfo.gclId</th>\n",
              "      <th>trafficSource.adwordsClickInfo.page</th>\n",
              "      <th>trafficSource.adwordsClickInfo.isVideoAd</th>\n",
              "      <th>trafficSource.adwordsClickInfo.slot</th>\n",
              "      <th>trafficSource.campaign</th>\n",
              "      <th>trafficSource.campaignCode</th>\n",
              "      <th>trafficSource.isTrueDirect</th>\n",
              "      <th>trafficSource.keyword</th>\n",
              "      <th>trafficSource.medium</th>\n",
              "      <th>trafficSource.referralPath</th>\n",
              "      <th>trafficSource.source</th>\n",
              "      <th>visitId</th>\n",
              "      <th>visitNumber</th>\n",
              "      <th>visitStartTime</th>\n",
              "    </tr>\n",
              "    <tr>\n",
              "      <th>index</th>\n",
              "      <th></th>\n",
              "      <th></th>\n",
              "      <th></th>\n",
              "      <th></th>\n",
              "      <th></th>\n",
              "      <th></th>\n",
              "      <th></th>\n",
              "      <th></th>\n",
              "      <th></th>\n",
              "      <th></th>\n",
              "      <th></th>\n",
              "      <th></th>\n",
              "      <th></th>\n",
              "      <th></th>\n",
              "      <th></th>\n",
              "      <th></th>\n",
              "      <th></th>\n",
              "      <th></th>\n",
              "      <th></th>\n",
              "      <th></th>\n",
              "      <th></th>\n",
              "      <th></th>\n",
              "      <th></th>\n",
              "      <th></th>\n",
              "      <th></th>\n",
              "      <th></th>\n",
              "      <th></th>\n",
              "      <th></th>\n",
              "      <th></th>\n",
              "      <th></th>\n",
              "      <th></th>\n",
              "      <th></th>\n",
              "      <th></th>\n",
              "      <th></th>\n",
              "      <th></th>\n",
              "      <th></th>\n",
              "      <th></th>\n",
              "      <th></th>\n",
              "      <th></th>\n",
              "      <th></th>\n",
              "      <th></th>\n",
              "      <th></th>\n",
              "      <th></th>\n",
              "      <th></th>\n",
              "      <th></th>\n",
              "      <th></th>\n",
              "      <th></th>\n",
              "      <th></th>\n",
              "      <th></th>\n",
              "      <th></th>\n",
              "      <th></th>\n",
              "      <th></th>\n",
              "      <th></th>\n",
              "      <th></th>\n",
              "      <th></th>\n",
              "      <th></th>\n",
              "      <th></th>\n",
              "      <th></th>\n",
              "      <th></th>\n",
              "    </tr>\n",
              "  </thead>\n",
              "  <tbody>\n",
              "    <tr>\n",
              "      <th>0</th>\n",
              "      <td>Organic Search</td>\n",
              "      <td>[{'index': '4', 'value': 'EMEA'}]</td>\n",
              "      <td>20171016</td>\n",
              "      <td>Firefox</td>\n",
              "      <td>not available in demo dataset</td>\n",
              "      <td>not available in demo dataset</td>\n",
              "      <td>desktop</td>\n",
              "      <td>not available in demo dataset</td>\n",
              "      <td>False</td>\n",
              "      <td>not available in demo dataset</td>\n",
              "      <td>not available in demo dataset</td>\n",
              "      <td>not available in demo dataset</td>\n",
              "      <td>not available in demo dataset</td>\n",
              "      <td>not available in demo dataset</td>\n",
              "      <td>Windows</td>\n",
              "      <td>not available in demo dataset</td>\n",
              "      <td>not available in demo dataset</td>\n",
              "      <td>not available in demo dataset</td>\n",
              "      <td>not available in demo dataset</td>\n",
              "      <td>3162355547410993243</td>\n",
              "      <td>not available in demo dataset</td>\n",
              "      <td>not available in demo dataset</td>\n",
              "      <td>Europe</td>\n",
              "      <td>Germany</td>\n",
              "      <td>not available in demo dataset</td>\n",
              "      <td>not available in demo dataset</td>\n",
              "      <td>not available in demo dataset</td>\n",
              "      <td>(not set)</td>\n",
              "      <td>not available in demo dataset</td>\n",
              "      <td>not available in demo dataset</td>\n",
              "      <td>Western Europe</td>\n",
              "      <td>Not Socially Engaged</td>\n",
              "      <td>1.0</td>\n",
              "      <td>1</td>\n",
              "      <td>1.0</td>\n",
              "      <td>1.0</td>\n",
              "      <td>1.0</td>\n",
              "      <td>NaN</td>\n",
              "      <td>NaN</td>\n",
              "      <td>NaN</td>\n",
              "      <td>NaN</td>\n",
              "      <td>1</td>\n",
              "      <td>NaN</td>\n",
              "      <td>NaN</td>\n",
              "      <td>not available in demo dataset</td>\n",
              "      <td>NaN</td>\n",
              "      <td>NaN</td>\n",
              "      <td>NaN</td>\n",
              "      <td>NaN</td>\n",
              "      <td>(not set)</td>\n",
              "      <td>NaN</td>\n",
              "      <td>NaN</td>\n",
              "      <td>water bottle</td>\n",
              "      <td>organic</td>\n",
              "      <td>NaN</td>\n",
              "      <td>google</td>\n",
              "      <td>1508198450</td>\n",
              "      <td>1</td>\n",
              "      <td>1508198450</td>\n",
              "    </tr>\n",
              "    <tr>\n",
              "      <th>1</th>\n",
              "      <td>Referral</td>\n",
              "      <td>[{'index': '4', 'value': 'North America'}]</td>\n",
              "      <td>20171016</td>\n",
              "      <td>Chrome</td>\n",
              "      <td>not available in demo dataset</td>\n",
              "      <td>not available in demo dataset</td>\n",
              "      <td>desktop</td>\n",
              "      <td>not available in demo dataset</td>\n",
              "      <td>False</td>\n",
              "      <td>not available in demo dataset</td>\n",
              "      <td>not available in demo dataset</td>\n",
              "      <td>not available in demo dataset</td>\n",
              "      <td>not available in demo dataset</td>\n",
              "      <td>not available in demo dataset</td>\n",
              "      <td>Chrome OS</td>\n",
              "      <td>not available in demo dataset</td>\n",
              "      <td>not available in demo dataset</td>\n",
              "      <td>not available in demo dataset</td>\n",
              "      <td>not available in demo dataset</td>\n",
              "      <td>8934116514970143966</td>\n",
              "      <td>Cupertino</td>\n",
              "      <td>not available in demo dataset</td>\n",
              "      <td>Americas</td>\n",
              "      <td>United States</td>\n",
              "      <td>not available in demo dataset</td>\n",
              "      <td>not available in demo dataset</td>\n",
              "      <td>San Francisco-Oakland-San Jose CA</td>\n",
              "      <td>(not set)</td>\n",
              "      <td>not available in demo dataset</td>\n",
              "      <td>California</td>\n",
              "      <td>Northern America</td>\n",
              "      <td>Not Socially Engaged</td>\n",
              "      <td>NaN</td>\n",
              "      <td>2</td>\n",
              "      <td>NaN</td>\n",
              "      <td>2.0</td>\n",
              "      <td>2.0</td>\n",
              "      <td>28.0</td>\n",
              "      <td>NaN</td>\n",
              "      <td>NaN</td>\n",
              "      <td>NaN</td>\n",
              "      <td>1</td>\n",
              "      <td>NaN</td>\n",
              "      <td>NaN</td>\n",
              "      <td>not available in demo dataset</td>\n",
              "      <td>NaN</td>\n",
              "      <td>NaN</td>\n",
              "      <td>NaN</td>\n",
              "      <td>NaN</td>\n",
              "      <td>(not set)</td>\n",
              "      <td>NaN</td>\n",
              "      <td>NaN</td>\n",
              "      <td>NaN</td>\n",
              "      <td>referral</td>\n",
              "      <td>/a/google.com/transportation/mtv-services/bikes/bike2workmay2016</td>\n",
              "      <td>sites.google.com</td>\n",
              "      <td>1508176307</td>\n",
              "      <td>6</td>\n",
              "      <td>1508176307</td>\n",
              "    </tr>\n",
              "  </tbody>\n",
              "</table>\n",
              "</div>\n",
              "      <button class=\"colab-df-convert\" onclick=\"convertToInteractive('df-76559679-e2b4-442f-bce7-af5bcf9ef87e')\"\n",
              "              title=\"Convert this dataframe to an interactive table.\"\n",
              "              style=\"display:none;\">\n",
              "        \n",
              "  <svg xmlns=\"http://www.w3.org/2000/svg\" height=\"24px\"viewBox=\"0 0 24 24\"\n",
              "       width=\"24px\">\n",
              "    <path d=\"M0 0h24v24H0V0z\" fill=\"none\"/>\n",
              "    <path d=\"M18.56 5.44l.94 2.06.94-2.06 2.06-.94-2.06-.94-.94-2.06-.94 2.06-2.06.94zm-11 1L8.5 8.5l.94-2.06 2.06-.94-2.06-.94L8.5 2.5l-.94 2.06-2.06.94zm10 10l.94 2.06.94-2.06 2.06-.94-2.06-.94-.94-2.06-.94 2.06-2.06.94z\"/><path d=\"M17.41 7.96l-1.37-1.37c-.4-.4-.92-.59-1.43-.59-.52 0-1.04.2-1.43.59L10.3 9.45l-7.72 7.72c-.78.78-.78 2.05 0 2.83L4 21.41c.39.39.9.59 1.41.59.51 0 1.02-.2 1.41-.59l7.78-7.78 2.81-2.81c.8-.78.8-2.07 0-2.86zM5.41 20L4 18.59l7.72-7.72 1.47 1.35L5.41 20z\"/>\n",
              "  </svg>\n",
              "      </button>\n",
              "      \n",
              "  <style>\n",
              "    .colab-df-container {\n",
              "      display:flex;\n",
              "      flex-wrap:wrap;\n",
              "      gap: 12px;\n",
              "    }\n",
              "\n",
              "    .colab-df-convert {\n",
              "      background-color: #E8F0FE;\n",
              "      border: none;\n",
              "      border-radius: 50%;\n",
              "      cursor: pointer;\n",
              "      display: none;\n",
              "      fill: #1967D2;\n",
              "      height: 32px;\n",
              "      padding: 0 0 0 0;\n",
              "      width: 32px;\n",
              "    }\n",
              "\n",
              "    .colab-df-convert:hover {\n",
              "      background-color: #E2EBFA;\n",
              "      box-shadow: 0px 1px 2px rgba(60, 64, 67, 0.3), 0px 1px 3px 1px rgba(60, 64, 67, 0.15);\n",
              "      fill: #174EA6;\n",
              "    }\n",
              "\n",
              "    [theme=dark] .colab-df-convert {\n",
              "      background-color: #3B4455;\n",
              "      fill: #D2E3FC;\n",
              "    }\n",
              "\n",
              "    [theme=dark] .colab-df-convert:hover {\n",
              "      background-color: #434B5C;\n",
              "      box-shadow: 0px 1px 3px 1px rgba(0, 0, 0, 0.15);\n",
              "      filter: drop-shadow(0px 1px 2px rgba(0, 0, 0, 0.3));\n",
              "      fill: #FFFFFF;\n",
              "    }\n",
              "  </style>\n",
              "\n",
              "      <script>\n",
              "        const buttonEl =\n",
              "          document.querySelector('#df-76559679-e2b4-442f-bce7-af5bcf9ef87e button.colab-df-convert');\n",
              "        buttonEl.style.display =\n",
              "          google.colab.kernel.accessAllowed ? 'block' : 'none';\n",
              "\n",
              "        async function convertToInteractive(key) {\n",
              "          const element = document.querySelector('#df-76559679-e2b4-442f-bce7-af5bcf9ef87e');\n",
              "          const dataTable =\n",
              "            await google.colab.kernel.invokeFunction('convertToInteractive',\n",
              "                                                     [key], {});\n",
              "          if (!dataTable) return;\n",
              "\n",
              "          const docLinkHtml = 'Like what you see? Visit the ' +\n",
              "            '<a target=\"_blank\" href=https://colab.research.google.com/notebooks/data_table.ipynb>data table notebook</a>'\n",
              "            + ' to learn more about interactive tables.';\n",
              "          element.innerHTML = '';\n",
              "          dataTable['output_type'] = 'display_data';\n",
              "          await google.colab.output.renderOutput(dataTable, element);\n",
              "          const docLink = document.createElement('div');\n",
              "          docLink.innerHTML = docLinkHtml;\n",
              "          element.appendChild(docLink);\n",
              "        }\n",
              "      </script>\n",
              "    </div>\n",
              "  </div>\n",
              "  "
            ]
          },
          "metadata": {},
          "execution_count": 4
        }
      ]
    },
    {
      "cell_type": "code",
      "source": [
        "%%time\n",
        "test_default_df = pd.DataFrame()\n",
        "for f in lst_test_file:\n",
        "    col = f[:-4]\n",
        "    if col == 'test_fullVisitorId':\n",
        "        test_default_df[col] = pd.read_csv(f, names=['index', col], dtype=str).set_index('index')[col].to_list()\n",
        "    else:\n",
        "        test_default_df[col] = pd.read_csv(f, names=['index', col]).set_index('index')[col]\n",
        "\n",
        "test_df = test_default_df.copy()\n",
        "test_df.columns = [c[5:] for c in test_df.columns]\n",
        "# test_df.head(2)"
      ],
      "metadata": {
        "id": "jrgNe6IHQUqi",
        "colab": {
          "base_uri": "https://localhost:8080/"
        },
        "outputId": "11d4ab6b-0dfe-4b77-db18-9f44129a1f25"
      },
      "execution_count": null,
      "outputs": [
        {
          "output_type": "stream",
          "name": "stdout",
          "text": [
            "CPU times: user 6.96 s, sys: 932 ms, total: 7.89 s\n",
            "Wall time: 8.63 s\n"
          ]
        }
      ]
    },
    {
      "cell_type": "markdown",
      "source": [
        "## 4.2 Drop bad columns"
      ],
      "metadata": {
        "id": "zK61r82CYQXA"
      }
    },
    {
      "cell_type": "markdown",
      "source": [
        "### 4.2.1 Columns with only 1 value"
      ],
      "metadata": {
        "id": "zoc9cJXg0hSL"
      }
    },
    {
      "cell_type": "code",
      "source": [
        "only_1_lst = [col for col in train_df.columns \n",
        "                    if len(train_df[col].value_counts(dropna=False)) == 1]\n",
        "train_df[only_1_lst].head()"
      ],
      "metadata": {
        "id": "wOw2isGmb1jM",
        "colab": {
          "base_uri": "https://localhost:8080/",
          "height": 388
        },
        "outputId": "c35e82f4-d21e-4de7-d9bf-2718feb1b241"
      },
      "execution_count": null,
      "outputs": [
        {
          "output_type": "execute_result",
          "data": {
            "text/plain": [
              "               device.browserVersion             device.browserSize  \\\n",
              "index                                                                 \n",
              "0      not available in demo dataset  not available in demo dataset   \n",
              "1      not available in demo dataset  not available in demo dataset   \n",
              "2      not available in demo dataset  not available in demo dataset   \n",
              "3      not available in demo dataset  not available in demo dataset   \n",
              "4      not available in demo dataset  not available in demo dataset   \n",
              "\n",
              "                 device.flashVersion                device.language  \\\n",
              "index                                                                 \n",
              "0      not available in demo dataset  not available in demo dataset   \n",
              "1      not available in demo dataset  not available in demo dataset   \n",
              "2      not available in demo dataset  not available in demo dataset   \n",
              "3      not available in demo dataset  not available in demo dataset   \n",
              "4      not available in demo dataset  not available in demo dataset   \n",
              "\n",
              "         device.mobileDeviceBranding        device.mobileDeviceInfo  \\\n",
              "index                                                                 \n",
              "0      not available in demo dataset  not available in demo dataset   \n",
              "1      not available in demo dataset  not available in demo dataset   \n",
              "2      not available in demo dataset  not available in demo dataset   \n",
              "3      not available in demo dataset  not available in demo dataset   \n",
              "4      not available in demo dataset  not available in demo dataset   \n",
              "\n",
              "            device.mobileDeviceModel device.mobileDeviceMarketingName  \\\n",
              "index                                                                   \n",
              "0      not available in demo dataset    not available in demo dataset   \n",
              "1      not available in demo dataset    not available in demo dataset   \n",
              "2      not available in demo dataset    not available in demo dataset   \n",
              "3      not available in demo dataset    not available in demo dataset   \n",
              "4      not available in demo dataset    not available in demo dataset   \n",
              "\n",
              "          device.mobileInputSelector  device.operatingSystemVersion  \\\n",
              "index                                                                 \n",
              "0      not available in demo dataset  not available in demo dataset   \n",
              "1      not available in demo dataset  not available in demo dataset   \n",
              "2      not available in demo dataset  not available in demo dataset   \n",
              "3      not available in demo dataset  not available in demo dataset   \n",
              "4      not available in demo dataset  not available in demo dataset   \n",
              "\n",
              "                 device.screenColors        device.screenResolution  \\\n",
              "index                                                                 \n",
              "0      not available in demo dataset  not available in demo dataset   \n",
              "1      not available in demo dataset  not available in demo dataset   \n",
              "2      not available in demo dataset  not available in demo dataset   \n",
              "3      not available in demo dataset  not available in demo dataset   \n",
              "4      not available in demo dataset  not available in demo dataset   \n",
              "\n",
              "                   geoNetwork.cityId           geoNetwork.longitude  \\\n",
              "index                                                                 \n",
              "0      not available in demo dataset  not available in demo dataset   \n",
              "1      not available in demo dataset  not available in demo dataset   \n",
              "2      not available in demo dataset  not available in demo dataset   \n",
              "3      not available in demo dataset  not available in demo dataset   \n",
              "4      not available in demo dataset  not available in demo dataset   \n",
              "\n",
              "                 geoNetwork.latitude     geoNetwork.networkLocation  \\\n",
              "index                                                                 \n",
              "0      not available in demo dataset  not available in demo dataset   \n",
              "1      not available in demo dataset  not available in demo dataset   \n",
              "2      not available in demo dataset  not available in demo dataset   \n",
              "3      not available in demo dataset  not available in demo dataset   \n",
              "4      not available in demo dataset  not available in demo dataset   \n",
              "\n",
              "       socialEngagementType  totals.visits  \\\n",
              "index                                        \n",
              "0      Not Socially Engaged              1   \n",
              "1      Not Socially Engaged              1   \n",
              "2      Not Socially Engaged              1   \n",
              "3      Not Socially Engaged              1   \n",
              "4      Not Socially Engaged              1   \n",
              "\n",
              "      trafficSource.adwordsClickInfo.criteriaParameters  \n",
              "index                                                    \n",
              "0                         not available in demo dataset  \n",
              "1                         not available in demo dataset  \n",
              "2                         not available in demo dataset  \n",
              "3                         not available in demo dataset  \n",
              "4                         not available in demo dataset  "
            ],
            "text/html": [
              "\n",
              "  <div id=\"df-6278a393-4392-4bfd-b16d-3d062a85ef93\">\n",
              "    <div class=\"colab-df-container\">\n",
              "      <div>\n",
              "<style scoped>\n",
              "    .dataframe tbody tr th:only-of-type {\n",
              "        vertical-align: middle;\n",
              "    }\n",
              "\n",
              "    .dataframe tbody tr th {\n",
              "        vertical-align: top;\n",
              "    }\n",
              "\n",
              "    .dataframe thead th {\n",
              "        text-align: right;\n",
              "    }\n",
              "</style>\n",
              "<table border=\"1\" class=\"dataframe\">\n",
              "  <thead>\n",
              "    <tr style=\"text-align: right;\">\n",
              "      <th></th>\n",
              "      <th>device.browserVersion</th>\n",
              "      <th>device.browserSize</th>\n",
              "      <th>device.flashVersion</th>\n",
              "      <th>device.language</th>\n",
              "      <th>device.mobileDeviceBranding</th>\n",
              "      <th>device.mobileDeviceInfo</th>\n",
              "      <th>device.mobileDeviceModel</th>\n",
              "      <th>device.mobileDeviceMarketingName</th>\n",
              "      <th>device.mobileInputSelector</th>\n",
              "      <th>device.operatingSystemVersion</th>\n",
              "      <th>device.screenColors</th>\n",
              "      <th>device.screenResolution</th>\n",
              "      <th>geoNetwork.cityId</th>\n",
              "      <th>geoNetwork.longitude</th>\n",
              "      <th>geoNetwork.latitude</th>\n",
              "      <th>geoNetwork.networkLocation</th>\n",
              "      <th>socialEngagementType</th>\n",
              "      <th>totals.visits</th>\n",
              "      <th>trafficSource.adwordsClickInfo.criteriaParameters</th>\n",
              "    </tr>\n",
              "    <tr>\n",
              "      <th>index</th>\n",
              "      <th></th>\n",
              "      <th></th>\n",
              "      <th></th>\n",
              "      <th></th>\n",
              "      <th></th>\n",
              "      <th></th>\n",
              "      <th></th>\n",
              "      <th></th>\n",
              "      <th></th>\n",
              "      <th></th>\n",
              "      <th></th>\n",
              "      <th></th>\n",
              "      <th></th>\n",
              "      <th></th>\n",
              "      <th></th>\n",
              "      <th></th>\n",
              "      <th></th>\n",
              "      <th></th>\n",
              "      <th></th>\n",
              "    </tr>\n",
              "  </thead>\n",
              "  <tbody>\n",
              "    <tr>\n",
              "      <th>0</th>\n",
              "      <td>not available in demo dataset</td>\n",
              "      <td>not available in demo dataset</td>\n",
              "      <td>not available in demo dataset</td>\n",
              "      <td>not available in demo dataset</td>\n",
              "      <td>not available in demo dataset</td>\n",
              "      <td>not available in demo dataset</td>\n",
              "      <td>not available in demo dataset</td>\n",
              "      <td>not available in demo dataset</td>\n",
              "      <td>not available in demo dataset</td>\n",
              "      <td>not available in demo dataset</td>\n",
              "      <td>not available in demo dataset</td>\n",
              "      <td>not available in demo dataset</td>\n",
              "      <td>not available in demo dataset</td>\n",
              "      <td>not available in demo dataset</td>\n",
              "      <td>not available in demo dataset</td>\n",
              "      <td>not available in demo dataset</td>\n",
              "      <td>Not Socially Engaged</td>\n",
              "      <td>1</td>\n",
              "      <td>not available in demo dataset</td>\n",
              "    </tr>\n",
              "    <tr>\n",
              "      <th>1</th>\n",
              "      <td>not available in demo dataset</td>\n",
              "      <td>not available in demo dataset</td>\n",
              "      <td>not available in demo dataset</td>\n",
              "      <td>not available in demo dataset</td>\n",
              "      <td>not available in demo dataset</td>\n",
              "      <td>not available in demo dataset</td>\n",
              "      <td>not available in demo dataset</td>\n",
              "      <td>not available in demo dataset</td>\n",
              "      <td>not available in demo dataset</td>\n",
              "      <td>not available in demo dataset</td>\n",
              "      <td>not available in demo dataset</td>\n",
              "      <td>not available in demo dataset</td>\n",
              "      <td>not available in demo dataset</td>\n",
              "      <td>not available in demo dataset</td>\n",
              "      <td>not available in demo dataset</td>\n",
              "      <td>not available in demo dataset</td>\n",
              "      <td>Not Socially Engaged</td>\n",
              "      <td>1</td>\n",
              "      <td>not available in demo dataset</td>\n",
              "    </tr>\n",
              "    <tr>\n",
              "      <th>2</th>\n",
              "      <td>not available in demo dataset</td>\n",
              "      <td>not available in demo dataset</td>\n",
              "      <td>not available in demo dataset</td>\n",
              "      <td>not available in demo dataset</td>\n",
              "      <td>not available in demo dataset</td>\n",
              "      <td>not available in demo dataset</td>\n",
              "      <td>not available in demo dataset</td>\n",
              "      <td>not available in demo dataset</td>\n",
              "      <td>not available in demo dataset</td>\n",
              "      <td>not available in demo dataset</td>\n",
              "      <td>not available in demo dataset</td>\n",
              "      <td>not available in demo dataset</td>\n",
              "      <td>not available in demo dataset</td>\n",
              "      <td>not available in demo dataset</td>\n",
              "      <td>not available in demo dataset</td>\n",
              "      <td>not available in demo dataset</td>\n",
              "      <td>Not Socially Engaged</td>\n",
              "      <td>1</td>\n",
              "      <td>not available in demo dataset</td>\n",
              "    </tr>\n",
              "    <tr>\n",
              "      <th>3</th>\n",
              "      <td>not available in demo dataset</td>\n",
              "      <td>not available in demo dataset</td>\n",
              "      <td>not available in demo dataset</td>\n",
              "      <td>not available in demo dataset</td>\n",
              "      <td>not available in demo dataset</td>\n",
              "      <td>not available in demo dataset</td>\n",
              "      <td>not available in demo dataset</td>\n",
              "      <td>not available in demo dataset</td>\n",
              "      <td>not available in demo dataset</td>\n",
              "      <td>not available in demo dataset</td>\n",
              "      <td>not available in demo dataset</td>\n",
              "      <td>not available in demo dataset</td>\n",
              "      <td>not available in demo dataset</td>\n",
              "      <td>not available in demo dataset</td>\n",
              "      <td>not available in demo dataset</td>\n",
              "      <td>not available in demo dataset</td>\n",
              "      <td>Not Socially Engaged</td>\n",
              "      <td>1</td>\n",
              "      <td>not available in demo dataset</td>\n",
              "    </tr>\n",
              "    <tr>\n",
              "      <th>4</th>\n",
              "      <td>not available in demo dataset</td>\n",
              "      <td>not available in demo dataset</td>\n",
              "      <td>not available in demo dataset</td>\n",
              "      <td>not available in demo dataset</td>\n",
              "      <td>not available in demo dataset</td>\n",
              "      <td>not available in demo dataset</td>\n",
              "      <td>not available in demo dataset</td>\n",
              "      <td>not available in demo dataset</td>\n",
              "      <td>not available in demo dataset</td>\n",
              "      <td>not available in demo dataset</td>\n",
              "      <td>not available in demo dataset</td>\n",
              "      <td>not available in demo dataset</td>\n",
              "      <td>not available in demo dataset</td>\n",
              "      <td>not available in demo dataset</td>\n",
              "      <td>not available in demo dataset</td>\n",
              "      <td>not available in demo dataset</td>\n",
              "      <td>Not Socially Engaged</td>\n",
              "      <td>1</td>\n",
              "      <td>not available in demo dataset</td>\n",
              "    </tr>\n",
              "  </tbody>\n",
              "</table>\n",
              "</div>\n",
              "      <button class=\"colab-df-convert\" onclick=\"convertToInteractive('df-6278a393-4392-4bfd-b16d-3d062a85ef93')\"\n",
              "              title=\"Convert this dataframe to an interactive table.\"\n",
              "              style=\"display:none;\">\n",
              "        \n",
              "  <svg xmlns=\"http://www.w3.org/2000/svg\" height=\"24px\"viewBox=\"0 0 24 24\"\n",
              "       width=\"24px\">\n",
              "    <path d=\"M0 0h24v24H0V0z\" fill=\"none\"/>\n",
              "    <path d=\"M18.56 5.44l.94 2.06.94-2.06 2.06-.94-2.06-.94-.94-2.06-.94 2.06-2.06.94zm-11 1L8.5 8.5l.94-2.06 2.06-.94-2.06-.94L8.5 2.5l-.94 2.06-2.06.94zm10 10l.94 2.06.94-2.06 2.06-.94-2.06-.94-.94-2.06-.94 2.06-2.06.94z\"/><path d=\"M17.41 7.96l-1.37-1.37c-.4-.4-.92-.59-1.43-.59-.52 0-1.04.2-1.43.59L10.3 9.45l-7.72 7.72c-.78.78-.78 2.05 0 2.83L4 21.41c.39.39.9.59 1.41.59.51 0 1.02-.2 1.41-.59l7.78-7.78 2.81-2.81c.8-.78.8-2.07 0-2.86zM5.41 20L4 18.59l7.72-7.72 1.47 1.35L5.41 20z\"/>\n",
              "  </svg>\n",
              "      </button>\n",
              "      \n",
              "  <style>\n",
              "    .colab-df-container {\n",
              "      display:flex;\n",
              "      flex-wrap:wrap;\n",
              "      gap: 12px;\n",
              "    }\n",
              "\n",
              "    .colab-df-convert {\n",
              "      background-color: #E8F0FE;\n",
              "      border: none;\n",
              "      border-radius: 50%;\n",
              "      cursor: pointer;\n",
              "      display: none;\n",
              "      fill: #1967D2;\n",
              "      height: 32px;\n",
              "      padding: 0 0 0 0;\n",
              "      width: 32px;\n",
              "    }\n",
              "\n",
              "    .colab-df-convert:hover {\n",
              "      background-color: #E2EBFA;\n",
              "      box-shadow: 0px 1px 2px rgba(60, 64, 67, 0.3), 0px 1px 3px 1px rgba(60, 64, 67, 0.15);\n",
              "      fill: #174EA6;\n",
              "    }\n",
              "\n",
              "    [theme=dark] .colab-df-convert {\n",
              "      background-color: #3B4455;\n",
              "      fill: #D2E3FC;\n",
              "    }\n",
              "\n",
              "    [theme=dark] .colab-df-convert:hover {\n",
              "      background-color: #434B5C;\n",
              "      box-shadow: 0px 1px 3px 1px rgba(0, 0, 0, 0.15);\n",
              "      filter: drop-shadow(0px 1px 2px rgba(0, 0, 0, 0.3));\n",
              "      fill: #FFFFFF;\n",
              "    }\n",
              "  </style>\n",
              "\n",
              "      <script>\n",
              "        const buttonEl =\n",
              "          document.querySelector('#df-6278a393-4392-4bfd-b16d-3d062a85ef93 button.colab-df-convert');\n",
              "        buttonEl.style.display =\n",
              "          google.colab.kernel.accessAllowed ? 'block' : 'none';\n",
              "\n",
              "        async function convertToInteractive(key) {\n",
              "          const element = document.querySelector('#df-6278a393-4392-4bfd-b16d-3d062a85ef93');\n",
              "          const dataTable =\n",
              "            await google.colab.kernel.invokeFunction('convertToInteractive',\n",
              "                                                     [key], {});\n",
              "          if (!dataTable) return;\n",
              "\n",
              "          const docLinkHtml = 'Like what you see? Visit the ' +\n",
              "            '<a target=\"_blank\" href=https://colab.research.google.com/notebooks/data_table.ipynb>data table notebook</a>'\n",
              "            + ' to learn more about interactive tables.';\n",
              "          element.innerHTML = '';\n",
              "          dataTable['output_type'] = 'display_data';\n",
              "          await google.colab.output.renderOutput(dataTable, element);\n",
              "          const docLink = document.createElement('div');\n",
              "          docLink.innerHTML = docLinkHtml;\n",
              "          element.appendChild(docLink);\n",
              "        }\n",
              "      </script>\n",
              "    </div>\n",
              "  </div>\n",
              "  "
            ]
          },
          "metadata": {},
          "execution_count": 6
        }
      ]
    },
    {
      "cell_type": "markdown",
      "source": [
        "- Columns have `'not available in demo dataset'` are not provided in this competition.\n",
        "- Column `socialEngagementType` has `'Not Socially Engaged'` because this is an ecommerce site that does not contain any social engagement (like, loves, ...)\n",
        "- Column `totals.visits` has `1` because `1` represent for sessions with interaction events. (???)"
      ],
      "metadata": {
        "id": "Q7Zeg83hj9NE"
      }
    },
    {
      "cell_type": "code",
      "source": [
        "train_df.drop(columns = only_1_lst, inplace=True)\n",
        "test_df.drop(columns = only_1_lst, inplace=True)"
      ],
      "metadata": {
        "id": "lHNsdgazhs7V"
      },
      "execution_count": null,
      "outputs": []
    },
    {
      "cell_type": "markdown",
      "source": [
        "### 4.2.2 Handle column 'customDimensions'\n",
        "This column has a special format: List of a json -> Split it into 2 columns: `customDimensions.index` and `customDimensions.value`"
      ],
      "metadata": {
        "id": "oZz-ou5LEtg7"
      }
    },
    {
      "cell_type": "code",
      "source": [
        "train_df['customDimensions'].value_counts(dropna=False)"
      ],
      "metadata": {
        "id": "sFd4kyrrVB4d",
        "colab": {
          "base_uri": "https://localhost:8080/"
        },
        "outputId": "5a1b562c-2496-41c1-e86c-fafee2abe454"
      },
      "execution_count": null,
      "outputs": [
        {
          "output_type": "execute_result",
          "data": {
            "text/plain": [
              "[{'index': '4', 'value': 'North America'}]      768223\n",
              "[]                                              333235\n",
              "[{'index': '4', 'value': 'EMEA'}]               313991\n",
              "[{'index': '4', 'value': 'APAC'}]               222071\n",
              "[{'index': '4', 'value': 'South America'}]       45553\n",
              "[{'index': '4', 'value': 'Central America'}]     25264\n",
              "Name: customDimensions, dtype: int64"
            ]
          },
          "metadata": {},
          "execution_count": 8
        }
      ]
    },
    {
      "cell_type": "code",
      "source": [
        "def handle_customDimensions(df):\n",
        "    # convert string representation of list to a list\n",
        "    df['customDimensions'] = df['customDimensions'].apply(lambda x: ast.literal_eval(x))\n",
        "\n",
        "    # fill empty string\n",
        "    df['customDimensions'] = df['customDimensions'].apply(lambda x: x[0] if len(x)==1 else \"{}\")\n",
        "\n",
        "    # convert json string\n",
        "    splitted_df = pd.json_normalize(df['customDimensions'])\n",
        "    df[['customDimensions.' + col for col in splitted_df.columns]] = splitted_df[splitted_df.columns]\n",
        "    df.drop('customDimensions', axis=1, inplace=True)\n",
        "\n",
        "handle_customDimensions(train_df)\n",
        "handle_customDimensions(test_df)"
      ],
      "metadata": {
        "id": "i65n73EzE0J6"
      },
      "execution_count": null,
      "outputs": []
    },
    {
      "cell_type": "code",
      "source": [
        "train_df.drop('customDimensions.index', axis=1, inplace=True)\n",
        "test_df.drop('customDimensions.index', axis=1, inplace=True)"
      ],
      "metadata": {
        "id": "-ZKirqPZUzhd"
      },
      "execution_count": null,
      "outputs": []
    },
    {
      "cell_type": "code",
      "source": [
        "temp_df = train_df[['customDimensions.value', 'geoNetwork.continent']].drop_duplicates()\n",
        "temp_df = temp_df.groupby('customDimensions.value', dropna=False)['geoNetwork.continent'].apply(list).to_frame()\n",
        "temp_df"
      ],
      "metadata": {
        "id": "l5VQGwX0WYug",
        "colab": {
          "base_uri": "https://localhost:8080/",
          "height": 269
        },
        "outputId": "7295731e-3b73-4f91-84bf-5b5725479422"
      },
      "execution_count": null,
      "outputs": [
        {
          "output_type": "execute_result",
          "data": {
            "text/plain": [
              "                                                        geoNetwork.continent\n",
              "customDimensions.value                                                      \n",
              "APAC                    [Asia, Oceania, Americas, Europe, (not set), Africa]\n",
              "Central America                                           [Americas, Europe]\n",
              "EMEA                             [Europe, Asia, Americas, Africa, (not set)]\n",
              "North America           [Americas, Europe, Asia, (not set), Africa, Oceania]\n",
              "South America                                             [Americas, Europe]\n",
              "NaN                     [Europe, Asia, Americas, Oceania, (not set), Africa]"
            ],
            "text/html": [
              "\n",
              "  <div id=\"df-068e5b92-2dd3-4d96-aea9-92295513b1ea\">\n",
              "    <div class=\"colab-df-container\">\n",
              "      <div>\n",
              "<style scoped>\n",
              "    .dataframe tbody tr th:only-of-type {\n",
              "        vertical-align: middle;\n",
              "    }\n",
              "\n",
              "    .dataframe tbody tr th {\n",
              "        vertical-align: top;\n",
              "    }\n",
              "\n",
              "    .dataframe thead th {\n",
              "        text-align: right;\n",
              "    }\n",
              "</style>\n",
              "<table border=\"1\" class=\"dataframe\">\n",
              "  <thead>\n",
              "    <tr style=\"text-align: right;\">\n",
              "      <th></th>\n",
              "      <th>geoNetwork.continent</th>\n",
              "    </tr>\n",
              "    <tr>\n",
              "      <th>customDimensions.value</th>\n",
              "      <th></th>\n",
              "    </tr>\n",
              "  </thead>\n",
              "  <tbody>\n",
              "    <tr>\n",
              "      <th>APAC</th>\n",
              "      <td>[Asia, Oceania, Americas, Europe, (not set), Africa]</td>\n",
              "    </tr>\n",
              "    <tr>\n",
              "      <th>Central America</th>\n",
              "      <td>[Americas, Europe]</td>\n",
              "    </tr>\n",
              "    <tr>\n",
              "      <th>EMEA</th>\n",
              "      <td>[Europe, Asia, Americas, Africa, (not set)]</td>\n",
              "    </tr>\n",
              "    <tr>\n",
              "      <th>North America</th>\n",
              "      <td>[Americas, Europe, Asia, (not set), Africa, Oceania]</td>\n",
              "    </tr>\n",
              "    <tr>\n",
              "      <th>South America</th>\n",
              "      <td>[Americas, Europe]</td>\n",
              "    </tr>\n",
              "    <tr>\n",
              "      <th>NaN</th>\n",
              "      <td>[Europe, Asia, Americas, Oceania, (not set), Africa]</td>\n",
              "    </tr>\n",
              "  </tbody>\n",
              "</table>\n",
              "</div>\n",
              "      <button class=\"colab-df-convert\" onclick=\"convertToInteractive('df-068e5b92-2dd3-4d96-aea9-92295513b1ea')\"\n",
              "              title=\"Convert this dataframe to an interactive table.\"\n",
              "              style=\"display:none;\">\n",
              "        \n",
              "  <svg xmlns=\"http://www.w3.org/2000/svg\" height=\"24px\"viewBox=\"0 0 24 24\"\n",
              "       width=\"24px\">\n",
              "    <path d=\"M0 0h24v24H0V0z\" fill=\"none\"/>\n",
              "    <path d=\"M18.56 5.44l.94 2.06.94-2.06 2.06-.94-2.06-.94-.94-2.06-.94 2.06-2.06.94zm-11 1L8.5 8.5l.94-2.06 2.06-.94-2.06-.94L8.5 2.5l-.94 2.06-2.06.94zm10 10l.94 2.06.94-2.06 2.06-.94-2.06-.94-.94-2.06-.94 2.06-2.06.94z\"/><path d=\"M17.41 7.96l-1.37-1.37c-.4-.4-.92-.59-1.43-.59-.52 0-1.04.2-1.43.59L10.3 9.45l-7.72 7.72c-.78.78-.78 2.05 0 2.83L4 21.41c.39.39.9.59 1.41.59.51 0 1.02-.2 1.41-.59l7.78-7.78 2.81-2.81c.8-.78.8-2.07 0-2.86zM5.41 20L4 18.59l7.72-7.72 1.47 1.35L5.41 20z\"/>\n",
              "  </svg>\n",
              "      </button>\n",
              "      \n",
              "  <style>\n",
              "    .colab-df-container {\n",
              "      display:flex;\n",
              "      flex-wrap:wrap;\n",
              "      gap: 12px;\n",
              "    }\n",
              "\n",
              "    .colab-df-convert {\n",
              "      background-color: #E8F0FE;\n",
              "      border: none;\n",
              "      border-radius: 50%;\n",
              "      cursor: pointer;\n",
              "      display: none;\n",
              "      fill: #1967D2;\n",
              "      height: 32px;\n",
              "      padding: 0 0 0 0;\n",
              "      width: 32px;\n",
              "    }\n",
              "\n",
              "    .colab-df-convert:hover {\n",
              "      background-color: #E2EBFA;\n",
              "      box-shadow: 0px 1px 2px rgba(60, 64, 67, 0.3), 0px 1px 3px 1px rgba(60, 64, 67, 0.15);\n",
              "      fill: #174EA6;\n",
              "    }\n",
              "\n",
              "    [theme=dark] .colab-df-convert {\n",
              "      background-color: #3B4455;\n",
              "      fill: #D2E3FC;\n",
              "    }\n",
              "\n",
              "    [theme=dark] .colab-df-convert:hover {\n",
              "      background-color: #434B5C;\n",
              "      box-shadow: 0px 1px 3px 1px rgba(0, 0, 0, 0.15);\n",
              "      filter: drop-shadow(0px 1px 2px rgba(0, 0, 0, 0.3));\n",
              "      fill: #FFFFFF;\n",
              "    }\n",
              "  </style>\n",
              "\n",
              "      <script>\n",
              "        const buttonEl =\n",
              "          document.querySelector('#df-068e5b92-2dd3-4d96-aea9-92295513b1ea button.colab-df-convert');\n",
              "        buttonEl.style.display =\n",
              "          google.colab.kernel.accessAllowed ? 'block' : 'none';\n",
              "\n",
              "        async function convertToInteractive(key) {\n",
              "          const element = document.querySelector('#df-068e5b92-2dd3-4d96-aea9-92295513b1ea');\n",
              "          const dataTable =\n",
              "            await google.colab.kernel.invokeFunction('convertToInteractive',\n",
              "                                                     [key], {});\n",
              "          if (!dataTable) return;\n",
              "\n",
              "          const docLinkHtml = 'Like what you see? Visit the ' +\n",
              "            '<a target=\"_blank\" href=https://colab.research.google.com/notebooks/data_table.ipynb>data table notebook</a>'\n",
              "            + ' to learn more about interactive tables.';\n",
              "          element.innerHTML = '';\n",
              "          dataTable['output_type'] = 'display_data';\n",
              "          await google.colab.output.renderOutput(dataTable, element);\n",
              "          const docLink = document.createElement('div');\n",
              "          docLink.innerHTML = docLinkHtml;\n",
              "          element.appendChild(docLink);\n",
              "        }\n",
              "      </script>\n",
              "    </div>\n",
              "  </div>\n",
              "  "
            ]
          },
          "metadata": {},
          "execution_count": 11
        }
      ]
    },
    {
      "cell_type": "code",
      "source": [
        "# https://en.wikipedia.org/wiki/North_America\n",
        "temp_df = train_df[['customDimensions.value', 'geoNetwork.continent', 'geoNetwork.subContinent', 'geoNetwork.country']]\n",
        "temp_df = temp_df.drop_duplicates()\n",
        "temp_df = temp_df[(temp_df['customDimensions.value'] == 'North America') & (temp_df['geoNetwork.continent'] == 'Americas')]\n",
        "temp_df"
      ],
      "metadata": {
        "id": "sRBm3aLhetGE",
        "colab": {
          "base_uri": "https://localhost:8080/",
          "height": 426
        },
        "outputId": "e9742391-d0a1-4a14-a9f7-3e894c0884ab"
      },
      "execution_count": null,
      "outputs": [
        {
          "output_type": "execute_result",
          "data": {
            "text/plain": [
              "        customDimensions.value geoNetwork.continent geoNetwork.subContinent  \\\n",
              "index                                                                         \n",
              "1                North America             Americas        Northern America   \n",
              "14               North America             Americas        Northern America   \n",
              "19785            North America             Americas           South America   \n",
              "222928           North America             Americas           South America   \n",
              "373973           North America             Americas         Central America   \n",
              "396716           North America             Americas         Central America   \n",
              "1030353          North America             Americas           South America   \n",
              "1310915          North America             Americas               Caribbean   \n",
              "1373630          North America             Americas           South America   \n",
              "1591621          North America             Americas               Caribbean   \n",
              "1692839          North America             Americas           South America   \n",
              "\n",
              "         geoNetwork.country  \n",
              "index                        \n",
              "1             United States  \n",
              "14                   Canada  \n",
              "19785             Venezuela  \n",
              "222928             Colombia  \n",
              "373973           Costa Rica  \n",
              "396716               Mexico  \n",
              "1030353             Bolivia  \n",
              "1310915         Puerto Rico  \n",
              "1373630              Brazil  \n",
              "1591621  Dominican Republic  \n",
              "1692839           Argentina  "
            ],
            "text/html": [
              "\n",
              "  <div id=\"df-4d3bba6f-5580-4e2f-a77d-c09e248b02dc\">\n",
              "    <div class=\"colab-df-container\">\n",
              "      <div>\n",
              "<style scoped>\n",
              "    .dataframe tbody tr th:only-of-type {\n",
              "        vertical-align: middle;\n",
              "    }\n",
              "\n",
              "    .dataframe tbody tr th {\n",
              "        vertical-align: top;\n",
              "    }\n",
              "\n",
              "    .dataframe thead th {\n",
              "        text-align: right;\n",
              "    }\n",
              "</style>\n",
              "<table border=\"1\" class=\"dataframe\">\n",
              "  <thead>\n",
              "    <tr style=\"text-align: right;\">\n",
              "      <th></th>\n",
              "      <th>customDimensions.value</th>\n",
              "      <th>geoNetwork.continent</th>\n",
              "      <th>geoNetwork.subContinent</th>\n",
              "      <th>geoNetwork.country</th>\n",
              "    </tr>\n",
              "    <tr>\n",
              "      <th>index</th>\n",
              "      <th></th>\n",
              "      <th></th>\n",
              "      <th></th>\n",
              "      <th></th>\n",
              "    </tr>\n",
              "  </thead>\n",
              "  <tbody>\n",
              "    <tr>\n",
              "      <th>1</th>\n",
              "      <td>North America</td>\n",
              "      <td>Americas</td>\n",
              "      <td>Northern America</td>\n",
              "      <td>United States</td>\n",
              "    </tr>\n",
              "    <tr>\n",
              "      <th>14</th>\n",
              "      <td>North America</td>\n",
              "      <td>Americas</td>\n",
              "      <td>Northern America</td>\n",
              "      <td>Canada</td>\n",
              "    </tr>\n",
              "    <tr>\n",
              "      <th>19785</th>\n",
              "      <td>North America</td>\n",
              "      <td>Americas</td>\n",
              "      <td>South America</td>\n",
              "      <td>Venezuela</td>\n",
              "    </tr>\n",
              "    <tr>\n",
              "      <th>222928</th>\n",
              "      <td>North America</td>\n",
              "      <td>Americas</td>\n",
              "      <td>South America</td>\n",
              "      <td>Colombia</td>\n",
              "    </tr>\n",
              "    <tr>\n",
              "      <th>373973</th>\n",
              "      <td>North America</td>\n",
              "      <td>Americas</td>\n",
              "      <td>Central America</td>\n",
              "      <td>Costa Rica</td>\n",
              "    </tr>\n",
              "    <tr>\n",
              "      <th>396716</th>\n",
              "      <td>North America</td>\n",
              "      <td>Americas</td>\n",
              "      <td>Central America</td>\n",
              "      <td>Mexico</td>\n",
              "    </tr>\n",
              "    <tr>\n",
              "      <th>1030353</th>\n",
              "      <td>North America</td>\n",
              "      <td>Americas</td>\n",
              "      <td>South America</td>\n",
              "      <td>Bolivia</td>\n",
              "    </tr>\n",
              "    <tr>\n",
              "      <th>1310915</th>\n",
              "      <td>North America</td>\n",
              "      <td>Americas</td>\n",
              "      <td>Caribbean</td>\n",
              "      <td>Puerto Rico</td>\n",
              "    </tr>\n",
              "    <tr>\n",
              "      <th>1373630</th>\n",
              "      <td>North America</td>\n",
              "      <td>Americas</td>\n",
              "      <td>South America</td>\n",
              "      <td>Brazil</td>\n",
              "    </tr>\n",
              "    <tr>\n",
              "      <th>1591621</th>\n",
              "      <td>North America</td>\n",
              "      <td>Americas</td>\n",
              "      <td>Caribbean</td>\n",
              "      <td>Dominican Republic</td>\n",
              "    </tr>\n",
              "    <tr>\n",
              "      <th>1692839</th>\n",
              "      <td>North America</td>\n",
              "      <td>Americas</td>\n",
              "      <td>South America</td>\n",
              "      <td>Argentina</td>\n",
              "    </tr>\n",
              "  </tbody>\n",
              "</table>\n",
              "</div>\n",
              "      <button class=\"colab-df-convert\" onclick=\"convertToInteractive('df-4d3bba6f-5580-4e2f-a77d-c09e248b02dc')\"\n",
              "              title=\"Convert this dataframe to an interactive table.\"\n",
              "              style=\"display:none;\">\n",
              "        \n",
              "  <svg xmlns=\"http://www.w3.org/2000/svg\" height=\"24px\"viewBox=\"0 0 24 24\"\n",
              "       width=\"24px\">\n",
              "    <path d=\"M0 0h24v24H0V0z\" fill=\"none\"/>\n",
              "    <path d=\"M18.56 5.44l.94 2.06.94-2.06 2.06-.94-2.06-.94-.94-2.06-.94 2.06-2.06.94zm-11 1L8.5 8.5l.94-2.06 2.06-.94-2.06-.94L8.5 2.5l-.94 2.06-2.06.94zm10 10l.94 2.06.94-2.06 2.06-.94-2.06-.94-.94-2.06-.94 2.06-2.06.94z\"/><path d=\"M17.41 7.96l-1.37-1.37c-.4-.4-.92-.59-1.43-.59-.52 0-1.04.2-1.43.59L10.3 9.45l-7.72 7.72c-.78.78-.78 2.05 0 2.83L4 21.41c.39.39.9.59 1.41.59.51 0 1.02-.2 1.41-.59l7.78-7.78 2.81-2.81c.8-.78.8-2.07 0-2.86zM5.41 20L4 18.59l7.72-7.72 1.47 1.35L5.41 20z\"/>\n",
              "  </svg>\n",
              "      </button>\n",
              "      \n",
              "  <style>\n",
              "    .colab-df-container {\n",
              "      display:flex;\n",
              "      flex-wrap:wrap;\n",
              "      gap: 12px;\n",
              "    }\n",
              "\n",
              "    .colab-df-convert {\n",
              "      background-color: #E8F0FE;\n",
              "      border: none;\n",
              "      border-radius: 50%;\n",
              "      cursor: pointer;\n",
              "      display: none;\n",
              "      fill: #1967D2;\n",
              "      height: 32px;\n",
              "      padding: 0 0 0 0;\n",
              "      width: 32px;\n",
              "    }\n",
              "\n",
              "    .colab-df-convert:hover {\n",
              "      background-color: #E2EBFA;\n",
              "      box-shadow: 0px 1px 2px rgba(60, 64, 67, 0.3), 0px 1px 3px 1px rgba(60, 64, 67, 0.15);\n",
              "      fill: #174EA6;\n",
              "    }\n",
              "\n",
              "    [theme=dark] .colab-df-convert {\n",
              "      background-color: #3B4455;\n",
              "      fill: #D2E3FC;\n",
              "    }\n",
              "\n",
              "    [theme=dark] .colab-df-convert:hover {\n",
              "      background-color: #434B5C;\n",
              "      box-shadow: 0px 1px 3px 1px rgba(0, 0, 0, 0.15);\n",
              "      filter: drop-shadow(0px 1px 2px rgba(0, 0, 0, 0.3));\n",
              "      fill: #FFFFFF;\n",
              "    }\n",
              "  </style>\n",
              "\n",
              "      <script>\n",
              "        const buttonEl =\n",
              "          document.querySelector('#df-4d3bba6f-5580-4e2f-a77d-c09e248b02dc button.colab-df-convert');\n",
              "        buttonEl.style.display =\n",
              "          google.colab.kernel.accessAllowed ? 'block' : 'none';\n",
              "\n",
              "        async function convertToInteractive(key) {\n",
              "          const element = document.querySelector('#df-4d3bba6f-5580-4e2f-a77d-c09e248b02dc');\n",
              "          const dataTable =\n",
              "            await google.colab.kernel.invokeFunction('convertToInteractive',\n",
              "                                                     [key], {});\n",
              "          if (!dataTable) return;\n",
              "\n",
              "          const docLinkHtml = 'Like what you see? Visit the ' +\n",
              "            '<a target=\"_blank\" href=https://colab.research.google.com/notebooks/data_table.ipynb>data table notebook</a>'\n",
              "            + ' to learn more about interactive tables.';\n",
              "          element.innerHTML = '';\n",
              "          dataTable['output_type'] = 'display_data';\n",
              "          await google.colab.output.renderOutput(dataTable, element);\n",
              "          const docLink = document.createElement('div');\n",
              "          docLink.innerHTML = docLinkHtml;\n",
              "          element.appendChild(docLink);\n",
              "        }\n",
              "      </script>\n",
              "    </div>\n",
              "  </div>\n",
              "  "
            ]
          },
          "metadata": {},
          "execution_count": 12
        }
      ]
    },
    {
      "cell_type": "code",
      "source": [
        "train_df.drop('customDimensions.value', axis=1, inplace=True)\n",
        "test_df.drop('customDimensions.value', axis=1, inplace=True)"
      ],
      "metadata": {
        "id": "Q1p5wdYsq16i"
      },
      "execution_count": null,
      "outputs": []
    },
    {
      "cell_type": "markdown",
      "source": [
        "### 4.2.3 Handle column 'visitId'\n",
        "\n",
        "This column is used to distinguish session when it combines with `fullVisitorId` ⟶ unnecessary feature in learning model."
      ],
      "metadata": {
        "id": "p1-8QZEW2abj"
      }
    },
    {
      "cell_type": "code",
      "source": [
        "train_df.drop(columns = ['visitId'], inplace=True)\n",
        "test_df.drop(columns = ['visitId'], inplace=True)"
      ],
      "metadata": {
        "id": "cy8WVga73zRX"
      },
      "execution_count": null,
      "outputs": []
    },
    {
      "cell_type": "code",
      "source": [
        "train_df['trafficSource.campaign'].replace('(not set)', np.nan, inplace=True)\n",
        "test_df['trafficSource.campaign'].replace('(not set)', np.nan, inplace=True)"
      ],
      "metadata": {
        "id": "XApTbmzF0CwL"
      },
      "execution_count": null,
      "outputs": []
    },
    {
      "cell_type": "markdown",
      "source": [
        "### 4.2.4 Handle columns with too much `NaN`\n",
        "\n"
      ],
      "metadata": {
        "id": "pAqen6wp1Wm-"
      }
    },
    {
      "cell_type": "code",
      "source": [
        "percent_missing = train_df.isnull().sum() * 100 / len(train_df)\n",
        "percent_missing[percent_missing > 90].sort_values(ascending=False)"
      ],
      "metadata": {
        "id": "XIW6Jqawmnpo",
        "colab": {
          "base_uri": "https://localhost:8080/"
        },
        "outputId": "10327219-eb68-4671-98d6-ece6dc9f5a52"
      },
      "execution_count": null,
      "outputs": [
        {
          "output_type": "execute_result",
          "data": {
            "text/plain": [
              "trafficSource.campaignCode                      99.999941\n",
              "totals.totalTransactionRevenue                  98.916256\n",
              "totals.transactionRevenue                       98.916256\n",
              "totals.transactions                             98.913622\n",
              "trafficSource.adContent                         96.210525\n",
              "trafficSource.adwordsClickInfo.adNetworkType    95.593727\n",
              "trafficSource.adwordsClickInfo.page             95.593727\n",
              "trafficSource.adwordsClickInfo.isVideoAd        95.593727\n",
              "trafficSource.adwordsClickInfo.slot             95.593727\n",
              "trafficSource.adwordsClickInfo.gclId            95.585005\n",
              "trafficSource.campaign                          93.923272\n",
              "dtype: float64"
            ]
          },
          "metadata": {},
          "execution_count": 16
        }
      ]
    },
    {
      "cell_type": "markdown",
      "source": [
        "- Column `trafficSource.campaignCode` only exists in `train_df`.\n",
        "- Column `totals.totalTransactionRevenue`, `totals.transactions` are used in calculating the target columns ⟶ can not be dropped.\n",
        "- Column `totals.transactionRevenue` is deprecated. Based on [*source*](https://support.google.com/analytics/answer/3437719?hl=vi)\n",
        "- Other columns have many missing values ⟶ can be dropped."
      ],
      "metadata": {
        "id": "OVaq2MHMuopk"
      }
    },
    {
      "cell_type": "code",
      "source": [
        "nan_lst = percent_missing[percent_missing > 90].index.to_list()\n",
        "nan_lst.remove('totals.totalTransactionRevenue')\n",
        "nan_lst.remove('totals.transactions')\n",
        "\n",
        "train_df.drop(columns = nan_lst, inplace=True)\n",
        "\n",
        "nan_lst.remove('trafficSource.campaignCode')\n",
        "test_df.drop(columns = nan_lst, inplace=True)"
      ],
      "metadata": {
        "id": "EEFkzZihrcTL"
      },
      "execution_count": null,
      "outputs": []
    },
    {
      "cell_type": "markdown",
      "source": [
        "### 4.2.5 Handle column 'visitStartTime'\n",
        "\n",
        "This column represents unix timestamp of start_time which includes date information"
      ],
      "metadata": {
        "id": "LQP2L0WV587q"
      }
    },
    {
      "cell_type": "code",
      "source": [
        "train_df.drop('visitStartTime', axis=1, inplace=True)\n",
        "test_df.drop('visitStartTime', axis=1, inplace=True)"
      ],
      "metadata": {
        "id": "txp-kQMz6CMm"
      },
      "execution_count": null,
      "outputs": []
    },
    {
      "cell_type": "markdown",
      "source": [
        "### 4.2.6 Handle column 'geoNetwork.networkDomain'\n",
        "High cardinality categorical column"
      ],
      "metadata": {
        "id": "yU6CS9pfgOj_"
      }
    },
    {
      "cell_type": "code",
      "source": [
        "train_df.drop('geoNetwork.networkDomain', axis=1, inplace=True)\n",
        "test_df.drop('geoNetwork.networkDomain', axis=1, inplace=True)"
      ],
      "metadata": {
        "id": "qxJS5sbMhDKZ"
      },
      "execution_count": null,
      "outputs": []
    },
    {
      "cell_type": "markdown",
      "source": [
        "## 4.3 Handle missing value\n"
      ],
      "metadata": {
        "id": "_VaAZCPcXkjQ"
      }
    },
    {
      "cell_type": "markdown",
      "source": [
        "### 4.3.1 Categorical columns"
      ],
      "metadata": {
        "id": "mlczwBgQOL45"
      }
    },
    {
      "cell_type": "code",
      "source": [
        "cat_cols = train_df.select_dtypes(include=['object']).columns.tolist()\n",
        "percent_missing = train_df[cat_cols].isnull().sum() * 100 / len(train_df)\n",
        "percent_missing.sort_values(ascending=False)"
      ],
      "metadata": {
        "id": "BhNnpPM6-_OC",
        "colab": {
          "base_uri": "https://localhost:8080/"
        },
        "outputId": "a47387f9-9d0a-4e45-c3ba-92e76b69d56b"
      },
      "execution_count": null,
      "outputs": [
        {
          "output_type": "execute_result",
          "data": {
            "text/plain": [
              "trafficSource.isTrueDirect    68.711209\n",
              "trafficSource.referralPath    66.852910\n",
              "trafficSource.keyword         61.626014\n",
              "channelGrouping                0.000000\n",
              "device.browser                 0.000000\n",
              "device.deviceCategory          0.000000\n",
              "device.operatingSystem         0.000000\n",
              "fullVisitorId                  0.000000\n",
              "geoNetwork.city                0.000000\n",
              "geoNetwork.continent           0.000000\n",
              "geoNetwork.country             0.000000\n",
              "geoNetwork.metro               0.000000\n",
              "geoNetwork.region              0.000000\n",
              "geoNetwork.subContinent        0.000000\n",
              "trafficSource.medium           0.000000\n",
              "trafficSource.source           0.000000\n",
              "dtype: float64"
            ]
          },
          "metadata": {},
          "execution_count": 20
        }
      ]
    },
    {
      "cell_type": "markdown",
      "source": [
        "- column 'trafficSource.isTrueDirect' is Boolean column -> convert [True/False] to [1/0]\n",
        "- column 'trafficSource.referralPath' has NaN when 'trafficSource.medium' is \"referral\" -> don't need to use it.\n",
        "- column 'trafficSource.keyword' cannot fill NaN because we cannot understand it (by somehow it's different from 'not set' and 'not provided') -> we don't use it. "
      ],
      "metadata": {
        "id": "p6uPYKcKm39b"
      }
    },
    {
      "cell_type": "code",
      "source": [
        "def handle_category(df):\n",
        "    df['trafficSource.isTrueDirect'] = df['trafficSource.isTrueDirect'].replace(True, 1)\n",
        "    df.drop('trafficSource.referralPath', axis=1, inplace=True)\n",
        "    df.drop('trafficSource.keyword',axis=1, inplace=True)\n",
        "\n",
        "handle_category(train_df)\n",
        "handle_category(test_df)"
      ],
      "metadata": {
        "id": "5HKzDeDGCDYE"
      },
      "execution_count": null,
      "outputs": []
    },
    {
      "cell_type": "markdown",
      "source": [
        "### 4.3.2 Numeric columns "
      ],
      "metadata": {
        "id": "EDF7IKj1OEER"
      }
    },
    {
      "cell_type": "code",
      "source": [
        "num_cols = train_df._get_numeric_data().columns.to_list()\n",
        "percent_missing = train_df[num_cols].isnull().sum() * 100 / len(train_df)\n",
        "percent_missing.sort_values(ascending=False)"
      ],
      "metadata": {
        "id": "4ufnn6FT6WzA",
        "colab": {
          "base_uri": "https://localhost:8080/"
        },
        "outputId": "0cb782ee-9031-41af-fc15-a6117a2ef732"
      },
      "execution_count": null,
      "outputs": [
        {
          "output_type": "execute_result",
          "data": {
            "text/plain": [
              "totals.totalTransactionRevenue    98.916256\n",
              "totals.transactions               98.913622\n",
              "trafficSource.isTrueDirect        68.711209\n",
              "totals.timeOnSite                 51.178076\n",
              "totals.bounces                    48.980910\n",
              "totals.sessionQualityDim          48.893983\n",
              "totals.newVisits                  23.467676\n",
              "totals.pageviews                   0.013990\n",
              "date                               0.000000\n",
              "device.isMobile                    0.000000\n",
              "totals.hits                        0.000000\n",
              "visitNumber                        0.000000\n",
              "dtype: float64"
            ]
          },
          "metadata": {},
          "execution_count": 22
        }
      ]
    },
    {
      "cell_type": "code",
      "source": [
        "train_df[train_df['totals.pageviews'].isnull()]['totals.totalTransactionRevenue'].value_counts(dropna=False).to_frame().reset_index().rename(columns={'index': 'totalTransactionRevenue', 'totals.totalTransactionRevenue': 'value_counts'}, index={0: 'NULL pageviews'})"
      ],
      "metadata": {
        "id": "fEal9EGuYqQi",
        "colab": {
          "base_uri": "https://localhost:8080/",
          "height": 81
        },
        "outputId": "8740a69c-b210-4cc0-f04a-c2abfbd797b5"
      },
      "execution_count": null,
      "outputs": [
        {
          "output_type": "execute_result",
          "data": {
            "text/plain": [
              "                totalTransactionRevenue  value_counts\n",
              "NULL pageviews                      NaN           239"
            ],
            "text/html": [
              "\n",
              "  <div id=\"df-3ef15c63-86b0-4310-9f75-ee60c19e495e\">\n",
              "    <div class=\"colab-df-container\">\n",
              "      <div>\n",
              "<style scoped>\n",
              "    .dataframe tbody tr th:only-of-type {\n",
              "        vertical-align: middle;\n",
              "    }\n",
              "\n",
              "    .dataframe tbody tr th {\n",
              "        vertical-align: top;\n",
              "    }\n",
              "\n",
              "    .dataframe thead th {\n",
              "        text-align: right;\n",
              "    }\n",
              "</style>\n",
              "<table border=\"1\" class=\"dataframe\">\n",
              "  <thead>\n",
              "    <tr style=\"text-align: right;\">\n",
              "      <th></th>\n",
              "      <th>totalTransactionRevenue</th>\n",
              "      <th>value_counts</th>\n",
              "    </tr>\n",
              "  </thead>\n",
              "  <tbody>\n",
              "    <tr>\n",
              "      <th>NULL pageviews</th>\n",
              "      <td>NaN</td>\n",
              "      <td>239</td>\n",
              "    </tr>\n",
              "  </tbody>\n",
              "</table>\n",
              "</div>\n",
              "      <button class=\"colab-df-convert\" onclick=\"convertToInteractive('df-3ef15c63-86b0-4310-9f75-ee60c19e495e')\"\n",
              "              title=\"Convert this dataframe to an interactive table.\"\n",
              "              style=\"display:none;\">\n",
              "        \n",
              "  <svg xmlns=\"http://www.w3.org/2000/svg\" height=\"24px\"viewBox=\"0 0 24 24\"\n",
              "       width=\"24px\">\n",
              "    <path d=\"M0 0h24v24H0V0z\" fill=\"none\"/>\n",
              "    <path d=\"M18.56 5.44l.94 2.06.94-2.06 2.06-.94-2.06-.94-.94-2.06-.94 2.06-2.06.94zm-11 1L8.5 8.5l.94-2.06 2.06-.94-2.06-.94L8.5 2.5l-.94 2.06-2.06.94zm10 10l.94 2.06.94-2.06 2.06-.94-2.06-.94-.94-2.06-.94 2.06-2.06.94z\"/><path d=\"M17.41 7.96l-1.37-1.37c-.4-.4-.92-.59-1.43-.59-.52 0-1.04.2-1.43.59L10.3 9.45l-7.72 7.72c-.78.78-.78 2.05 0 2.83L4 21.41c.39.39.9.59 1.41.59.51 0 1.02-.2 1.41-.59l7.78-7.78 2.81-2.81c.8-.78.8-2.07 0-2.86zM5.41 20L4 18.59l7.72-7.72 1.47 1.35L5.41 20z\"/>\n",
              "  </svg>\n",
              "      </button>\n",
              "      \n",
              "  <style>\n",
              "    .colab-df-container {\n",
              "      display:flex;\n",
              "      flex-wrap:wrap;\n",
              "      gap: 12px;\n",
              "    }\n",
              "\n",
              "    .colab-df-convert {\n",
              "      background-color: #E8F0FE;\n",
              "      border: none;\n",
              "      border-radius: 50%;\n",
              "      cursor: pointer;\n",
              "      display: none;\n",
              "      fill: #1967D2;\n",
              "      height: 32px;\n",
              "      padding: 0 0 0 0;\n",
              "      width: 32px;\n",
              "    }\n",
              "\n",
              "    .colab-df-convert:hover {\n",
              "      background-color: #E2EBFA;\n",
              "      box-shadow: 0px 1px 2px rgba(60, 64, 67, 0.3), 0px 1px 3px 1px rgba(60, 64, 67, 0.15);\n",
              "      fill: #174EA6;\n",
              "    }\n",
              "\n",
              "    [theme=dark] .colab-df-convert {\n",
              "      background-color: #3B4455;\n",
              "      fill: #D2E3FC;\n",
              "    }\n",
              "\n",
              "    [theme=dark] .colab-df-convert:hover {\n",
              "      background-color: #434B5C;\n",
              "      box-shadow: 0px 1px 3px 1px rgba(0, 0, 0, 0.15);\n",
              "      filter: drop-shadow(0px 1px 2px rgba(0, 0, 0, 0.3));\n",
              "      fill: #FFFFFF;\n",
              "    }\n",
              "  </style>\n",
              "\n",
              "      <script>\n",
              "        const buttonEl =\n",
              "          document.querySelector('#df-3ef15c63-86b0-4310-9f75-ee60c19e495e button.colab-df-convert');\n",
              "        buttonEl.style.display =\n",
              "          google.colab.kernel.accessAllowed ? 'block' : 'none';\n",
              "\n",
              "        async function convertToInteractive(key) {\n",
              "          const element = document.querySelector('#df-3ef15c63-86b0-4310-9f75-ee60c19e495e');\n",
              "          const dataTable =\n",
              "            await google.colab.kernel.invokeFunction('convertToInteractive',\n",
              "                                                     [key], {});\n",
              "          if (!dataTable) return;\n",
              "\n",
              "          const docLinkHtml = 'Like what you see? Visit the ' +\n",
              "            '<a target=\"_blank\" href=https://colab.research.google.com/notebooks/data_table.ipynb>data table notebook</a>'\n",
              "            + ' to learn more about interactive tables.';\n",
              "          element.innerHTML = '';\n",
              "          dataTable['output_type'] = 'display_data';\n",
              "          await google.colab.output.renderOutput(dataTable, element);\n",
              "          const docLink = document.createElement('div');\n",
              "          docLink.innerHTML = docLinkHtml;\n",
              "          element.appendChild(docLink);\n",
              "        }\n",
              "      </script>\n",
              "    </div>\n",
              "  </div>\n",
              "  "
            ]
          },
          "metadata": {},
          "execution_count": 23
        }
      ]
    },
    {
      "cell_type": "markdown",
      "source": [
        "- 'pageviews': NaN is unreasonable (maybe outliers) -> drop rows with NaN pageviews"
      ],
      "metadata": {
        "id": "wB-rpx0FoLpF"
      }
    },
    {
      "cell_type": "code",
      "source": [
        "def handle_numeric(df):\n",
        "    df['totals.totalTransactionRevenue'] = df['totals.totalTransactionRevenue'].fillna(0.)\n",
        "    df['totals.transactions'] = df['totals.transactions'].fillna(0.) \n",
        "    df['trafficSource.isTrueDirect'] = df['trafficSource.isTrueDirect'].fillna(0.)\n",
        "    df['totals.timeOnSite'] = df['totals.timeOnSite'].fillna(0.) \n",
        "    df['totals.bounces'] = df['totals.bounces'].fillna(0.)\n",
        "    df['totals.sessionQualityDim'] = df['totals.sessionQualityDim'].fillna(0.)\n",
        "    df['totals.newVisits'] = df['totals.newVisits'].fillna(0.)\n",
        "    df = df[df['totals.pageviews'].notnull()]    \n",
        "handle_numeric(train_df)\n",
        "handle_numeric(test_df)"
      ],
      "metadata": {
        "id": "XNP-wGXC9-n2"
      },
      "execution_count": null,
      "outputs": []
    },
    {
      "cell_type": "code",
      "source": [
        "# boolean columns have 2 values\n",
        "train_df[[col for col in num_cols if len(train_df[col].value_counts()) == 2]]"
      ],
      "metadata": {
        "id": "gkMU5d8mKQFK",
        "colab": {
          "base_uri": "https://localhost:8080/",
          "height": 455
        },
        "outputId": "122cdd6a-d838-430c-9357-de75fdeddd0e"
      },
      "execution_count": null,
      "outputs": [
        {
          "output_type": "execute_result",
          "data": {
            "text/plain": [
              "         device.isMobile  totals.bounces  totals.newVisits  \\\n",
              "index                                                        \n",
              "0                  False             1.0               1.0   \n",
              "1                  False             0.0               0.0   \n",
              "2                   True             0.0               1.0   \n",
              "3                  False             0.0               1.0   \n",
              "4                  False             0.0               1.0   \n",
              "...                  ...             ...               ...   \n",
              "1708332            False             0.0               1.0   \n",
              "1708333             True             0.0               1.0   \n",
              "1708334             True             0.0               1.0   \n",
              "1708335            False             0.0               1.0   \n",
              "1708336             True             0.0               1.0   \n",
              "\n",
              "         trafficSource.isTrueDirect  \n",
              "index                                \n",
              "0                               0.0  \n",
              "1                               0.0  \n",
              "2                               1.0  \n",
              "3                               0.0  \n",
              "4                               0.0  \n",
              "...                             ...  \n",
              "1708332                         0.0  \n",
              "1708333                         0.0  \n",
              "1708334                         0.0  \n",
              "1708335                         0.0  \n",
              "1708336                         0.0  \n",
              "\n",
              "[1708337 rows x 4 columns]"
            ],
            "text/html": [
              "\n",
              "  <div id=\"df-e895de46-c209-4e3b-8cd5-14e5d2d1d278\">\n",
              "    <div class=\"colab-df-container\">\n",
              "      <div>\n",
              "<style scoped>\n",
              "    .dataframe tbody tr th:only-of-type {\n",
              "        vertical-align: middle;\n",
              "    }\n",
              "\n",
              "    .dataframe tbody tr th {\n",
              "        vertical-align: top;\n",
              "    }\n",
              "\n",
              "    .dataframe thead th {\n",
              "        text-align: right;\n",
              "    }\n",
              "</style>\n",
              "<table border=\"1\" class=\"dataframe\">\n",
              "  <thead>\n",
              "    <tr style=\"text-align: right;\">\n",
              "      <th></th>\n",
              "      <th>device.isMobile</th>\n",
              "      <th>totals.bounces</th>\n",
              "      <th>totals.newVisits</th>\n",
              "      <th>trafficSource.isTrueDirect</th>\n",
              "    </tr>\n",
              "    <tr>\n",
              "      <th>index</th>\n",
              "      <th></th>\n",
              "      <th></th>\n",
              "      <th></th>\n",
              "      <th></th>\n",
              "    </tr>\n",
              "  </thead>\n",
              "  <tbody>\n",
              "    <tr>\n",
              "      <th>0</th>\n",
              "      <td>False</td>\n",
              "      <td>1.0</td>\n",
              "      <td>1.0</td>\n",
              "      <td>0.0</td>\n",
              "    </tr>\n",
              "    <tr>\n",
              "      <th>1</th>\n",
              "      <td>False</td>\n",
              "      <td>0.0</td>\n",
              "      <td>0.0</td>\n",
              "      <td>0.0</td>\n",
              "    </tr>\n",
              "    <tr>\n",
              "      <th>2</th>\n",
              "      <td>True</td>\n",
              "      <td>0.0</td>\n",
              "      <td>1.0</td>\n",
              "      <td>1.0</td>\n",
              "    </tr>\n",
              "    <tr>\n",
              "      <th>3</th>\n",
              "      <td>False</td>\n",
              "      <td>0.0</td>\n",
              "      <td>1.0</td>\n",
              "      <td>0.0</td>\n",
              "    </tr>\n",
              "    <tr>\n",
              "      <th>4</th>\n",
              "      <td>False</td>\n",
              "      <td>0.0</td>\n",
              "      <td>1.0</td>\n",
              "      <td>0.0</td>\n",
              "    </tr>\n",
              "    <tr>\n",
              "      <th>...</th>\n",
              "      <td>...</td>\n",
              "      <td>...</td>\n",
              "      <td>...</td>\n",
              "      <td>...</td>\n",
              "    </tr>\n",
              "    <tr>\n",
              "      <th>1708332</th>\n",
              "      <td>False</td>\n",
              "      <td>0.0</td>\n",
              "      <td>1.0</td>\n",
              "      <td>0.0</td>\n",
              "    </tr>\n",
              "    <tr>\n",
              "      <th>1708333</th>\n",
              "      <td>True</td>\n",
              "      <td>0.0</td>\n",
              "      <td>1.0</td>\n",
              "      <td>0.0</td>\n",
              "    </tr>\n",
              "    <tr>\n",
              "      <th>1708334</th>\n",
              "      <td>True</td>\n",
              "      <td>0.0</td>\n",
              "      <td>1.0</td>\n",
              "      <td>0.0</td>\n",
              "    </tr>\n",
              "    <tr>\n",
              "      <th>1708335</th>\n",
              "      <td>False</td>\n",
              "      <td>0.0</td>\n",
              "      <td>1.0</td>\n",
              "      <td>0.0</td>\n",
              "    </tr>\n",
              "    <tr>\n",
              "      <th>1708336</th>\n",
              "      <td>True</td>\n",
              "      <td>0.0</td>\n",
              "      <td>1.0</td>\n",
              "      <td>0.0</td>\n",
              "    </tr>\n",
              "  </tbody>\n",
              "</table>\n",
              "<p>1708337 rows × 4 columns</p>\n",
              "</div>\n",
              "      <button class=\"colab-df-convert\" onclick=\"convertToInteractive('df-e895de46-c209-4e3b-8cd5-14e5d2d1d278')\"\n",
              "              title=\"Convert this dataframe to an interactive table.\"\n",
              "              style=\"display:none;\">\n",
              "        \n",
              "  <svg xmlns=\"http://www.w3.org/2000/svg\" height=\"24px\"viewBox=\"0 0 24 24\"\n",
              "       width=\"24px\">\n",
              "    <path d=\"M0 0h24v24H0V0z\" fill=\"none\"/>\n",
              "    <path d=\"M18.56 5.44l.94 2.06.94-2.06 2.06-.94-2.06-.94-.94-2.06-.94 2.06-2.06.94zm-11 1L8.5 8.5l.94-2.06 2.06-.94-2.06-.94L8.5 2.5l-.94 2.06-2.06.94zm10 10l.94 2.06.94-2.06 2.06-.94-2.06-.94-.94-2.06-.94 2.06-2.06.94z\"/><path d=\"M17.41 7.96l-1.37-1.37c-.4-.4-.92-.59-1.43-.59-.52 0-1.04.2-1.43.59L10.3 9.45l-7.72 7.72c-.78.78-.78 2.05 0 2.83L4 21.41c.39.39.9.59 1.41.59.51 0 1.02-.2 1.41-.59l7.78-7.78 2.81-2.81c.8-.78.8-2.07 0-2.86zM5.41 20L4 18.59l7.72-7.72 1.47 1.35L5.41 20z\"/>\n",
              "  </svg>\n",
              "      </button>\n",
              "      \n",
              "  <style>\n",
              "    .colab-df-container {\n",
              "      display:flex;\n",
              "      flex-wrap:wrap;\n",
              "      gap: 12px;\n",
              "    }\n",
              "\n",
              "    .colab-df-convert {\n",
              "      background-color: #E8F0FE;\n",
              "      border: none;\n",
              "      border-radius: 50%;\n",
              "      cursor: pointer;\n",
              "      display: none;\n",
              "      fill: #1967D2;\n",
              "      height: 32px;\n",
              "      padding: 0 0 0 0;\n",
              "      width: 32px;\n",
              "    }\n",
              "\n",
              "    .colab-df-convert:hover {\n",
              "      background-color: #E2EBFA;\n",
              "      box-shadow: 0px 1px 2px rgba(60, 64, 67, 0.3), 0px 1px 3px 1px rgba(60, 64, 67, 0.15);\n",
              "      fill: #174EA6;\n",
              "    }\n",
              "\n",
              "    [theme=dark] .colab-df-convert {\n",
              "      background-color: #3B4455;\n",
              "      fill: #D2E3FC;\n",
              "    }\n",
              "\n",
              "    [theme=dark] .colab-df-convert:hover {\n",
              "      background-color: #434B5C;\n",
              "      box-shadow: 0px 1px 3px 1px rgba(0, 0, 0, 0.15);\n",
              "      filter: drop-shadow(0px 1px 2px rgba(0, 0, 0, 0.3));\n",
              "      fill: #FFFFFF;\n",
              "    }\n",
              "  </style>\n",
              "\n",
              "      <script>\n",
              "        const buttonEl =\n",
              "          document.querySelector('#df-e895de46-c209-4e3b-8cd5-14e5d2d1d278 button.colab-df-convert');\n",
              "        buttonEl.style.display =\n",
              "          google.colab.kernel.accessAllowed ? 'block' : 'none';\n",
              "\n",
              "        async function convertToInteractive(key) {\n",
              "          const element = document.querySelector('#df-e895de46-c209-4e3b-8cd5-14e5d2d1d278');\n",
              "          const dataTable =\n",
              "            await google.colab.kernel.invokeFunction('convertToInteractive',\n",
              "                                                     [key], {});\n",
              "          if (!dataTable) return;\n",
              "\n",
              "          const docLinkHtml = 'Like what you see? Visit the ' +\n",
              "            '<a target=\"_blank\" href=https://colab.research.google.com/notebooks/data_table.ipynb>data table notebook</a>'\n",
              "            + ' to learn more about interactive tables.';\n",
              "          element.innerHTML = '';\n",
              "          dataTable['output_type'] = 'display_data';\n",
              "          await google.colab.output.renderOutput(dataTable, element);\n",
              "          const docLink = document.createElement('div');\n",
              "          docLink.innerHTML = docLinkHtml;\n",
              "          element.appendChild(docLink);\n",
              "        }\n",
              "      </script>\n",
              "    </div>\n",
              "  </div>\n",
              "  "
            ]
          },
          "metadata": {},
          "execution_count": 25
        }
      ]
    },
    {
      "cell_type": "code",
      "source": [
        "train_df['device.isMobile'] = train_df['device.isMobile'].astype(int)\n",
        "test_df['device.isMobile'] = test_df['device.isMobile'].astype(int)"
      ],
      "metadata": {
        "id": "wXDF7SADwGts"
      },
      "execution_count": null,
      "outputs": []
    },
    {
      "cell_type": "code",
      "source": [
        "train_df"
      ],
      "metadata": {
        "id": "w1zXk1OOQhkV",
        "colab": {
          "base_uri": "https://localhost:8080/",
          "height": 693
        },
        "outputId": "ea3fa737-8e79-4ff6-df71-1320b6c37c71"
      },
      "execution_count": null,
      "outputs": [
        {
          "output_type": "execute_result",
          "data": {
            "text/plain": [
              "        channelGrouping      date   device.browser device.deviceCategory  \\\n",
              "index                                                                      \n",
              "0        Organic Search  20171016          Firefox               desktop   \n",
              "1              Referral  20171016           Chrome               desktop   \n",
              "2                Direct  20171016           Chrome                mobile   \n",
              "3        Organic Search  20171016           Chrome               desktop   \n",
              "4        Organic Search  20171016           Chrome               desktop   \n",
              "...                 ...       ...              ...                   ...   \n",
              "1708332          Social  20170104           Chrome               desktop   \n",
              "1708333          Social  20170104           Chrome                mobile   \n",
              "1708334          Social  20170104  Android Webview                mobile   \n",
              "1708335          Social  20170104           Chrome               desktop   \n",
              "1708336          Social  20170104           Chrome                mobile   \n",
              "\n",
              "         device.isMobile device.operatingSystem        fullVisitorId  \\\n",
              "index                                                                  \n",
              "0                      0                Windows  3162355547410993243   \n",
              "1                      0              Chrome OS  8934116514970143966   \n",
              "2                      1                Android  7992466427990357681   \n",
              "3                      0                Windows  9075655783635761930   \n",
              "4                      0                Windows  6960673291025684308   \n",
              "...                  ...                    ...                  ...   \n",
              "1708332                0                Windows  5123779100307500332   \n",
              "1708333                1                Android  7231728964973959842   \n",
              "1708334                1                Android  5744576632396406899   \n",
              "1708335                0                Windows  2709355455991750775   \n",
              "1708336                1                Android  0814900163617805053   \n",
              "\n",
              "                       geoNetwork.city geoNetwork.continent  \\\n",
              "index                                                         \n",
              "0        not available in demo dataset               Europe   \n",
              "1                            Cupertino             Americas   \n",
              "2        not available in demo dataset             Americas   \n",
              "3        not available in demo dataset                 Asia   \n",
              "4        not available in demo dataset             Americas   \n",
              "...                                ...                  ...   \n",
              "1708332  not available in demo dataset             Americas   \n",
              "1708333  not available in demo dataset                 Asia   \n",
              "1708334                          Seoul                 Asia   \n",
              "1708335  not available in demo dataset                 Asia   \n",
              "1708336  not available in demo dataset             Americas   \n",
              "\n",
              "        geoNetwork.country                   geoNetwork.metro  \\\n",
              "index                                                           \n",
              "0                  Germany      not available in demo dataset   \n",
              "1            United States  San Francisco-Oakland-San Jose CA   \n",
              "2            United States      not available in demo dataset   \n",
              "3                   Turkey      not available in demo dataset   \n",
              "4                   Mexico      not available in demo dataset   \n",
              "...                    ...                                ...   \n",
              "1708332        Puerto Rico      not available in demo dataset   \n",
              "1708333          Sri Lanka      not available in demo dataset   \n",
              "1708334        South Korea                          (not set)   \n",
              "1708335          Indonesia      not available in demo dataset   \n",
              "1708336             Mexico      not available in demo dataset   \n",
              "\n",
              "                     geoNetwork.region geoNetwork.subContinent  \\\n",
              "index                                                            \n",
              "0        not available in demo dataset          Western Europe   \n",
              "1                           California        Northern America   \n",
              "2        not available in demo dataset        Northern America   \n",
              "3        not available in demo dataset            Western Asia   \n",
              "4        not available in demo dataset         Central America   \n",
              "...                                ...                     ...   \n",
              "1708332  not available in demo dataset               Caribbean   \n",
              "1708333  not available in demo dataset           Southern Asia   \n",
              "1708334                          Seoul            Eastern Asia   \n",
              "1708335  not available in demo dataset          Southeast Asia   \n",
              "1708336  not available in demo dataset         Central America   \n",
              "\n",
              "         totals.bounces  totals.hits  totals.newVisits  totals.pageviews  \\\n",
              "index                                                                      \n",
              "0                   1.0            1               1.0               1.0   \n",
              "1                   0.0            2               0.0               2.0   \n",
              "2                   0.0            2               1.0               2.0   \n",
              "3                   0.0            2               1.0               2.0   \n",
              "4                   0.0            2               1.0               2.0   \n",
              "...                 ...          ...               ...               ...   \n",
              "1708332             0.0           17               1.0              15.0   \n",
              "1708333             0.0           18               1.0              13.0   \n",
              "1708334             0.0           24               1.0              21.0   \n",
              "1708335             0.0           24               1.0              22.0   \n",
              "1708336             0.0           31               1.0              31.0   \n",
              "\n",
              "         totals.sessionQualityDim  totals.timeOnSite  \\\n",
              "index                                                  \n",
              "0                             1.0                0.0   \n",
              "1                             2.0               28.0   \n",
              "2                             1.0               38.0   \n",
              "3                             1.0                1.0   \n",
              "4                             1.0               52.0   \n",
              "...                           ...                ...   \n",
              "1708332                       0.0              626.0   \n",
              "1708333                       0.0              258.0   \n",
              "1708334                       0.0              991.0   \n",
              "1708335                       0.0             1274.0   \n",
              "1708336                       0.0             2653.0   \n",
              "\n",
              "         totals.totalTransactionRevenue  totals.transactions  \\\n",
              "index                                                          \n",
              "0                                   0.0                  0.0   \n",
              "1                                   0.0                  0.0   \n",
              "2                                   0.0                  0.0   \n",
              "3                                   0.0                  0.0   \n",
              "4                                   0.0                  0.0   \n",
              "...                                 ...                  ...   \n",
              "1708332                             0.0                  0.0   \n",
              "1708333                             0.0                  0.0   \n",
              "1708334                             0.0                  0.0   \n",
              "1708335                             0.0                  0.0   \n",
              "1708336                             0.0                  0.0   \n",
              "\n",
              "         trafficSource.isTrueDirect trafficSource.medium trafficSource.source  \\\n",
              "index                                                                           \n",
              "0                               0.0              organic               google   \n",
              "1                               0.0             referral     sites.google.com   \n",
              "2                               1.0               (none)             (direct)   \n",
              "3                               0.0              organic               google   \n",
              "4                               0.0              organic               google   \n",
              "...                             ...                  ...                  ...   \n",
              "1708332                         0.0             referral          youtube.com   \n",
              "1708333                         0.0             referral          youtube.com   \n",
              "1708334                         0.0             referral          youtube.com   \n",
              "1708335                         0.0             referral         facebook.com   \n",
              "1708336                         0.0             referral          youtube.com   \n",
              "\n",
              "         visitNumber  \n",
              "index                 \n",
              "0                  1  \n",
              "1                  6  \n",
              "2                  1  \n",
              "3                  1  \n",
              "4                  1  \n",
              "...              ...  \n",
              "1708332            1  \n",
              "1708333            1  \n",
              "1708334            1  \n",
              "1708335            1  \n",
              "1708336            1  \n",
              "\n",
              "[1708337 rows x 25 columns]"
            ],
            "text/html": [
              "\n",
              "  <div id=\"df-2f3d9b01-5420-4c64-b6ce-bc6990ce1b0a\">\n",
              "    <div class=\"colab-df-container\">\n",
              "      <div>\n",
              "<style scoped>\n",
              "    .dataframe tbody tr th:only-of-type {\n",
              "        vertical-align: middle;\n",
              "    }\n",
              "\n",
              "    .dataframe tbody tr th {\n",
              "        vertical-align: top;\n",
              "    }\n",
              "\n",
              "    .dataframe thead th {\n",
              "        text-align: right;\n",
              "    }\n",
              "</style>\n",
              "<table border=\"1\" class=\"dataframe\">\n",
              "  <thead>\n",
              "    <tr style=\"text-align: right;\">\n",
              "      <th></th>\n",
              "      <th>channelGrouping</th>\n",
              "      <th>date</th>\n",
              "      <th>device.browser</th>\n",
              "      <th>device.deviceCategory</th>\n",
              "      <th>device.isMobile</th>\n",
              "      <th>device.operatingSystem</th>\n",
              "      <th>fullVisitorId</th>\n",
              "      <th>geoNetwork.city</th>\n",
              "      <th>geoNetwork.continent</th>\n",
              "      <th>geoNetwork.country</th>\n",
              "      <th>geoNetwork.metro</th>\n",
              "      <th>geoNetwork.region</th>\n",
              "      <th>geoNetwork.subContinent</th>\n",
              "      <th>totals.bounces</th>\n",
              "      <th>totals.hits</th>\n",
              "      <th>totals.newVisits</th>\n",
              "      <th>totals.pageviews</th>\n",
              "      <th>totals.sessionQualityDim</th>\n",
              "      <th>totals.timeOnSite</th>\n",
              "      <th>totals.totalTransactionRevenue</th>\n",
              "      <th>totals.transactions</th>\n",
              "      <th>trafficSource.isTrueDirect</th>\n",
              "      <th>trafficSource.medium</th>\n",
              "      <th>trafficSource.source</th>\n",
              "      <th>visitNumber</th>\n",
              "    </tr>\n",
              "    <tr>\n",
              "      <th>index</th>\n",
              "      <th></th>\n",
              "      <th></th>\n",
              "      <th></th>\n",
              "      <th></th>\n",
              "      <th></th>\n",
              "      <th></th>\n",
              "      <th></th>\n",
              "      <th></th>\n",
              "      <th></th>\n",
              "      <th></th>\n",
              "      <th></th>\n",
              "      <th></th>\n",
              "      <th></th>\n",
              "      <th></th>\n",
              "      <th></th>\n",
              "      <th></th>\n",
              "      <th></th>\n",
              "      <th></th>\n",
              "      <th></th>\n",
              "      <th></th>\n",
              "      <th></th>\n",
              "      <th></th>\n",
              "      <th></th>\n",
              "      <th></th>\n",
              "      <th></th>\n",
              "    </tr>\n",
              "  </thead>\n",
              "  <tbody>\n",
              "    <tr>\n",
              "      <th>0</th>\n",
              "      <td>Organic Search</td>\n",
              "      <td>20171016</td>\n",
              "      <td>Firefox</td>\n",
              "      <td>desktop</td>\n",
              "      <td>0</td>\n",
              "      <td>Windows</td>\n",
              "      <td>3162355547410993243</td>\n",
              "      <td>not available in demo dataset</td>\n",
              "      <td>Europe</td>\n",
              "      <td>Germany</td>\n",
              "      <td>not available in demo dataset</td>\n",
              "      <td>not available in demo dataset</td>\n",
              "      <td>Western Europe</td>\n",
              "      <td>1.0</td>\n",
              "      <td>1</td>\n",
              "      <td>1.0</td>\n",
              "      <td>1.0</td>\n",
              "      <td>1.0</td>\n",
              "      <td>0.0</td>\n",
              "      <td>0.0</td>\n",
              "      <td>0.0</td>\n",
              "      <td>0.0</td>\n",
              "      <td>organic</td>\n",
              "      <td>google</td>\n",
              "      <td>1</td>\n",
              "    </tr>\n",
              "    <tr>\n",
              "      <th>1</th>\n",
              "      <td>Referral</td>\n",
              "      <td>20171016</td>\n",
              "      <td>Chrome</td>\n",
              "      <td>desktop</td>\n",
              "      <td>0</td>\n",
              "      <td>Chrome OS</td>\n",
              "      <td>8934116514970143966</td>\n",
              "      <td>Cupertino</td>\n",
              "      <td>Americas</td>\n",
              "      <td>United States</td>\n",
              "      <td>San Francisco-Oakland-San Jose CA</td>\n",
              "      <td>California</td>\n",
              "      <td>Northern America</td>\n",
              "      <td>0.0</td>\n",
              "      <td>2</td>\n",
              "      <td>0.0</td>\n",
              "      <td>2.0</td>\n",
              "      <td>2.0</td>\n",
              "      <td>28.0</td>\n",
              "      <td>0.0</td>\n",
              "      <td>0.0</td>\n",
              "      <td>0.0</td>\n",
              "      <td>referral</td>\n",
              "      <td>sites.google.com</td>\n",
              "      <td>6</td>\n",
              "    </tr>\n",
              "    <tr>\n",
              "      <th>2</th>\n",
              "      <td>Direct</td>\n",
              "      <td>20171016</td>\n",
              "      <td>Chrome</td>\n",
              "      <td>mobile</td>\n",
              "      <td>1</td>\n",
              "      <td>Android</td>\n",
              "      <td>7992466427990357681</td>\n",
              "      <td>not available in demo dataset</td>\n",
              "      <td>Americas</td>\n",
              "      <td>United States</td>\n",
              "      <td>not available in demo dataset</td>\n",
              "      <td>not available in demo dataset</td>\n",
              "      <td>Northern America</td>\n",
              "      <td>0.0</td>\n",
              "      <td>2</td>\n",
              "      <td>1.0</td>\n",
              "      <td>2.0</td>\n",
              "      <td>1.0</td>\n",
              "      <td>38.0</td>\n",
              "      <td>0.0</td>\n",
              "      <td>0.0</td>\n",
              "      <td>1.0</td>\n",
              "      <td>(none)</td>\n",
              "      <td>(direct)</td>\n",
              "      <td>1</td>\n",
              "    </tr>\n",
              "    <tr>\n",
              "      <th>3</th>\n",
              "      <td>Organic Search</td>\n",
              "      <td>20171016</td>\n",
              "      <td>Chrome</td>\n",
              "      <td>desktop</td>\n",
              "      <td>0</td>\n",
              "      <td>Windows</td>\n",
              "      <td>9075655783635761930</td>\n",
              "      <td>not available in demo dataset</td>\n",
              "      <td>Asia</td>\n",
              "      <td>Turkey</td>\n",
              "      <td>not available in demo dataset</td>\n",
              "      <td>not available in demo dataset</td>\n",
              "      <td>Western Asia</td>\n",
              "      <td>0.0</td>\n",
              "      <td>2</td>\n",
              "      <td>1.0</td>\n",
              "      <td>2.0</td>\n",
              "      <td>1.0</td>\n",
              "      <td>1.0</td>\n",
              "      <td>0.0</td>\n",
              "      <td>0.0</td>\n",
              "      <td>0.0</td>\n",
              "      <td>organic</td>\n",
              "      <td>google</td>\n",
              "      <td>1</td>\n",
              "    </tr>\n",
              "    <tr>\n",
              "      <th>4</th>\n",
              "      <td>Organic Search</td>\n",
              "      <td>20171016</td>\n",
              "      <td>Chrome</td>\n",
              "      <td>desktop</td>\n",
              "      <td>0</td>\n",
              "      <td>Windows</td>\n",
              "      <td>6960673291025684308</td>\n",
              "      <td>not available in demo dataset</td>\n",
              "      <td>Americas</td>\n",
              "      <td>Mexico</td>\n",
              "      <td>not available in demo dataset</td>\n",
              "      <td>not available in demo dataset</td>\n",
              "      <td>Central America</td>\n",
              "      <td>0.0</td>\n",
              "      <td>2</td>\n",
              "      <td>1.0</td>\n",
              "      <td>2.0</td>\n",
              "      <td>1.0</td>\n",
              "      <td>52.0</td>\n",
              "      <td>0.0</td>\n",
              "      <td>0.0</td>\n",
              "      <td>0.0</td>\n",
              "      <td>organic</td>\n",
              "      <td>google</td>\n",
              "      <td>1</td>\n",
              "    </tr>\n",
              "    <tr>\n",
              "      <th>...</th>\n",
              "      <td>...</td>\n",
              "      <td>...</td>\n",
              "      <td>...</td>\n",
              "      <td>...</td>\n",
              "      <td>...</td>\n",
              "      <td>...</td>\n",
              "      <td>...</td>\n",
              "      <td>...</td>\n",
              "      <td>...</td>\n",
              "      <td>...</td>\n",
              "      <td>...</td>\n",
              "      <td>...</td>\n",
              "      <td>...</td>\n",
              "      <td>...</td>\n",
              "      <td>...</td>\n",
              "      <td>...</td>\n",
              "      <td>...</td>\n",
              "      <td>...</td>\n",
              "      <td>...</td>\n",
              "      <td>...</td>\n",
              "      <td>...</td>\n",
              "      <td>...</td>\n",
              "      <td>...</td>\n",
              "      <td>...</td>\n",
              "      <td>...</td>\n",
              "    </tr>\n",
              "    <tr>\n",
              "      <th>1708332</th>\n",
              "      <td>Social</td>\n",
              "      <td>20170104</td>\n",
              "      <td>Chrome</td>\n",
              "      <td>desktop</td>\n",
              "      <td>0</td>\n",
              "      <td>Windows</td>\n",
              "      <td>5123779100307500332</td>\n",
              "      <td>not available in demo dataset</td>\n",
              "      <td>Americas</td>\n",
              "      <td>Puerto Rico</td>\n",
              "      <td>not available in demo dataset</td>\n",
              "      <td>not available in demo dataset</td>\n",
              "      <td>Caribbean</td>\n",
              "      <td>0.0</td>\n",
              "      <td>17</td>\n",
              "      <td>1.0</td>\n",
              "      <td>15.0</td>\n",
              "      <td>0.0</td>\n",
              "      <td>626.0</td>\n",
              "      <td>0.0</td>\n",
              "      <td>0.0</td>\n",
              "      <td>0.0</td>\n",
              "      <td>referral</td>\n",
              "      <td>youtube.com</td>\n",
              "      <td>1</td>\n",
              "    </tr>\n",
              "    <tr>\n",
              "      <th>1708333</th>\n",
              "      <td>Social</td>\n",
              "      <td>20170104</td>\n",
              "      <td>Chrome</td>\n",
              "      <td>mobile</td>\n",
              "      <td>1</td>\n",
              "      <td>Android</td>\n",
              "      <td>7231728964973959842</td>\n",
              "      <td>not available in demo dataset</td>\n",
              "      <td>Asia</td>\n",
              "      <td>Sri Lanka</td>\n",
              "      <td>not available in demo dataset</td>\n",
              "      <td>not available in demo dataset</td>\n",
              "      <td>Southern Asia</td>\n",
              "      <td>0.0</td>\n",
              "      <td>18</td>\n",
              "      <td>1.0</td>\n",
              "      <td>13.0</td>\n",
              "      <td>0.0</td>\n",
              "      <td>258.0</td>\n",
              "      <td>0.0</td>\n",
              "      <td>0.0</td>\n",
              "      <td>0.0</td>\n",
              "      <td>referral</td>\n",
              "      <td>youtube.com</td>\n",
              "      <td>1</td>\n",
              "    </tr>\n",
              "    <tr>\n",
              "      <th>1708334</th>\n",
              "      <td>Social</td>\n",
              "      <td>20170104</td>\n",
              "      <td>Android Webview</td>\n",
              "      <td>mobile</td>\n",
              "      <td>1</td>\n",
              "      <td>Android</td>\n",
              "      <td>5744576632396406899</td>\n",
              "      <td>Seoul</td>\n",
              "      <td>Asia</td>\n",
              "      <td>South Korea</td>\n",
              "      <td>(not set)</td>\n",
              "      <td>Seoul</td>\n",
              "      <td>Eastern Asia</td>\n",
              "      <td>0.0</td>\n",
              "      <td>24</td>\n",
              "      <td>1.0</td>\n",
              "      <td>21.0</td>\n",
              "      <td>0.0</td>\n",
              "      <td>991.0</td>\n",
              "      <td>0.0</td>\n",
              "      <td>0.0</td>\n",
              "      <td>0.0</td>\n",
              "      <td>referral</td>\n",
              "      <td>youtube.com</td>\n",
              "      <td>1</td>\n",
              "    </tr>\n",
              "    <tr>\n",
              "      <th>1708335</th>\n",
              "      <td>Social</td>\n",
              "      <td>20170104</td>\n",
              "      <td>Chrome</td>\n",
              "      <td>desktop</td>\n",
              "      <td>0</td>\n",
              "      <td>Windows</td>\n",
              "      <td>2709355455991750775</td>\n",
              "      <td>not available in demo dataset</td>\n",
              "      <td>Asia</td>\n",
              "      <td>Indonesia</td>\n",
              "      <td>not available in demo dataset</td>\n",
              "      <td>not available in demo dataset</td>\n",
              "      <td>Southeast Asia</td>\n",
              "      <td>0.0</td>\n",
              "      <td>24</td>\n",
              "      <td>1.0</td>\n",
              "      <td>22.0</td>\n",
              "      <td>0.0</td>\n",
              "      <td>1274.0</td>\n",
              "      <td>0.0</td>\n",
              "      <td>0.0</td>\n",
              "      <td>0.0</td>\n",
              "      <td>referral</td>\n",
              "      <td>facebook.com</td>\n",
              "      <td>1</td>\n",
              "    </tr>\n",
              "    <tr>\n",
              "      <th>1708336</th>\n",
              "      <td>Social</td>\n",
              "      <td>20170104</td>\n",
              "      <td>Chrome</td>\n",
              "      <td>mobile</td>\n",
              "      <td>1</td>\n",
              "      <td>Android</td>\n",
              "      <td>0814900163617805053</td>\n",
              "      <td>not available in demo dataset</td>\n",
              "      <td>Americas</td>\n",
              "      <td>Mexico</td>\n",
              "      <td>not available in demo dataset</td>\n",
              "      <td>not available in demo dataset</td>\n",
              "      <td>Central America</td>\n",
              "      <td>0.0</td>\n",
              "      <td>31</td>\n",
              "      <td>1.0</td>\n",
              "      <td>31.0</td>\n",
              "      <td>0.0</td>\n",
              "      <td>2653.0</td>\n",
              "      <td>0.0</td>\n",
              "      <td>0.0</td>\n",
              "      <td>0.0</td>\n",
              "      <td>referral</td>\n",
              "      <td>youtube.com</td>\n",
              "      <td>1</td>\n",
              "    </tr>\n",
              "  </tbody>\n",
              "</table>\n",
              "<p>1708337 rows × 25 columns</p>\n",
              "</div>\n",
              "      <button class=\"colab-df-convert\" onclick=\"convertToInteractive('df-2f3d9b01-5420-4c64-b6ce-bc6990ce1b0a')\"\n",
              "              title=\"Convert this dataframe to an interactive table.\"\n",
              "              style=\"display:none;\">\n",
              "        \n",
              "  <svg xmlns=\"http://www.w3.org/2000/svg\" height=\"24px\"viewBox=\"0 0 24 24\"\n",
              "       width=\"24px\">\n",
              "    <path d=\"M0 0h24v24H0V0z\" fill=\"none\"/>\n",
              "    <path d=\"M18.56 5.44l.94 2.06.94-2.06 2.06-.94-2.06-.94-.94-2.06-.94 2.06-2.06.94zm-11 1L8.5 8.5l.94-2.06 2.06-.94-2.06-.94L8.5 2.5l-.94 2.06-2.06.94zm10 10l.94 2.06.94-2.06 2.06-.94-2.06-.94-.94-2.06-.94 2.06-2.06.94z\"/><path d=\"M17.41 7.96l-1.37-1.37c-.4-.4-.92-.59-1.43-.59-.52 0-1.04.2-1.43.59L10.3 9.45l-7.72 7.72c-.78.78-.78 2.05 0 2.83L4 21.41c.39.39.9.59 1.41.59.51 0 1.02-.2 1.41-.59l7.78-7.78 2.81-2.81c.8-.78.8-2.07 0-2.86zM5.41 20L4 18.59l7.72-7.72 1.47 1.35L5.41 20z\"/>\n",
              "  </svg>\n",
              "      </button>\n",
              "      \n",
              "  <style>\n",
              "    .colab-df-container {\n",
              "      display:flex;\n",
              "      flex-wrap:wrap;\n",
              "      gap: 12px;\n",
              "    }\n",
              "\n",
              "    .colab-df-convert {\n",
              "      background-color: #E8F0FE;\n",
              "      border: none;\n",
              "      border-radius: 50%;\n",
              "      cursor: pointer;\n",
              "      display: none;\n",
              "      fill: #1967D2;\n",
              "      height: 32px;\n",
              "      padding: 0 0 0 0;\n",
              "      width: 32px;\n",
              "    }\n",
              "\n",
              "    .colab-df-convert:hover {\n",
              "      background-color: #E2EBFA;\n",
              "      box-shadow: 0px 1px 2px rgba(60, 64, 67, 0.3), 0px 1px 3px 1px rgba(60, 64, 67, 0.15);\n",
              "      fill: #174EA6;\n",
              "    }\n",
              "\n",
              "    [theme=dark] .colab-df-convert {\n",
              "      background-color: #3B4455;\n",
              "      fill: #D2E3FC;\n",
              "    }\n",
              "\n",
              "    [theme=dark] .colab-df-convert:hover {\n",
              "      background-color: #434B5C;\n",
              "      box-shadow: 0px 1px 3px 1px rgba(0, 0, 0, 0.15);\n",
              "      filter: drop-shadow(0px 1px 2px rgba(0, 0, 0, 0.3));\n",
              "      fill: #FFFFFF;\n",
              "    }\n",
              "  </style>\n",
              "\n",
              "      <script>\n",
              "        const buttonEl =\n",
              "          document.querySelector('#df-2f3d9b01-5420-4c64-b6ce-bc6990ce1b0a button.colab-df-convert');\n",
              "        buttonEl.style.display =\n",
              "          google.colab.kernel.accessAllowed ? 'block' : 'none';\n",
              "\n",
              "        async function convertToInteractive(key) {\n",
              "          const element = document.querySelector('#df-2f3d9b01-5420-4c64-b6ce-bc6990ce1b0a');\n",
              "          const dataTable =\n",
              "            await google.colab.kernel.invokeFunction('convertToInteractive',\n",
              "                                                     [key], {});\n",
              "          if (!dataTable) return;\n",
              "\n",
              "          const docLinkHtml = 'Like what you see? Visit the ' +\n",
              "            '<a target=\"_blank\" href=https://colab.research.google.com/notebooks/data_table.ipynb>data table notebook</a>'\n",
              "            + ' to learn more about interactive tables.';\n",
              "          element.innerHTML = '';\n",
              "          dataTable['output_type'] = 'display_data';\n",
              "          await google.colab.output.renderOutput(dataTable, element);\n",
              "          const docLink = document.createElement('div');\n",
              "          docLink.innerHTML = docLinkHtml;\n",
              "          element.appendChild(docLink);\n",
              "        }\n",
              "      </script>\n",
              "    </div>\n",
              "  </div>\n",
              "  "
            ]
          },
          "metadata": {},
          "execution_count": 27
        }
      ]
    },
    {
      "cell_type": "markdown",
      "source": [
        "- Categorical columns: 13 (except 'fullVisitorId')\n",
        "- Boolean columns: 4\n",
        "- Numerical columns: 7 (except 'date')"
      ],
      "metadata": {
        "id": "JCk_OJC72XpB"
      }
    },
    {
      "cell_type": "markdown",
      "source": [
        "# 5.&nbsp;Feature engineering"
      ],
      "metadata": {
        "id": "YcuxbxY8bEnb"
      }
    },
    {
      "cell_type": "markdown",
      "source": [
        "## 5.1 Handle column 'date'\n",
        "Change column's datatype from int to datetime"
      ],
      "metadata": {
        "id": "ARTHPSWbu3u1"
      }
    },
    {
      "cell_type": "code",
      "source": [
        "train_df[\"date\"] = pd.to_datetime(train_df[\"date\"], infer_datetime_format=True, format=\"%Y%m%d\")\n",
        "test_df[\"date\"] = pd.to_datetime(test_df[\"date\"], infer_datetime_format=True, format=\"%Y%m%d\")"
      ],
      "metadata": {
        "id": "XtSgZiVFu2eG"
      },
      "execution_count": null,
      "outputs": []
    },
    {
      "cell_type": "markdown",
      "source": [
        "## 5.2 Create TimeFrame"
      ],
      "metadata": {
        "id": "jccvh1r_6yNz"
      }
    },
    {
      "cell_type": "code",
      "source": [
        "cat_cols = train_df.select_dtypes(include=['object']).columns.tolist()\n",
        "cat_cols.remove('fullVisitorId')"
      ],
      "metadata": {
        "id": "DAaDahpFBpyv"
      },
      "execution_count": null,
      "outputs": []
    },
    {
      "cell_type": "code",
      "source": [
        "category_dict = {}\n",
        "for col in cat_cols:\n",
        "    category_dict[col] = sorted(set(train_df[col]))"
      ],
      "metadata": {
        "id": "0OzqiXPw3tnX"
      },
      "execution_count": null,
      "outputs": []
    },
    {
      "cell_type": "code",
      "execution_count": null,
      "metadata": {
        "id": "3WVLNC-_X36a"
      },
      "outputs": [],
      "source": [
        "# based on solution's idea, we stimulated submission timeframe by using sliding window method in train dataframe\n",
        "def getTimeFramewithFeatures(df, start_date):\n",
        "    # input timeframe\n",
        "    df_168 = df[(df['date'] >= start_date) & (df['date'] < start_date + np.timedelta64(168, 'D'))]\n",
        "    max_date = df['date'].max()\n",
        "    min_date = df['date'].min()\n",
        "\n",
        "    # output timeframe\n",
        "    df_62 = df[(df['date'] >= start_date + np.timedelta64(168+46, 'D')) & (df['date'] < start_date + np.timedelta64(168+46+62, 'D'))]\n",
        "    df_62 = df_62.groupby('fullVisitorId')[['totals.totalTransactionRevenue']].sum().apply(np.log1p, axis=1).reset_index()\n",
        "    df_62.rename(columns={'totals.totalTransactionRevenue': 'target'}, inplace=True)\n",
        "    df_62['isReturned'] = 1\n",
        "    df_visitorId = pd.DataFrame(data={'fullVisitorId': df_168['fullVisitorId'].unique()})\n",
        "    df_62 = pd.merge(df_visitorId, df_62, how='left')\n",
        "    df_62.fillna(0, inplace=True)\n",
        "\n",
        "    percent_dict = {}\n",
        "    for col in cat_cols:\n",
        "        percent_dict[col] = df_168[col].value_counts(normalize=True).to_frame().reset_index().rename(columns={'index':col, col:'%'+col})\n",
        "    \n",
        "    df_168 = df_168.groupby('fullVisitorId').agg({\n",
        "        # date\n",
        "        'date': [\n",
        "            ('firstSes', 'min'), \n",
        "            ('lastSes', 'max'),\n",
        "            ('unique', 'nunique'),\n",
        "            ('session_cnt', 'count')\n",
        "        ],        \n",
        "        \n",
        "        # categorical\n",
        "        'geoNetwork.city': [('geoNetwork.city', get_most_common)], \n",
        "        'geoNetwork.region': [('geoNetwork.region', get_most_common)],\n",
        "        'trafficSource.source' : [('trafficSource.source', get_most_common)], \n",
        "        'geoNetwork.country' : [('geoNetwork.country', get_most_common)],\n",
        "        'device.browser' : [('device.browser', get_most_common)],\n",
        "        'geoNetwork.metro': [('geoNetwork.metro', get_most_common)],\n",
        "        'device.operatingSystem': [('device.operatingSystem', get_most_common)],\n",
        "        'geoNetwork.subContinent': [('geoNetwork.subContinent', get_most_common)],\n",
        "        'channelGrouping':[('channelGrouping', get_most_common)],\n",
        "        'trafficSource.medium': [('trafficSource.medium', get_most_common)],\n",
        "        'geoNetwork.continent': [('geoNetwork.continent', get_most_common)],\n",
        "        'device.deviceCategory': [('device.deviceCategory', get_most_common)],\n",
        "\n",
        "        #boolean\n",
        "        'device.isMobile': [('device.isMobile', 'mean')],\n",
        "        'totals.bounces': [('totals.bounces', 'mean')],\n",
        "        'totals.newVisits':  [('totals.newVisits', 'mean')],\n",
        "        'trafficSource.isTrueDirect':  [('trafficSource.isTrueDirect', 'mean')],\n",
        "\n",
        "        # numerical\n",
        "        'totals.totalTransactionRevenue': [('totals.totalTransactionRevenue_sum', 'sum')],\n",
        "        'totals.transactions': [('totals.transactions_sum', 'sum')],\n",
        "        'visitNumber': [('visitNumber_max', 'max')],\n",
        "        'totals.timeOnSite': [\n",
        "            ('timeOnSite_sum', 'sum'),\n",
        "            ('timeOnSite_min', 'min'),\n",
        "            ('timeOnSite_max', 'max'),\n",
        "            ('timeOnSite_mean', 'mean'),\n",
        "        ],\n",
        "        'totals.sessionQualityDim': [\n",
        "            ('sessionQualityDim_sum', 'sum'),\n",
        "            ('sessionQualityDim_max', 'min'),\n",
        "            ('sessionQualityDim_min', 'max'),\n",
        "            ('sessionQualityDim_mean', 'mean'),\n",
        "        ],\n",
        "        'totals.pageviews': [\n",
        "            ('pageviews_sum', 'sum'),\n",
        "            ('pageviews_min', 'min'),\n",
        "            ('pageviews_max', 'max'),\n",
        "            ('pageviews_mean', 'mean'),\n",
        "        ],\n",
        "        'totals.hits': [\n",
        "            ('hits_sum', 'sum'),\n",
        "            ('hits_min', 'min'), \n",
        "            ('hits_max', 'max'), \n",
        "            ('hits_mean', 'mean'),\n",
        "        ],\n",
        "    })\n",
        "    df_168.columns = df_168.columns.droplevel()\n",
        "\n",
        "    df_168['interval'] = (df_168['lastSes'] - df_168['firstSes']).astype(int)/10**9/86400\n",
        "    df_168['firstSes'] = (df_168['firstSes'] - min_date).astype(int)/10**9/86400\n",
        "    df_168['lastSes'] = (max_date - df_168['lastSes']).astype(int)/10**9/86400\n",
        "\n",
        "    df_168 = df_168.reset_index()\n",
        "\n",
        "    for col in cat_cols:\n",
        "        df_168 = pd.merge(df_168, percent_dict[col])\n",
        "\n",
        "    final_df = pd.merge(df_168, df_62)\n",
        "    return final_df"
      ]
    },
    {
      "cell_type": "code",
      "source": [
        "def getDataFrameBySlidingWindow(input_df, window_size, output_path):\n",
        "    start_date = input_df['date'].min()\n",
        "\n",
        "    while start_date + np.timedelta64(168+46+62,'D') < input_df['date'].max():\n",
        "        df = getTimeFramewithFeatures(input_df, start_date)\n",
        "\n",
        "        for col in cat_cols:\n",
        "            default_dict = pd.Series(sorted(set(train_df[col]))).to_dict()\n",
        "            reversed_dict = dict(zip(default_dict.values(), default_dict.keys()))\n",
        "            df[col] = df[col].map(reversed_dict)\n",
        "\n",
        "        if start_date == input_df['date'].min():\n",
        "            df.to_csv(output_path, index=False)\n",
        "        else:\n",
        "            df.to_csv(output_path, index=False, header=False, mode='a')\n",
        "        start_date = start_date + window_size"
      ],
      "metadata": {
        "id": "sr3St5osT4f3"
      },
      "execution_count": null,
      "outputs": []
    },
    {
      "cell_type": "markdown",
      "source": [
        "### 5.2.1 Create Validation dataset (last 276 days in train_v2.csv)\n",
        "\n"
      ],
      "metadata": {
        "id": "Q_b_b2kHSFNG"
      }
    },
    {
      "cell_type": "code",
      "source": [
        "start_date = train_df['date'].max() - np.timedelta64(168+46+62,'D')\n",
        "valid_df = train_df[(train_df['date'] > start_date) & (train_df['date'] <= train_df['date'].max())]\n",
        "train_df = train_df[train_df['date'] <= start_date]\n",
        "print('train dataset', train_df.shape)\n",
        "print('validation dataset:', valid_df.shape)"
      ],
      "metadata": {
        "id": "ttN-Cx-mBdhF",
        "colab": {
          "base_uri": "https://localhost:8080/"
        },
        "outputId": "19e1dca9-9be5-44a9-8b0d-23d9760709a4"
      },
      "execution_count": null,
      "outputs": [
        {
          "output_type": "stream",
          "name": "stdout",
          "text": [
            "train dataset (895081, 25)\n",
            "validation dataset: (813256, 25)\n"
          ]
        }
      ]
    },
    {
      "cell_type": "code",
      "source": [
        "%%time\n",
        "valid = getTimeFramewithFeatures(valid_df, valid_df['date'].min())\n",
        "for col in cat_cols:\n",
        "    default_dict = pd.Series(sorted(set(train_df[col]))).to_dict()\n",
        "    reversed_dict = dict(zip(default_dict.values(), default_dict.keys()))\n",
        "    valid[col] = valid[col].map(reversed_dict)\n",
        "valid.to_csv('output/valid.csv', index=False)"
      ],
      "metadata": {
        "id": "mG01u5ehX6CG",
        "colab": {
          "base_uri": "https://localhost:8080/"
        },
        "outputId": "3f627ad4-5135-4673-8d5d-e4ce91df350b"
      },
      "execution_count": null,
      "outputs": [
        {
          "output_type": "stream",
          "name": "stdout",
          "text": [
            "CPU times: user 1min 12s, sys: 628 ms, total: 1min 13s\n",
            "Wall time: 1min 16s\n"
          ]
        }
      ]
    },
    {
      "cell_type": "markdown",
      "source": [
        "### 5.2.2 Slide window with stride: 1 month"
      ],
      "metadata": {
        "id": "jl_aIpEv4CL-"
      }
    },
    {
      "cell_type": "code",
      "source": [
        "%%time\n",
        "getDataFrameBySlidingWindow(train_df, np.timedelta64(1,'M'), 'output/ws_1_month.csv')"
      ],
      "metadata": {
        "id": "9Za0bsRR4Bwu",
        "colab": {
          "base_uri": "https://localhost:8080/"
        },
        "outputId": "a9b6420e-4d63-4623-8f13-3447aeb41865"
      },
      "execution_count": null,
      "outputs": [
        {
          "output_type": "stream",
          "name": "stdout",
          "text": [
            "CPU times: user 3min 24s, sys: 1.83 s, total: 3min 26s\n",
            "Wall time: 3min 33s\n"
          ]
        }
      ]
    },
    {
      "cell_type": "markdown",
      "source": [
        "### 5.2.3 Slide window with stride: 46 days"
      ],
      "metadata": {
        "id": "14exQYoWQLBq"
      }
    },
    {
      "cell_type": "code",
      "source": [
        "%%time\n",
        "getDataFrameBySlidingWindow(train_df, np.timedelta64(46, 'D'), 'output/ws_46_days.csv')"
      ],
      "metadata": {
        "id": "ueXpfV3pQ4lA",
        "colab": {
          "base_uri": "https://localhost:8080/"
        },
        "outputId": "1a1cc30d-da97-47cb-cf96-a9167129188c"
      },
      "execution_count": null,
      "outputs": [
        {
          "output_type": "stream",
          "name": "stdout",
          "text": [
            "CPU times: user 2min 19s, sys: 1.1 s, total: 2min 20s\n",
            "Wall time: 2min 28s\n"
          ]
        }
      ]
    },
    {
      "cell_type": "markdown",
      "source": [
        "### 5.2.4 Slide window with stride: 62 days"
      ],
      "metadata": {
        "id": "WXqPnNgEQn9B"
      }
    },
    {
      "cell_type": "code",
      "source": [
        "%%time\n",
        "getDataFrameBySlidingWindow(train_df, np.timedelta64(62, 'D'), 'output/ws_62_days.csv')"
      ],
      "metadata": {
        "id": "T3me_O18UUeb",
        "colab": {
          "base_uri": "https://localhost:8080/"
        },
        "outputId": "4a4a5369-7c4e-43b6-c929-ff88b8e74e73"
      },
      "execution_count": null,
      "outputs": [
        {
          "output_type": "stream",
          "name": "stdout",
          "text": [
            "CPU times: user 2min 17s, sys: 1.16 s, total: 2min 19s\n",
            "Wall time: 2min 24s\n"
          ]
        }
      ]
    },
    {
      "cell_type": "markdown",
      "source": [
        "### 5.2.5 Slide window with stride: 168 days"
      ],
      "metadata": {
        "id": "By2IAGiGQpVQ"
      }
    },
    {
      "cell_type": "code",
      "source": [
        "%%time\n",
        "getDataFrameBySlidingWindow(train_df, np.timedelta64(168, 'D'), 'output/ws_168_days.csv')"
      ],
      "metadata": {
        "id": "n64GdVNiU9bT",
        "colab": {
          "base_uri": "https://localhost:8080/"
        },
        "outputId": "50a3af5e-a8ca-4e57-845e-25b2554f2c43"
      },
      "execution_count": null,
      "outputs": [
        {
          "output_type": "stream",
          "name": "stdout",
          "text": [
            "CPU times: user 1min 10s, sys: 565 ms, total: 1min 11s\n",
            "Wall time: 1min 13s\n"
          ]
        }
      ]
    },
    {
      "cell_type": "markdown",
      "source": [
        "# 6.&nbsp;Choose model: LightGBM"
      ],
      "metadata": {
        "id": "CbBfZZYAbMnr"
      }
    },
    {
      "cell_type": "markdown",
      "source": [
        "> is a gradient boosting framework based on decision trees to increases: \n",
        "\n",
        "- the efficiency of the model\n",
        "- reduces memory usage.\n",
        "\n",
        "Light GBM splits the tree leaf-wise with the best fit whereas other boosting algorithms split the tree depth-wise or level-wise rather than leaf-wise. In other words, Light GBM grows trees vertically while other algorithms grow trees horizontally.\n",
        "\n",
        "It uses two novel techniques:\n",
        "- Gradient-based One Side Sampling (GOSS): sampling method which down samples the instances on basis of gradients.\n",
        "- Exclusive Feature Bundling (EFB): down sample the feature to speed up tree learning.\n",
        "\n",
        "**Advantage:**\n",
        "- *Faster training speed and higher efficiency*: Light GBM uses a histogram-based algorithm i.e it buckets continuous feature values into discrete bins which fasten the training procedure.\n",
        "- *Lower memory usage*: Replaces continuous values to discrete bins which results in lower memory usage.\n",
        "- *Better accuracy than any other boosting algorithm*: It produces much more complex trees by following leaf wise split approach rather than a level-wise approach which is the main factor in achieving higher accuracy.\n",
        "- *Compatibility with Large Datasets*: It is capable of performing equally well with large datasets with a significant reduction in training time as compared to XGBoost.\n",
        "\n",
        "**Disadvantage:**\n",
        "- *Overfitting*: Light GBM split the tree leaf-wise which can lead to overfitting as it produces much complex trees.\n",
        "- *Compatibility with Datasets*: Light GBM is sensitive to overfitting and thus can easily overfit small data.\n",
        "\n",
        "*Source:* https://www.kaggle.com/general/264327"
      ],
      "metadata": {
        "id": "X0wdt5tRTOfy"
      }
    },
    {
      "cell_type": "markdown",
      "source": [
        "> **Level-wise:**\n",
        "\n",
        "<img src='https://drive.google.com/uc?id=1Aq7vJbXb9NLrm7H-S1m8AT2NEkVJuAlW' width=600>\n",
        "\n",
        "> **Leaf-wise:**\n",
        "\n",
        "<img src='https://drive.google.com/uc?id=1TNxATnK-nFacko8qMJNqq9mEDAO_9fw0' width=700>"
      ],
      "metadata": {
        "id": "d48AeA11lMpM"
      }
    },
    {
      "cell_type": "markdown",
      "source": [
        "**Missing value handle:**\n",
        "- Enables the missing value handle by default. Disable it by setting `use_missing=false`.\n",
        "- Uses NA (NaN) to represent missing values by default. Change it to use zero by setting `zero_as_missing=true`.\n",
        "- When `zero_as_missing=false` (default), the unrecorded values in sparse matrices (and LightSVM) are treated as zeros.\n",
        "- When `zero_as_missing=true`, NA and zeros (including unrecorded values in sparse matrices (and LightSVM)) are treated as missing.\n",
        "\n",
        "\n",
        "**Categorical handle:**\n",
        "- LightGBM offers good accuracy with integer-encoded categorical features. LightGBM applies Fisher (1958) to find the optimal split over categories. This often performs better than one-hot encoding.\n",
        "- Use `categorical_feature` to specify the categorical features. Refer to the parameter `categorical_feature` in Parameters.\n",
        "- Categorical features must be encoded as non-negative integers (int) less than Int32.MaxValue (2147483647).\n",
        "- Use `min_data_per_group`, `cat_smooth` to deal with over-fitting (when `#data` is small or `#category` is large).\n",
        "- For a categorical feature with high cardinality (`#category` is large), it often works best to treat the feature as numeric, either by simply ignoring the categorical interpretation of the integers or by embedding the categories in a low-dimensional numeric space."
      ],
      "metadata": {
        "id": "dcRwgK7lwvSa"
      }
    },
    {
      "cell_type": "markdown",
      "source": [
        "**Parameters:**\n",
        "- `task`: default = `'train'`; options = `'train'`, `'prediction'`; Specifies the task we wish to perform which is either train or prediction.\n",
        "\n",
        "- `application`: default = `'regression'`, options:\n",
        "    - `'regression'`: perform regression task\n",
        "    - `'binary'`: Binary classification\n",
        "\n",
        "- `data`: type=string; training data, LightGBM will train from this data.\n",
        "- `feature_fraction`: default=1 ; specifies the fraction of features to be taken for each iteration\n",
        "- `bagging_fraction`: default=1 ; specifies the fraction of data to be used for each iteration and is generally used to speed up the training and avoid overfitting.\n",
        "- `bagging_frequency`: 0 means disable bagging; k means perform bagging at every k iteration. Every k-th iteration, LightGBM will randomly select bagging_fraction * 100 % of the data to use for the next k iterations\n",
        "- `min_data_in_leaf` : minimal number of data in one leaf\n",
        "- `categorical_feature` : type=string ; specify the categorical features we want to use for training our model"
      ],
      "metadata": {
        "id": "jjL4tZw-301A"
      }
    },
    {
      "cell_type": "markdown",
      "source": [
        "# 7.&nbsp;Train model\n"
      ],
      "metadata": {
        "id": "EzMscMKpbZAY"
      }
    },
    {
      "cell_type": "code",
      "source": [
        "import lightgbm as lgb\n",
        "from sklearn.model_selection import GridSearchCV\n",
        "from sklearn.model_selection import train_test_split\n",
        "from sklearn import metrics\n",
        "from sklearn.metrics import mean_squared_error "
      ],
      "metadata": {
        "id": "gg4hXybs8bwN"
      },
      "execution_count": null,
      "outputs": []
    },
    {
      "cell_type": "code",
      "source": [
        "compare_dict={'labelEncode':{},\n",
        "              'percent':{}}"
      ],
      "metadata": {
        "id": "dYRO0xxdjW4w"
      },
      "execution_count": null,
      "outputs": []
    },
    {
      "cell_type": "code",
      "source": [
        "def train_model(input_file, idea, output_name, unused_cols, cat_index=None):\n",
        "    train = pd.read_csv(input_file, low_memory=False, dtype={'fullVisitorId': str})\n",
        "    train.drop(columns=unused_cols, inplace=True)\n",
        "    train.drop_duplicates(inplace=True)\n",
        "    \n",
        "    model = lgb.LGBMRegressor(categorical_features=cat_index)\n",
        "    model.fit(train.drop(['target'],axis=1), train['target'])\n",
        "\n",
        "    y_pred = model.predict(valid.drop(['target'], axis=1))\n",
        "    compare_dict[idea][output_name] = mean_squared_error(valid['target'], y_pred)"
      ],
      "metadata": {
        "id": "_kbTF3gYF_nf"
      },
      "execution_count": null,
      "outputs": []
    },
    {
      "cell_type": "markdown",
      "source": [
        "## 7.1 Idea01: Label Encoding\n",
        "- Use set of categories in train set to numbering\n",
        "- Config the categorical_feature in lgbm "
      ],
      "metadata": {
        "id": "128D49vt2Do2"
      }
    },
    {
      "cell_type": "code",
      "source": [
        "label_unused_cols = ['fullVisitorId', '%device.browser', '%device.deviceCategory', '%device.operatingSystem',\n",
        "                '%geoNetwork.city', '%geoNetwork.continent', '%geoNetwork.country',\n",
        "                '%geoNetwork.metro', '%geoNetwork.region', '%geoNetwork.subContinent', \n",
        "                '%trafficSource.medium', '%trafficSource.source', '%channelGrouping', 'isReturned']"
      ],
      "metadata": {
        "id": "6wUiVNYyXmJ8"
      },
      "execution_count": null,
      "outputs": []
    },
    {
      "cell_type": "code",
      "source": [
        "cate_index = [i for i in range(4, 16)]\n",
        "cate_index"
      ],
      "metadata": {
        "id": "TuEj-mh9EvT-",
        "colab": {
          "base_uri": "https://localhost:8080/"
        },
        "outputId": "837eb48f-01cd-4e20-feac-fcfcd86806ba"
      },
      "execution_count": null,
      "outputs": [
        {
          "output_type": "execute_result",
          "data": {
            "text/plain": [
              "[4, 5, 6, 7, 8, 9, 10, 11, 12, 13, 14, 15]"
            ]
          },
          "metadata": {},
          "execution_count": 68
        }
      ]
    },
    {
      "cell_type": "markdown",
      "source": [
        "### 7.1.1 Valid df"
      ],
      "metadata": {
        "id": "7BQ5YOmA2Sma"
      }
    },
    {
      "cell_type": "code",
      "source": [
        "valid = pd.read_csv('output/valid.csv', low_memory=False, dtype={'fullVisitorId': str})\n",
        "valid.drop(columns=label_unused_cols, inplace=True)\n",
        "valid.drop_duplicates(inplace=True)\n",
        "valid.shape"
      ],
      "metadata": {
        "colab": {
          "base_uri": "https://localhost:8080/"
        },
        "id": "VYosp8Fq2Q5T",
        "outputId": "002ef0b7-d443-4e3d-e25e-ed5f61051679"
      },
      "execution_count": null,
      "outputs": [
        {
          "output_type": "execute_result",
          "data": {
            "text/plain": [
              "(309065, 41)"
            ]
          },
          "metadata": {},
          "execution_count": 69
        }
      ]
    },
    {
      "cell_type": "markdown",
      "source": [
        "### 7.1.2 Train df"
      ],
      "metadata": {
        "id": "Hu5uSrPGGtQl"
      }
    },
    {
      "cell_type": "code",
      "source": [
        "%%time\n",
        "train_model('output/ws_1_month.csv', 'labelEncode', 'stride_1_month', label_unused_cols, cate_index)\n",
        "train_model('output/ws_46_days.csv', 'labelEncode', 'stride_46_days', label_unused_cols, cate_index)\n",
        "train_model('output/ws_62_days.csv', 'labelEncode', 'stride_62_days', label_unused_cols, cate_index)\n",
        "train_model('output/ws_168_days.csv', 'labelEncode', 'stride_168_days', label_unused_cols, cate_index)"
      ],
      "metadata": {
        "colab": {
          "base_uri": "https://localhost:8080/"
        },
        "id": "LxzKJU64Gveo",
        "outputId": "d920f1db-6f69-4bad-8e55-558874fc0b50"
      },
      "execution_count": null,
      "outputs": [
        {
          "output_type": "stream",
          "name": "stdout",
          "text": [
            "CPU times: user 1min 23s, sys: 1.44 s, total: 1min 24s\n",
            "Wall time: 1min 4s\n"
          ]
        }
      ]
    },
    {
      "cell_type": "markdown",
      "source": [
        "## 7.2 Idea02: Percent Category\n",
        "- Use the categories' frequency in 168_days input in each timeframe (use numeric columns instead of using catergory columns)"
      ],
      "metadata": {
        "id": "nIkUlmsch3PA"
      }
    },
    {
      "cell_type": "code",
      "source": [
        "percent_unused_cols = ['fullVisitorId', 'geoNetwork.city',\n",
        "              'geoNetwork.region', 'trafficSource.source', 'geoNetwork.country',\n",
        "              'device.browser', 'geoNetwork.metro', 'device.operatingSystem',\n",
        "              'geoNetwork.subContinent', 'channelGrouping', 'trafficSource.medium',\n",
        "              'geoNetwork.continent', 'device.deviceCategory', 'isReturned']"
      ],
      "metadata": {
        "id": "_zSI1jqoh3PQ"
      },
      "execution_count": null,
      "outputs": []
    },
    {
      "cell_type": "markdown",
      "source": [
        "### 7.2.1 Valid df"
      ],
      "metadata": {
        "id": "bCsPj3GHh_y7"
      }
    },
    {
      "cell_type": "code",
      "source": [
        "valid = pd.read_csv('output/valid.csv', low_memory=False, dtype={'fullVisitorId': str})\n",
        "valid.drop(columns=percent_unused_cols, inplace=True)\n",
        "valid.drop_duplicates(inplace=True)\n",
        "valid.shape"
      ],
      "metadata": {
        "colab": {
          "base_uri": "https://localhost:8080/"
        },
        "outputId": "8c7409b3-1281-4c8c-f189-78d736109933",
        "id": "Y62mr6qph_y9"
      },
      "execution_count": null,
      "outputs": [
        {
          "output_type": "execute_result",
          "data": {
            "text/plain": [
              "(309098, 41)"
            ]
          },
          "metadata": {},
          "execution_count": 72
        }
      ]
    },
    {
      "cell_type": "markdown",
      "source": [
        "### 7.1.2 Train df"
      ],
      "metadata": {
        "id": "iC-tr8j1HPBh"
      }
    },
    {
      "cell_type": "code",
      "source": [
        "%%time\n",
        "train_model('output/ws_1_month.csv', 'percent', 'stride_1_month', percent_unused_cols)\n",
        "train_model('output/ws_46_days.csv', 'percent', 'stride_46_days', percent_unused_cols)\n",
        "train_model('output/ws_62_days.csv', 'percent', 'stride_62_days', percent_unused_cols)\n",
        "train_model('output/ws_168_days.csv', 'percent', 'stride_168_days', percent_unused_cols)"
      ],
      "metadata": {
        "colab": {
          "base_uri": "https://localhost:8080/"
        },
        "id": "p2oGUCAvHPB6",
        "outputId": "3a5d5f39-1d1a-42ee-8b4f-c36424898142"
      },
      "execution_count": null,
      "outputs": [
        {
          "output_type": "stream",
          "name": "stdout",
          "text": [
            "CPU times: user 1min 40s, sys: 1.61 s, total: 1min 42s\n",
            "Wall time: 1min 13s\n"
          ]
        }
      ]
    },
    {
      "cell_type": "markdown",
      "source": [
        "## 7.3 Comparison\n",
        "- idea02's result is better idea01's\n",
        "- smaller strides mostly have the better result\n"
      ],
      "metadata": {
        "id": "kCh8LL9wp2XA"
      }
    },
    {
      "cell_type": "code",
      "source": [
        "df = pd.DataFrame(compare_dict).transpose()\n",
        "df"
      ],
      "metadata": {
        "colab": {
          "base_uri": "https://localhost:8080/",
          "height": 112
        },
        "id": "7zTxsWxQkx1D",
        "outputId": "2b09a86f-06a6-482b-c00a-2166316144a7"
      },
      "execution_count": null,
      "outputs": [
        {
          "output_type": "execute_result",
          "data": {
            "text/plain": [
              "             stride_1_month  stride_46_days  stride_62_days  stride_168_days\n",
              "labelEncode        0.144981        0.148770        0.148119         0.160208\n",
              "percent            0.144088        0.147198        0.145321         0.153288"
            ],
            "text/html": [
              "\n",
              "  <div id=\"df-4aa24a36-c853-4c1e-9e66-94bca52074b5\">\n",
              "    <div class=\"colab-df-container\">\n",
              "      <div>\n",
              "<style scoped>\n",
              "    .dataframe tbody tr th:only-of-type {\n",
              "        vertical-align: middle;\n",
              "    }\n",
              "\n",
              "    .dataframe tbody tr th {\n",
              "        vertical-align: top;\n",
              "    }\n",
              "\n",
              "    .dataframe thead th {\n",
              "        text-align: right;\n",
              "    }\n",
              "</style>\n",
              "<table border=\"1\" class=\"dataframe\">\n",
              "  <thead>\n",
              "    <tr style=\"text-align: right;\">\n",
              "      <th></th>\n",
              "      <th>stride_1_month</th>\n",
              "      <th>stride_46_days</th>\n",
              "      <th>stride_62_days</th>\n",
              "      <th>stride_168_days</th>\n",
              "    </tr>\n",
              "  </thead>\n",
              "  <tbody>\n",
              "    <tr>\n",
              "      <th>labelEncode</th>\n",
              "      <td>0.144981</td>\n",
              "      <td>0.148770</td>\n",
              "      <td>0.148119</td>\n",
              "      <td>0.160208</td>\n",
              "    </tr>\n",
              "    <tr>\n",
              "      <th>percent</th>\n",
              "      <td>0.144088</td>\n",
              "      <td>0.147198</td>\n",
              "      <td>0.145321</td>\n",
              "      <td>0.153288</td>\n",
              "    </tr>\n",
              "  </tbody>\n",
              "</table>\n",
              "</div>\n",
              "      <button class=\"colab-df-convert\" onclick=\"convertToInteractive('df-4aa24a36-c853-4c1e-9e66-94bca52074b5')\"\n",
              "              title=\"Convert this dataframe to an interactive table.\"\n",
              "              style=\"display:none;\">\n",
              "        \n",
              "  <svg xmlns=\"http://www.w3.org/2000/svg\" height=\"24px\"viewBox=\"0 0 24 24\"\n",
              "       width=\"24px\">\n",
              "    <path d=\"M0 0h24v24H0V0z\" fill=\"none\"/>\n",
              "    <path d=\"M18.56 5.44l.94 2.06.94-2.06 2.06-.94-2.06-.94-.94-2.06-.94 2.06-2.06.94zm-11 1L8.5 8.5l.94-2.06 2.06-.94-2.06-.94L8.5 2.5l-.94 2.06-2.06.94zm10 10l.94 2.06.94-2.06 2.06-.94-2.06-.94-.94-2.06-.94 2.06-2.06.94z\"/><path d=\"M17.41 7.96l-1.37-1.37c-.4-.4-.92-.59-1.43-.59-.52 0-1.04.2-1.43.59L10.3 9.45l-7.72 7.72c-.78.78-.78 2.05 0 2.83L4 21.41c.39.39.9.59 1.41.59.51 0 1.02-.2 1.41-.59l7.78-7.78 2.81-2.81c.8-.78.8-2.07 0-2.86zM5.41 20L4 18.59l7.72-7.72 1.47 1.35L5.41 20z\"/>\n",
              "  </svg>\n",
              "      </button>\n",
              "      \n",
              "  <style>\n",
              "    .colab-df-container {\n",
              "      display:flex;\n",
              "      flex-wrap:wrap;\n",
              "      gap: 12px;\n",
              "    }\n",
              "\n",
              "    .colab-df-convert {\n",
              "      background-color: #E8F0FE;\n",
              "      border: none;\n",
              "      border-radius: 50%;\n",
              "      cursor: pointer;\n",
              "      display: none;\n",
              "      fill: #1967D2;\n",
              "      height: 32px;\n",
              "      padding: 0 0 0 0;\n",
              "      width: 32px;\n",
              "    }\n",
              "\n",
              "    .colab-df-convert:hover {\n",
              "      background-color: #E2EBFA;\n",
              "      box-shadow: 0px 1px 2px rgba(60, 64, 67, 0.3), 0px 1px 3px 1px rgba(60, 64, 67, 0.15);\n",
              "      fill: #174EA6;\n",
              "    }\n",
              "\n",
              "    [theme=dark] .colab-df-convert {\n",
              "      background-color: #3B4455;\n",
              "      fill: #D2E3FC;\n",
              "    }\n",
              "\n",
              "    [theme=dark] .colab-df-convert:hover {\n",
              "      background-color: #434B5C;\n",
              "      box-shadow: 0px 1px 3px 1px rgba(0, 0, 0, 0.15);\n",
              "      filter: drop-shadow(0px 1px 2px rgba(0, 0, 0, 0.3));\n",
              "      fill: #FFFFFF;\n",
              "    }\n",
              "  </style>\n",
              "\n",
              "      <script>\n",
              "        const buttonEl =\n",
              "          document.querySelector('#df-4aa24a36-c853-4c1e-9e66-94bca52074b5 button.colab-df-convert');\n",
              "        buttonEl.style.display =\n",
              "          google.colab.kernel.accessAllowed ? 'block' : 'none';\n",
              "\n",
              "        async function convertToInteractive(key) {\n",
              "          const element = document.querySelector('#df-4aa24a36-c853-4c1e-9e66-94bca52074b5');\n",
              "          const dataTable =\n",
              "            await google.colab.kernel.invokeFunction('convertToInteractive',\n",
              "                                                     [key], {});\n",
              "          if (!dataTable) return;\n",
              "\n",
              "          const docLinkHtml = 'Like what you see? Visit the ' +\n",
              "            '<a target=\"_blank\" href=https://colab.research.google.com/notebooks/data_table.ipynb>data table notebook</a>'\n",
              "            + ' to learn more about interactive tables.';\n",
              "          element.innerHTML = '';\n",
              "          dataTable['output_type'] = 'display_data';\n",
              "          await google.colab.output.renderOutput(dataTable, element);\n",
              "          const docLink = document.createElement('div');\n",
              "          docLink.innerHTML = docLinkHtml;\n",
              "          element.appendChild(docLink);\n",
              "        }\n",
              "      </script>\n",
              "    </div>\n",
              "  </div>\n",
              "  "
            ]
          },
          "metadata": {},
          "execution_count": 74
        }
      ]
    },
    {
      "cell_type": "markdown",
      "source": [
        "## 7.4 Tune Parameter\n"
      ],
      "metadata": {
        "id": "3kvWTHAZNvN4"
      }
    },
    {
      "cell_type": "code",
      "source": [
        "from scipy.stats import randint as sp_randint\n",
        "from scipy.stats import uniform as sp_uniform\n",
        "from sklearn.model_selection import RandomizedSearchCV, GridSearchCV"
      ],
      "metadata": {
        "id": "AzVw6iF7d_zv"
      },
      "execution_count": null,
      "outputs": []
    },
    {
      "cell_type": "code",
      "source": [
        "%%time\n",
        "getDataFrameBySlidingWindow(pd.concat([train_df, valid_df], ignore_index=True), np.timedelta64(1, 'M'), 'output/full_df.csv')\n",
        "train_df=[]\n",
        "valid_df=[]"
      ],
      "metadata": {
        "id": "a70sbnrPw75c",
        "colab": {
          "base_uri": "https://localhost:8080/"
        },
        "outputId": "d7ba2ec9-4726-4576-f2b4-13ac05407a9d"
      },
      "execution_count": null,
      "outputs": [
        {
          "output_type": "stream",
          "name": "stdout",
          "text": [
            "CPU times: user 12min 47s, sys: 8.77 s, total: 12min 56s\n",
            "Wall time: 13min 16s\n"
          ]
        }
      ]
    },
    {
      "cell_type": "code",
      "source": [
        "rs_params = {\n",
        "    # 'num_leaves': sp_randint(6, 30),\n",
        "    'boosting_type': ['gbdt', 'dart'], #, 'goss'],\n",
        "    'bagging_fraction': (0.5, 0.8),\n",
        "    'bagging_frequency': (5, 8),\n",
        "    'feature_fraction': (0.5, 0.8),\n",
        "    'min_data_in_leaf': (90, 120),\n",
        "    'min_child_weight': [1e-3, 1e-2],\n",
        "}"
      ],
      "metadata": {
        "id": "JnuUpEMilD_K"
      },
      "execution_count": null,
      "outputs": []
    },
    {
      "cell_type": "code",
      "source": [
        "train = pd.read_csv('output/full_df.csv', low_memory=False, dtype={'fullVisitorId': str})\n",
        "train.drop(columns=percent_unused_cols, inplace=True)\n",
        "train.drop_duplicates(inplace=True)\n",
        "\n",
        "reg = lgb.LGBMRegressor(max_depth=-1)\n",
        "rs_cv = RandomizedSearchCV(estimator=reg,\n",
        "                           param_distributions=rs_params,\n",
        "                           cv = 3,\n",
        "                           n_iter=100,\n",
        "                           verbose=20)\n",
        "\n",
        "search = rs_cv.fit(train.drop(['target'],axis=1), train['target'])"
      ],
      "metadata": {
        "colab": {
          "base_uri": "https://localhost:8080/"
        },
        "id": "2Hgi-6GTh0b7",
        "outputId": "3bcac4bc-8dca-479d-e48f-939548df5a3f"
      },
      "execution_count": null,
      "outputs": [
        {
          "output_type": "stream",
          "name": "stdout",
          "text": [
            "Fitting 3 folds for each of 64 candidates, totalling 192 fits\n",
            "[CV 1/3; 1/64] START bagging_fraction=0.5, bagging_frequency=5, boosting_type=gbdt, feature_fraction=0.5, min_child_weight=0.001, min_data_in_leaf=90\n",
            "[CV 1/3; 1/64] END bagging_fraction=0.5, bagging_frequency=5, boosting_type=gbdt, feature_fraction=0.5, min_child_weight=0.001, min_data_in_leaf=90;, score=0.029 total time=  24.0s\n",
            "[CV 2/3; 1/64] START bagging_fraction=0.5, bagging_frequency=5, boosting_type=gbdt, feature_fraction=0.5, min_child_weight=0.001, min_data_in_leaf=90\n",
            "[CV 2/3; 1/64] END bagging_fraction=0.5, bagging_frequency=5, boosting_type=gbdt, feature_fraction=0.5, min_child_weight=0.001, min_data_in_leaf=90;, score=0.029 total time=  23.0s\n",
            "[CV 3/3; 1/64] START bagging_fraction=0.5, bagging_frequency=5, boosting_type=gbdt, feature_fraction=0.5, min_child_weight=0.001, min_data_in_leaf=90\n",
            "[CV 3/3; 1/64] END bagging_fraction=0.5, bagging_frequency=5, boosting_type=gbdt, feature_fraction=0.5, min_child_weight=0.001, min_data_in_leaf=90;, score=-0.010 total time=  24.1s\n",
            "[CV 1/3; 2/64] START bagging_fraction=0.5, bagging_frequency=5, boosting_type=gbdt, feature_fraction=0.5, min_child_weight=0.001, min_data_in_leaf=120\n",
            "[CV 1/3; 2/64] END bagging_fraction=0.5, bagging_frequency=5, boosting_type=gbdt, feature_fraction=0.5, min_child_weight=0.001, min_data_in_leaf=120;, score=0.029 total time=  24.8s\n",
            "[CV 2/3; 2/64] START bagging_fraction=0.5, bagging_frequency=5, boosting_type=gbdt, feature_fraction=0.5, min_child_weight=0.001, min_data_in_leaf=120\n",
            "[CV 2/3; 2/64] END bagging_fraction=0.5, bagging_frequency=5, boosting_type=gbdt, feature_fraction=0.5, min_child_weight=0.001, min_data_in_leaf=120;, score=0.028 total time=  23.5s\n",
            "[CV 3/3; 2/64] START bagging_fraction=0.5, bagging_frequency=5, boosting_type=gbdt, feature_fraction=0.5, min_child_weight=0.001, min_data_in_leaf=120\n",
            "[CV 3/3; 2/64] END bagging_fraction=0.5, bagging_frequency=5, boosting_type=gbdt, feature_fraction=0.5, min_child_weight=0.001, min_data_in_leaf=120;, score=-0.006 total time=  24.7s\n",
            "[CV 1/3; 3/64] START bagging_fraction=0.5, bagging_frequency=5, boosting_type=gbdt, feature_fraction=0.5, min_child_weight=0.01, min_data_in_leaf=90\n",
            "[CV 1/3; 3/64] END bagging_fraction=0.5, bagging_frequency=5, boosting_type=gbdt, feature_fraction=0.5, min_child_weight=0.01, min_data_in_leaf=90;, score=0.029 total time=  24.2s\n",
            "[CV 2/3; 3/64] START bagging_fraction=0.5, bagging_frequency=5, boosting_type=gbdt, feature_fraction=0.5, min_child_weight=0.01, min_data_in_leaf=90\n",
            "[CV 2/3; 3/64] END bagging_fraction=0.5, bagging_frequency=5, boosting_type=gbdt, feature_fraction=0.5, min_child_weight=0.01, min_data_in_leaf=90;, score=0.029 total time=  22.9s\n",
            "[CV 3/3; 3/64] START bagging_fraction=0.5, bagging_frequency=5, boosting_type=gbdt, feature_fraction=0.5, min_child_weight=0.01, min_data_in_leaf=90\n",
            "[CV 3/3; 3/64] END bagging_fraction=0.5, bagging_frequency=5, boosting_type=gbdt, feature_fraction=0.5, min_child_weight=0.01, min_data_in_leaf=90;, score=-0.010 total time=  23.9s\n",
            "[CV 1/3; 4/64] START bagging_fraction=0.5, bagging_frequency=5, boosting_type=gbdt, feature_fraction=0.5, min_child_weight=0.01, min_data_in_leaf=120\n",
            "[CV 1/3; 4/64] END bagging_fraction=0.5, bagging_frequency=5, boosting_type=gbdt, feature_fraction=0.5, min_child_weight=0.01, min_data_in_leaf=120;, score=0.029 total time=  24.7s\n",
            "[CV 2/3; 4/64] START bagging_fraction=0.5, bagging_frequency=5, boosting_type=gbdt, feature_fraction=0.5, min_child_weight=0.01, min_data_in_leaf=120\n",
            "[CV 2/3; 4/64] END bagging_fraction=0.5, bagging_frequency=5, boosting_type=gbdt, feature_fraction=0.5, min_child_weight=0.01, min_data_in_leaf=120;, score=0.028 total time=  23.4s\n",
            "[CV 3/3; 4/64] START bagging_fraction=0.5, bagging_frequency=5, boosting_type=gbdt, feature_fraction=0.5, min_child_weight=0.01, min_data_in_leaf=120\n",
            "[CV 3/3; 4/64] END bagging_fraction=0.5, bagging_frequency=5, boosting_type=gbdt, feature_fraction=0.5, min_child_weight=0.01, min_data_in_leaf=120;, score=-0.006 total time=  24.7s\n",
            "[CV 1/3; 5/64] START bagging_fraction=0.5, bagging_frequency=5, boosting_type=gbdt, feature_fraction=0.8, min_child_weight=0.001, min_data_in_leaf=90\n",
            "[CV 1/3; 5/64] END bagging_fraction=0.5, bagging_frequency=5, boosting_type=gbdt, feature_fraction=0.8, min_child_weight=0.001, min_data_in_leaf=90;, score=0.028 total time=  29.3s\n",
            "[CV 2/3; 5/64] START bagging_fraction=0.5, bagging_frequency=5, boosting_type=gbdt, feature_fraction=0.8, min_child_weight=0.001, min_data_in_leaf=90\n",
            "[CV 2/3; 5/64] END bagging_fraction=0.5, bagging_frequency=5, boosting_type=gbdt, feature_fraction=0.8, min_child_weight=0.001, min_data_in_leaf=90;, score=0.030 total time=  27.3s\n",
            "[CV 3/3; 5/64] START bagging_fraction=0.5, bagging_frequency=5, boosting_type=gbdt, feature_fraction=0.8, min_child_weight=0.001, min_data_in_leaf=90\n",
            "[CV 3/3; 5/64] END bagging_fraction=0.5, bagging_frequency=5, boosting_type=gbdt, feature_fraction=0.8, min_child_weight=0.001, min_data_in_leaf=90;, score=-0.009 total time=  28.2s\n",
            "[CV 1/3; 6/64] START bagging_fraction=0.5, bagging_frequency=5, boosting_type=gbdt, feature_fraction=0.8, min_child_weight=0.001, min_data_in_leaf=120\n",
            "[CV 1/3; 6/64] END bagging_fraction=0.5, bagging_frequency=5, boosting_type=gbdt, feature_fraction=0.8, min_child_weight=0.001, min_data_in_leaf=120;, score=0.028 total time=  29.9s\n",
            "[CV 2/3; 6/64] START bagging_fraction=0.5, bagging_frequency=5, boosting_type=gbdt, feature_fraction=0.8, min_child_weight=0.001, min_data_in_leaf=120\n",
            "[CV 2/3; 6/64] END bagging_fraction=0.5, bagging_frequency=5, boosting_type=gbdt, feature_fraction=0.8, min_child_weight=0.001, min_data_in_leaf=120;, score=0.026 total time=  28.7s\n",
            "[CV 3/3; 6/64] START bagging_fraction=0.5, bagging_frequency=5, boosting_type=gbdt, feature_fraction=0.8, min_child_weight=0.001, min_data_in_leaf=120\n",
            "[CV 3/3; 6/64] END bagging_fraction=0.5, bagging_frequency=5, boosting_type=gbdt, feature_fraction=0.8, min_child_weight=0.001, min_data_in_leaf=120;, score=-0.013 total time=  29.2s\n",
            "[CV 1/3; 7/64] START bagging_fraction=0.5, bagging_frequency=5, boosting_type=gbdt, feature_fraction=0.8, min_child_weight=0.01, min_data_in_leaf=90\n",
            "[CV 1/3; 7/64] END bagging_fraction=0.5, bagging_frequency=5, boosting_type=gbdt, feature_fraction=0.8, min_child_weight=0.01, min_data_in_leaf=90;, score=0.028 total time=  29.4s\n",
            "[CV 2/3; 7/64] START bagging_fraction=0.5, bagging_frequency=5, boosting_type=gbdt, feature_fraction=0.8, min_child_weight=0.01, min_data_in_leaf=90\n",
            "[CV 2/3; 7/64] END bagging_fraction=0.5, bagging_frequency=5, boosting_type=gbdt, feature_fraction=0.8, min_child_weight=0.01, min_data_in_leaf=90;, score=0.030 total time=  27.5s\n",
            "[CV 3/3; 7/64] START bagging_fraction=0.5, bagging_frequency=5, boosting_type=gbdt, feature_fraction=0.8, min_child_weight=0.01, min_data_in_leaf=90\n",
            "[CV 3/3; 7/64] END bagging_fraction=0.5, bagging_frequency=5, boosting_type=gbdt, feature_fraction=0.8, min_child_weight=0.01, min_data_in_leaf=90;, score=-0.009 total time=  28.7s\n",
            "[CV 1/3; 8/64] START bagging_fraction=0.5, bagging_frequency=5, boosting_type=gbdt, feature_fraction=0.8, min_child_weight=0.01, min_data_in_leaf=120\n",
            "[CV 1/3; 8/64] END bagging_fraction=0.5, bagging_frequency=5, boosting_type=gbdt, feature_fraction=0.8, min_child_weight=0.01, min_data_in_leaf=120;, score=0.028 total time=  29.7s\n",
            "[CV 2/3; 8/64] START bagging_fraction=0.5, bagging_frequency=5, boosting_type=gbdt, feature_fraction=0.8, min_child_weight=0.01, min_data_in_leaf=120\n",
            "[CV 2/3; 8/64] END bagging_fraction=0.5, bagging_frequency=5, boosting_type=gbdt, feature_fraction=0.8, min_child_weight=0.01, min_data_in_leaf=120;, score=0.026 total time=  29.0s\n",
            "[CV 3/3; 8/64] START bagging_fraction=0.5, bagging_frequency=5, boosting_type=gbdt, feature_fraction=0.8, min_child_weight=0.01, min_data_in_leaf=120\n",
            "[CV 3/3; 8/64] END bagging_fraction=0.5, bagging_frequency=5, boosting_type=gbdt, feature_fraction=0.8, min_child_weight=0.01, min_data_in_leaf=120;, score=-0.013 total time=  29.2s\n",
            "[CV 1/3; 9/64] START bagging_fraction=0.5, bagging_frequency=5, boosting_type=dart, feature_fraction=0.5, min_child_weight=0.001, min_data_in_leaf=90\n",
            "[CV 1/3; 9/64] END bagging_fraction=0.5, bagging_frequency=5, boosting_type=dart, feature_fraction=0.5, min_child_weight=0.001, min_data_in_leaf=90;, score=0.031 total time=  50.6s\n",
            "[CV 2/3; 9/64] START bagging_fraction=0.5, bagging_frequency=5, boosting_type=dart, feature_fraction=0.5, min_child_weight=0.001, min_data_in_leaf=90\n",
            "[CV 2/3; 9/64] END bagging_fraction=0.5, bagging_frequency=5, boosting_type=dart, feature_fraction=0.5, min_child_weight=0.001, min_data_in_leaf=90;, score=0.030 total time=  48.6s\n",
            "[CV 3/3; 9/64] START bagging_fraction=0.5, bagging_frequency=5, boosting_type=dart, feature_fraction=0.5, min_child_weight=0.001, min_data_in_leaf=90\n",
            "[CV 3/3; 9/64] END bagging_fraction=0.5, bagging_frequency=5, boosting_type=dart, feature_fraction=0.5, min_child_weight=0.001, min_data_in_leaf=90;, score=0.005 total time=  47.3s\n",
            "[CV 1/3; 10/64] START bagging_fraction=0.5, bagging_frequency=5, boosting_type=dart, feature_fraction=0.5, min_child_weight=0.001, min_data_in_leaf=120\n",
            "[CV 1/3; 10/64] END bagging_fraction=0.5, bagging_frequency=5, boosting_type=dart, feature_fraction=0.5, min_child_weight=0.001, min_data_in_leaf=120;, score=0.029 total time=  58.0s\n",
            "[CV 2/3; 10/64] START bagging_fraction=0.5, bagging_frequency=5, boosting_type=dart, feature_fraction=0.5, min_child_weight=0.001, min_data_in_leaf=120\n",
            "[CV 2/3; 10/64] END bagging_fraction=0.5, bagging_frequency=5, boosting_type=dart, feature_fraction=0.5, min_child_weight=0.001, min_data_in_leaf=120;, score=0.027 total time=  53.5s\n",
            "[CV 3/3; 10/64] START bagging_fraction=0.5, bagging_frequency=5, boosting_type=dart, feature_fraction=0.5, min_child_weight=0.001, min_data_in_leaf=120\n",
            "[CV 3/3; 10/64] END bagging_fraction=0.5, bagging_frequency=5, boosting_type=dart, feature_fraction=0.5, min_child_weight=0.001, min_data_in_leaf=120;, score=0.006 total time=  53.0s\n",
            "[CV 1/3; 11/64] START bagging_fraction=0.5, bagging_frequency=5, boosting_type=dart, feature_fraction=0.5, min_child_weight=0.01, min_data_in_leaf=90\n",
            "[CV 1/3; 11/64] END bagging_fraction=0.5, bagging_frequency=5, boosting_type=dart, feature_fraction=0.5, min_child_weight=0.01, min_data_in_leaf=90;, score=0.031 total time=  52.9s\n",
            "[CV 2/3; 11/64] START bagging_fraction=0.5, bagging_frequency=5, boosting_type=dart, feature_fraction=0.5, min_child_weight=0.01, min_data_in_leaf=90\n",
            "[CV 2/3; 11/64] END bagging_fraction=0.5, bagging_frequency=5, boosting_type=dart, feature_fraction=0.5, min_child_weight=0.01, min_data_in_leaf=90;, score=0.030 total time=  48.8s\n",
            "[CV 3/3; 11/64] START bagging_fraction=0.5, bagging_frequency=5, boosting_type=dart, feature_fraction=0.5, min_child_weight=0.01, min_data_in_leaf=90\n",
            "[CV 3/3; 11/64] END bagging_fraction=0.5, bagging_frequency=5, boosting_type=dart, feature_fraction=0.5, min_child_weight=0.01, min_data_in_leaf=90;, score=0.005 total time=  48.2s\n",
            "[CV 1/3; 12/64] START bagging_fraction=0.5, bagging_frequency=5, boosting_type=dart, feature_fraction=0.5, min_child_weight=0.01, min_data_in_leaf=120\n",
            "[CV 1/3; 12/64] END bagging_fraction=0.5, bagging_frequency=5, boosting_type=dart, feature_fraction=0.5, min_child_weight=0.01, min_data_in_leaf=120;, score=0.029 total time=  58.9s\n",
            "[CV 2/3; 12/64] START bagging_fraction=0.5, bagging_frequency=5, boosting_type=dart, feature_fraction=0.5, min_child_weight=0.01, min_data_in_leaf=120\n",
            "[CV 2/3; 12/64] END bagging_fraction=0.5, bagging_frequency=5, boosting_type=dart, feature_fraction=0.5, min_child_weight=0.01, min_data_in_leaf=120;, score=0.027 total time=  51.6s\n",
            "[CV 3/3; 12/64] START bagging_fraction=0.5, bagging_frequency=5, boosting_type=dart, feature_fraction=0.5, min_child_weight=0.01, min_data_in_leaf=120\n",
            "[CV 3/3; 12/64] END bagging_fraction=0.5, bagging_frequency=5, boosting_type=dart, feature_fraction=0.5, min_child_weight=0.01, min_data_in_leaf=120;, score=0.006 total time=  54.1s\n",
            "[CV 1/3; 13/64] START bagging_fraction=0.5, bagging_frequency=5, boosting_type=dart, feature_fraction=0.8, min_child_weight=0.001, min_data_in_leaf=90\n",
            "[CV 1/3; 13/64] END bagging_fraction=0.5, bagging_frequency=5, boosting_type=dart, feature_fraction=0.8, min_child_weight=0.001, min_data_in_leaf=90;, score=0.029 total time=  59.4s\n",
            "[CV 2/3; 13/64] START bagging_fraction=0.5, bagging_frequency=5, boosting_type=dart, feature_fraction=0.8, min_child_weight=0.001, min_data_in_leaf=90\n",
            "[CV 2/3; 13/64] END bagging_fraction=0.5, bagging_frequency=5, boosting_type=dart, feature_fraction=0.8, min_child_weight=0.001, min_data_in_leaf=90;, score=0.028 total time=  52.9s\n",
            "[CV 3/3; 13/64] START bagging_fraction=0.5, bagging_frequency=5, boosting_type=dart, feature_fraction=0.8, min_child_weight=0.001, min_data_in_leaf=90\n",
            "[CV 3/3; 13/64] END bagging_fraction=0.5, bagging_frequency=5, boosting_type=dart, feature_fraction=0.8, min_child_weight=0.001, min_data_in_leaf=90;, score=0.005 total time=  52.5s\n",
            "[CV 1/3; 14/64] START bagging_fraction=0.5, bagging_frequency=5, boosting_type=dart, feature_fraction=0.8, min_child_weight=0.001, min_data_in_leaf=120\n",
            "[CV 1/3; 14/64] END bagging_fraction=0.5, bagging_frequency=5, boosting_type=dart, feature_fraction=0.8, min_child_weight=0.001, min_data_in_leaf=120;, score=0.029 total time= 1.0min\n",
            "[CV 2/3; 14/64] START bagging_fraction=0.5, bagging_frequency=5, boosting_type=dart, feature_fraction=0.8, min_child_weight=0.001, min_data_in_leaf=120\n",
            "[CV 2/3; 14/64] END bagging_fraction=0.5, bagging_frequency=5, boosting_type=dart, feature_fraction=0.8, min_child_weight=0.001, min_data_in_leaf=120;, score=0.027 total time=  58.2s\n",
            "[CV 3/3; 14/64] START bagging_fraction=0.5, bagging_frequency=5, boosting_type=dart, feature_fraction=0.8, min_child_weight=0.001, min_data_in_leaf=120\n",
            "[CV 3/3; 14/64] END bagging_fraction=0.5, bagging_frequency=5, boosting_type=dart, feature_fraction=0.8, min_child_weight=0.001, min_data_in_leaf=120;, score=0.007 total time= 1.1min\n",
            "[CV 1/3; 15/64] START bagging_fraction=0.5, bagging_frequency=5, boosting_type=dart, feature_fraction=0.8, min_child_weight=0.01, min_data_in_leaf=90\n",
            "[CV 1/3; 15/64] END bagging_fraction=0.5, bagging_frequency=5, boosting_type=dart, feature_fraction=0.8, min_child_weight=0.01, min_data_in_leaf=90;, score=0.029 total time=  59.6s\n",
            "[CV 2/3; 15/64] START bagging_fraction=0.5, bagging_frequency=5, boosting_type=dart, feature_fraction=0.8, min_child_weight=0.01, min_data_in_leaf=90\n",
            "[CV 2/3; 15/64] END bagging_fraction=0.5, bagging_frequency=5, boosting_type=dart, feature_fraction=0.8, min_child_weight=0.01, min_data_in_leaf=90;, score=0.028 total time=  53.7s\n",
            "[CV 3/3; 15/64] START bagging_fraction=0.5, bagging_frequency=5, boosting_type=dart, feature_fraction=0.8, min_child_weight=0.01, min_data_in_leaf=90\n",
            "[CV 3/3; 15/64] END bagging_fraction=0.5, bagging_frequency=5, boosting_type=dart, feature_fraction=0.8, min_child_weight=0.01, min_data_in_leaf=90;, score=0.005 total time=  51.9s\n",
            "[CV 1/3; 16/64] START bagging_fraction=0.5, bagging_frequency=5, boosting_type=dart, feature_fraction=0.8, min_child_weight=0.01, min_data_in_leaf=120\n",
            "[CV 1/3; 16/64] END bagging_fraction=0.5, bagging_frequency=5, boosting_type=dart, feature_fraction=0.8, min_child_weight=0.01, min_data_in_leaf=120;, score=0.029 total time= 1.0min\n",
            "[CV 2/3; 16/64] START bagging_fraction=0.5, bagging_frequency=5, boosting_type=dart, feature_fraction=0.8, min_child_weight=0.01, min_data_in_leaf=120\n",
            "[CV 2/3; 16/64] END bagging_fraction=0.5, bagging_frequency=5, boosting_type=dart, feature_fraction=0.8, min_child_weight=0.01, min_data_in_leaf=120;, score=0.027 total time=  57.8s\n",
            "[CV 3/3; 16/64] START bagging_fraction=0.5, bagging_frequency=5, boosting_type=dart, feature_fraction=0.8, min_child_weight=0.01, min_data_in_leaf=120\n",
            "[CV 3/3; 16/64] END bagging_fraction=0.5, bagging_frequency=5, boosting_type=dart, feature_fraction=0.8, min_child_weight=0.01, min_data_in_leaf=120;, score=0.007 total time= 1.0min\n",
            "[CV 1/3; 17/64] START bagging_fraction=0.5, bagging_frequency=8, boosting_type=gbdt, feature_fraction=0.5, min_child_weight=0.001, min_data_in_leaf=90\n",
            "[CV 1/3; 17/64] END bagging_fraction=0.5, bagging_frequency=8, boosting_type=gbdt, feature_fraction=0.5, min_child_weight=0.001, min_data_in_leaf=90;, score=0.029 total time=  24.4s\n",
            "[CV 2/3; 17/64] START bagging_fraction=0.5, bagging_frequency=8, boosting_type=gbdt, feature_fraction=0.5, min_child_weight=0.001, min_data_in_leaf=90\n",
            "[CV 2/3; 17/64] END bagging_fraction=0.5, bagging_frequency=8, boosting_type=gbdt, feature_fraction=0.5, min_child_weight=0.001, min_data_in_leaf=90;, score=0.029 total time=  23.3s\n",
            "[CV 3/3; 17/64] START bagging_fraction=0.5, bagging_frequency=8, boosting_type=gbdt, feature_fraction=0.5, min_child_weight=0.001, min_data_in_leaf=90\n",
            "[CV 3/3; 17/64] END bagging_fraction=0.5, bagging_frequency=8, boosting_type=gbdt, feature_fraction=0.5, min_child_weight=0.001, min_data_in_leaf=90;, score=-0.010 total time=  24.2s\n",
            "[CV 1/3; 18/64] START bagging_fraction=0.5, bagging_frequency=8, boosting_type=gbdt, feature_fraction=0.5, min_child_weight=0.001, min_data_in_leaf=120\n",
            "[CV 1/3; 18/64] END bagging_fraction=0.5, bagging_frequency=8, boosting_type=gbdt, feature_fraction=0.5, min_child_weight=0.001, min_data_in_leaf=120;, score=0.029 total time=  24.7s\n",
            "[CV 2/3; 18/64] START bagging_fraction=0.5, bagging_frequency=8, boosting_type=gbdt, feature_fraction=0.5, min_child_weight=0.001, min_data_in_leaf=120\n",
            "[CV 2/3; 18/64] END bagging_fraction=0.5, bagging_frequency=8, boosting_type=gbdt, feature_fraction=0.5, min_child_weight=0.001, min_data_in_leaf=120;, score=0.028 total time=  23.6s\n",
            "[CV 3/3; 18/64] START bagging_fraction=0.5, bagging_frequency=8, boosting_type=gbdt, feature_fraction=0.5, min_child_weight=0.001, min_data_in_leaf=120\n",
            "[CV 3/3; 18/64] END bagging_fraction=0.5, bagging_frequency=8, boosting_type=gbdt, feature_fraction=0.5, min_child_weight=0.001, min_data_in_leaf=120;, score=-0.006 total time=  25.0s\n",
            "[CV 1/3; 19/64] START bagging_fraction=0.5, bagging_frequency=8, boosting_type=gbdt, feature_fraction=0.5, min_child_weight=0.01, min_data_in_leaf=90\n",
            "[CV 1/3; 19/64] END bagging_fraction=0.5, bagging_frequency=8, boosting_type=gbdt, feature_fraction=0.5, min_child_weight=0.01, min_data_in_leaf=90;, score=0.029 total time=  24.1s\n",
            "[CV 2/3; 19/64] START bagging_fraction=0.5, bagging_frequency=8, boosting_type=gbdt, feature_fraction=0.5, min_child_weight=0.01, min_data_in_leaf=90\n",
            "[CV 2/3; 19/64] END bagging_fraction=0.5, bagging_frequency=8, boosting_type=gbdt, feature_fraction=0.5, min_child_weight=0.01, min_data_in_leaf=90;, score=0.029 total time=  23.2s\n",
            "[CV 3/3; 19/64] START bagging_fraction=0.5, bagging_frequency=8, boosting_type=gbdt, feature_fraction=0.5, min_child_weight=0.01, min_data_in_leaf=90\n",
            "[CV 3/3; 19/64] END bagging_fraction=0.5, bagging_frequency=8, boosting_type=gbdt, feature_fraction=0.5, min_child_weight=0.01, min_data_in_leaf=90;, score=-0.010 total time=  23.9s\n",
            "[CV 1/3; 20/64] START bagging_fraction=0.5, bagging_frequency=8, boosting_type=gbdt, feature_fraction=0.5, min_child_weight=0.01, min_data_in_leaf=120\n",
            "[CV 1/3; 20/64] END bagging_fraction=0.5, bagging_frequency=8, boosting_type=gbdt, feature_fraction=0.5, min_child_weight=0.01, min_data_in_leaf=120;, score=0.029 total time=  24.8s\n",
            "[CV 2/3; 20/64] START bagging_fraction=0.5, bagging_frequency=8, boosting_type=gbdt, feature_fraction=0.5, min_child_weight=0.01, min_data_in_leaf=120\n",
            "[CV 2/3; 20/64] END bagging_fraction=0.5, bagging_frequency=8, boosting_type=gbdt, feature_fraction=0.5, min_child_weight=0.01, min_data_in_leaf=120;, score=0.028 total time=  23.6s\n",
            "[CV 3/3; 20/64] START bagging_fraction=0.5, bagging_frequency=8, boosting_type=gbdt, feature_fraction=0.5, min_child_weight=0.01, min_data_in_leaf=120\n",
            "[CV 3/3; 20/64] END bagging_fraction=0.5, bagging_frequency=8, boosting_type=gbdt, feature_fraction=0.5, min_child_weight=0.01, min_data_in_leaf=120;, score=-0.006 total time=  24.8s\n",
            "[CV 1/3; 21/64] START bagging_fraction=0.5, bagging_frequency=8, boosting_type=gbdt, feature_fraction=0.8, min_child_weight=0.001, min_data_in_leaf=90\n",
            "[CV 1/3; 21/64] END bagging_fraction=0.5, bagging_frequency=8, boosting_type=gbdt, feature_fraction=0.8, min_child_weight=0.001, min_data_in_leaf=90;, score=0.028 total time=  29.1s\n",
            "[CV 2/3; 21/64] START bagging_fraction=0.5, bagging_frequency=8, boosting_type=gbdt, feature_fraction=0.8, min_child_weight=0.001, min_data_in_leaf=90\n",
            "[CV 2/3; 21/64] END bagging_fraction=0.5, bagging_frequency=8, boosting_type=gbdt, feature_fraction=0.8, min_child_weight=0.001, min_data_in_leaf=90;, score=0.030 total time=  27.4s\n",
            "[CV 3/3; 21/64] START bagging_fraction=0.5, bagging_frequency=8, boosting_type=gbdt, feature_fraction=0.8, min_child_weight=0.001, min_data_in_leaf=90\n",
            "[CV 3/3; 21/64] END bagging_fraction=0.5, bagging_frequency=8, boosting_type=gbdt, feature_fraction=0.8, min_child_weight=0.001, min_data_in_leaf=90;, score=-0.009 total time=  28.4s\n",
            "[CV 1/3; 22/64] START bagging_fraction=0.5, bagging_frequency=8, boosting_type=gbdt, feature_fraction=0.8, min_child_weight=0.001, min_data_in_leaf=120\n",
            "[CV 1/3; 22/64] END bagging_fraction=0.5, bagging_frequency=8, boosting_type=gbdt, feature_fraction=0.8, min_child_weight=0.001, min_data_in_leaf=120;, score=0.028 total time=  29.8s\n",
            "[CV 2/3; 22/64] START bagging_fraction=0.5, bagging_frequency=8, boosting_type=gbdt, feature_fraction=0.8, min_child_weight=0.001, min_data_in_leaf=120\n",
            "[CV 2/3; 22/64] END bagging_fraction=0.5, bagging_frequency=8, boosting_type=gbdt, feature_fraction=0.8, min_child_weight=0.001, min_data_in_leaf=120;, score=0.026 total time=  28.8s\n",
            "[CV 3/3; 22/64] START bagging_fraction=0.5, bagging_frequency=8, boosting_type=gbdt, feature_fraction=0.8, min_child_weight=0.001, min_data_in_leaf=120\n",
            "[CV 3/3; 22/64] END bagging_fraction=0.5, bagging_frequency=8, boosting_type=gbdt, feature_fraction=0.8, min_child_weight=0.001, min_data_in_leaf=120;, score=-0.013 total time=  29.2s\n",
            "[CV 1/3; 23/64] START bagging_fraction=0.5, bagging_frequency=8, boosting_type=gbdt, feature_fraction=0.8, min_child_weight=0.01, min_data_in_leaf=90\n",
            "[CV 1/3; 23/64] END bagging_fraction=0.5, bagging_frequency=8, boosting_type=gbdt, feature_fraction=0.8, min_child_weight=0.01, min_data_in_leaf=90;, score=0.028 total time=  29.3s\n",
            "[CV 2/3; 23/64] START bagging_fraction=0.5, bagging_frequency=8, boosting_type=gbdt, feature_fraction=0.8, min_child_weight=0.01, min_data_in_leaf=90\n",
            "[CV 2/3; 23/64] END bagging_fraction=0.5, bagging_frequency=8, boosting_type=gbdt, feature_fraction=0.8, min_child_weight=0.01, min_data_in_leaf=90;, score=0.030 total time=  27.5s\n",
            "[CV 3/3; 23/64] START bagging_fraction=0.5, bagging_frequency=8, boosting_type=gbdt, feature_fraction=0.8, min_child_weight=0.01, min_data_in_leaf=90\n",
            "[CV 3/3; 23/64] END bagging_fraction=0.5, bagging_frequency=8, boosting_type=gbdt, feature_fraction=0.8, min_child_weight=0.01, min_data_in_leaf=90;, score=-0.009 total time=  28.6s\n",
            "[CV 1/3; 24/64] START bagging_fraction=0.5, bagging_frequency=8, boosting_type=gbdt, feature_fraction=0.8, min_child_weight=0.01, min_data_in_leaf=120\n",
            "[CV 1/3; 24/64] END bagging_fraction=0.5, bagging_frequency=8, boosting_type=gbdt, feature_fraction=0.8, min_child_weight=0.01, min_data_in_leaf=120;, score=0.028 total time=  29.8s\n",
            "[CV 2/3; 24/64] START bagging_fraction=0.5, bagging_frequency=8, boosting_type=gbdt, feature_fraction=0.8, min_child_weight=0.01, min_data_in_leaf=120\n",
            "[CV 2/3; 24/64] END bagging_fraction=0.5, bagging_frequency=8, boosting_type=gbdt, feature_fraction=0.8, min_child_weight=0.01, min_data_in_leaf=120;, score=0.026 total time=  28.9s\n",
            "[CV 3/3; 24/64] START bagging_fraction=0.5, bagging_frequency=8, boosting_type=gbdt, feature_fraction=0.8, min_child_weight=0.01, min_data_in_leaf=120\n",
            "[CV 3/3; 24/64] END bagging_fraction=0.5, bagging_frequency=8, boosting_type=gbdt, feature_fraction=0.8, min_child_weight=0.01, min_data_in_leaf=120;, score=-0.013 total time=  29.2s\n",
            "[CV 1/3; 25/64] START bagging_fraction=0.5, bagging_frequency=8, boosting_type=dart, feature_fraction=0.5, min_child_weight=0.001, min_data_in_leaf=90\n",
            "[CV 1/3; 25/64] END bagging_fraction=0.5, bagging_frequency=8, boosting_type=dart, feature_fraction=0.5, min_child_weight=0.001, min_data_in_leaf=90;, score=0.031 total time=  50.5s\n",
            "[CV 2/3; 25/64] START bagging_fraction=0.5, bagging_frequency=8, boosting_type=dart, feature_fraction=0.5, min_child_weight=0.001, min_data_in_leaf=90\n",
            "[CV 2/3; 25/64] END bagging_fraction=0.5, bagging_frequency=8, boosting_type=dart, feature_fraction=0.5, min_child_weight=0.001, min_data_in_leaf=90;, score=0.030 total time=  49.1s\n",
            "[CV 3/3; 25/64] START bagging_fraction=0.5, bagging_frequency=8, boosting_type=dart, feature_fraction=0.5, min_child_weight=0.001, min_data_in_leaf=90\n",
            "[CV 3/3; 25/64] END bagging_fraction=0.5, bagging_frequency=8, boosting_type=dart, feature_fraction=0.5, min_child_weight=0.001, min_data_in_leaf=90;, score=0.005 total time=  48.7s\n",
            "[CV 1/3; 26/64] START bagging_fraction=0.5, bagging_frequency=8, boosting_type=dart, feature_fraction=0.5, min_child_weight=0.001, min_data_in_leaf=120\n",
            "[CV 1/3; 26/64] END bagging_fraction=0.5, bagging_frequency=8, boosting_type=dart, feature_fraction=0.5, min_child_weight=0.001, min_data_in_leaf=120;, score=0.029 total time=  55.2s\n",
            "[CV 2/3; 26/64] START bagging_fraction=0.5, bagging_frequency=8, boosting_type=dart, feature_fraction=0.5, min_child_weight=0.001, min_data_in_leaf=120\n",
            "[CV 2/3; 26/64] END bagging_fraction=0.5, bagging_frequency=8, boosting_type=dart, feature_fraction=0.5, min_child_weight=0.001, min_data_in_leaf=120;, score=0.027 total time=  54.0s\n",
            "[CV 3/3; 26/64] START bagging_fraction=0.5, bagging_frequency=8, boosting_type=dart, feature_fraction=0.5, min_child_weight=0.001, min_data_in_leaf=120\n",
            "[CV 3/3; 26/64] END bagging_fraction=0.5, bagging_frequency=8, boosting_type=dart, feature_fraction=0.5, min_child_weight=0.001, min_data_in_leaf=120;, score=0.006 total time=  53.0s\n",
            "[CV 1/3; 27/64] START bagging_fraction=0.5, bagging_frequency=8, boosting_type=dart, feature_fraction=0.5, min_child_weight=0.01, min_data_in_leaf=90\n",
            "[CV 1/3; 27/64] END bagging_fraction=0.5, bagging_frequency=8, boosting_type=dart, feature_fraction=0.5, min_child_weight=0.01, min_data_in_leaf=90;, score=0.031 total time=  50.5s\n",
            "[CV 2/3; 27/64] START bagging_fraction=0.5, bagging_frequency=8, boosting_type=dart, feature_fraction=0.5, min_child_weight=0.01, min_data_in_leaf=90\n",
            "[CV 2/3; 27/64] END bagging_fraction=0.5, bagging_frequency=8, boosting_type=dart, feature_fraction=0.5, min_child_weight=0.01, min_data_in_leaf=90;, score=0.030 total time=  48.4s\n",
            "[CV 3/3; 27/64] START bagging_fraction=0.5, bagging_frequency=8, boosting_type=dart, feature_fraction=0.5, min_child_weight=0.01, min_data_in_leaf=90\n",
            "[CV 3/3; 27/64] END bagging_fraction=0.5, bagging_frequency=8, boosting_type=dart, feature_fraction=0.5, min_child_weight=0.01, min_data_in_leaf=90;, score=0.005 total time=  49.0s\n",
            "[CV 1/3; 28/64] START bagging_fraction=0.5, bagging_frequency=8, boosting_type=dart, feature_fraction=0.5, min_child_weight=0.01, min_data_in_leaf=120\n",
            "[CV 1/3; 28/64] END bagging_fraction=0.5, bagging_frequency=8, boosting_type=dart, feature_fraction=0.5, min_child_weight=0.01, min_data_in_leaf=120;, score=0.029 total time=  57.5s\n",
            "[CV 2/3; 28/64] START bagging_fraction=0.5, bagging_frequency=8, boosting_type=dart, feature_fraction=0.5, min_child_weight=0.01, min_data_in_leaf=120\n",
            "[CV 2/3; 28/64] END bagging_fraction=0.5, bagging_frequency=8, boosting_type=dart, feature_fraction=0.5, min_child_weight=0.01, min_data_in_leaf=120;, score=0.027 total time=  53.1s\n",
            "[CV 3/3; 28/64] START bagging_fraction=0.5, bagging_frequency=8, boosting_type=dart, feature_fraction=0.5, min_child_weight=0.01, min_data_in_leaf=120\n",
            "[CV 3/3; 28/64] END bagging_fraction=0.5, bagging_frequency=8, boosting_type=dart, feature_fraction=0.5, min_child_weight=0.01, min_data_in_leaf=120;, score=0.006 total time=  52.5s\n",
            "[CV 1/3; 29/64] START bagging_fraction=0.5, bagging_frequency=8, boosting_type=dart, feature_fraction=0.8, min_child_weight=0.001, min_data_in_leaf=90\n",
            "[CV 1/3; 29/64] END bagging_fraction=0.5, bagging_frequency=8, boosting_type=dart, feature_fraction=0.8, min_child_weight=0.001, min_data_in_leaf=90;, score=0.029 total time=  59.7s\n",
            "[CV 2/3; 29/64] START bagging_fraction=0.5, bagging_frequency=8, boosting_type=dart, feature_fraction=0.8, min_child_weight=0.001, min_data_in_leaf=90\n",
            "[CV 2/3; 29/64] END bagging_fraction=0.5, bagging_frequency=8, boosting_type=dart, feature_fraction=0.8, min_child_weight=0.001, min_data_in_leaf=90;, score=0.028 total time=  55.2s\n",
            "[CV 3/3; 29/64] START bagging_fraction=0.5, bagging_frequency=8, boosting_type=dart, feature_fraction=0.8, min_child_weight=0.001, min_data_in_leaf=90\n",
            "[CV 3/3; 29/64] END bagging_fraction=0.5, bagging_frequency=8, boosting_type=dart, feature_fraction=0.8, min_child_weight=0.001, min_data_in_leaf=90;, score=0.005 total time=  54.8s\n",
            "[CV 1/3; 30/64] START bagging_fraction=0.5, bagging_frequency=8, boosting_type=dart, feature_fraction=0.8, min_child_weight=0.001, min_data_in_leaf=120\n",
            "[CV 1/3; 30/64] END bagging_fraction=0.5, bagging_frequency=8, boosting_type=dart, feature_fraction=0.8, min_child_weight=0.001, min_data_in_leaf=120;, score=0.029 total time= 1.0min\n",
            "[CV 2/3; 30/64] START bagging_fraction=0.5, bagging_frequency=8, boosting_type=dart, feature_fraction=0.8, min_child_weight=0.001, min_data_in_leaf=120\n",
            "[CV 2/3; 30/64] END bagging_fraction=0.5, bagging_frequency=8, boosting_type=dart, feature_fraction=0.8, min_child_weight=0.001, min_data_in_leaf=120;, score=0.027 total time=  57.9s\n",
            "[CV 3/3; 30/64] START bagging_fraction=0.5, bagging_frequency=8, boosting_type=dart, feature_fraction=0.8, min_child_weight=0.001, min_data_in_leaf=120\n",
            "[CV 3/3; 30/64] END bagging_fraction=0.5, bagging_frequency=8, boosting_type=dart, feature_fraction=0.8, min_child_weight=0.001, min_data_in_leaf=120;, score=0.007 total time= 1.1min\n",
            "[CV 1/3; 31/64] START bagging_fraction=0.5, bagging_frequency=8, boosting_type=dart, feature_fraction=0.8, min_child_weight=0.01, min_data_in_leaf=90\n",
            "[CV 1/3; 31/64] END bagging_fraction=0.5, bagging_frequency=8, boosting_type=dart, feature_fraction=0.8, min_child_weight=0.01, min_data_in_leaf=90;, score=0.029 total time= 1.0min\n",
            "[CV 2/3; 31/64] START bagging_fraction=0.5, bagging_frequency=8, boosting_type=dart, feature_fraction=0.8, min_child_weight=0.01, min_data_in_leaf=90\n",
            "[CV 2/3; 31/64] END bagging_fraction=0.5, bagging_frequency=8, boosting_type=dart, feature_fraction=0.8, min_child_weight=0.01, min_data_in_leaf=90;, score=0.028 total time=  54.2s\n",
            "[CV 3/3; 31/64] START bagging_fraction=0.5, bagging_frequency=8, boosting_type=dart, feature_fraction=0.8, min_child_weight=0.01, min_data_in_leaf=90\n",
            "[CV 3/3; 31/64] END bagging_fraction=0.5, bagging_frequency=8, boosting_type=dart, feature_fraction=0.8, min_child_weight=0.01, min_data_in_leaf=90;, score=0.005 total time=  53.0s\n",
            "[CV 1/3; 32/64] START bagging_fraction=0.5, bagging_frequency=8, boosting_type=dart, feature_fraction=0.8, min_child_weight=0.01, min_data_in_leaf=120\n",
            "[CV 1/3; 32/64] END bagging_fraction=0.5, bagging_frequency=8, boosting_type=dart, feature_fraction=0.8, min_child_weight=0.01, min_data_in_leaf=120;, score=0.029 total time= 1.1min\n",
            "[CV 2/3; 32/64] START bagging_fraction=0.5, bagging_frequency=8, boosting_type=dart, feature_fraction=0.8, min_child_weight=0.01, min_data_in_leaf=120\n",
            "[CV 2/3; 32/64] END bagging_fraction=0.5, bagging_frequency=8, boosting_type=dart, feature_fraction=0.8, min_child_weight=0.01, min_data_in_leaf=120;, score=0.027 total time=  57.6s\n",
            "[CV 3/3; 32/64] START bagging_fraction=0.5, bagging_frequency=8, boosting_type=dart, feature_fraction=0.8, min_child_weight=0.01, min_data_in_leaf=120\n",
            "[CV 3/3; 32/64] END bagging_fraction=0.5, bagging_frequency=8, boosting_type=dart, feature_fraction=0.8, min_child_weight=0.01, min_data_in_leaf=120;, score=0.007 total time= 1.0min\n",
            "[CV 1/3; 33/64] START bagging_fraction=0.8, bagging_frequency=5, boosting_type=gbdt, feature_fraction=0.5, min_child_weight=0.001, min_data_in_leaf=90\n",
            "[CV 1/3; 33/64] END bagging_fraction=0.8, bagging_frequency=5, boosting_type=gbdt, feature_fraction=0.5, min_child_weight=0.001, min_data_in_leaf=90;, score=0.029 total time=  23.9s\n",
            "[CV 2/3; 33/64] START bagging_fraction=0.8, bagging_frequency=5, boosting_type=gbdt, feature_fraction=0.5, min_child_weight=0.001, min_data_in_leaf=90\n",
            "[CV 2/3; 33/64] END bagging_fraction=0.8, bagging_frequency=5, boosting_type=gbdt, feature_fraction=0.5, min_child_weight=0.001, min_data_in_leaf=90;, score=0.029 total time=  22.9s\n",
            "[CV 3/3; 33/64] START bagging_fraction=0.8, bagging_frequency=5, boosting_type=gbdt, feature_fraction=0.5, min_child_weight=0.001, min_data_in_leaf=90\n",
            "[CV 3/3; 33/64] END bagging_fraction=0.8, bagging_frequency=5, boosting_type=gbdt, feature_fraction=0.5, min_child_weight=0.001, min_data_in_leaf=90;, score=-0.010 total time=  23.9s\n",
            "[CV 1/3; 34/64] START bagging_fraction=0.8, bagging_frequency=5, boosting_type=gbdt, feature_fraction=0.5, min_child_weight=0.001, min_data_in_leaf=120\n",
            "[CV 1/3; 34/64] END bagging_fraction=0.8, bagging_frequency=5, boosting_type=gbdt, feature_fraction=0.5, min_child_weight=0.001, min_data_in_leaf=120;, score=0.029 total time=  24.6s\n",
            "[CV 2/3; 34/64] START bagging_fraction=0.8, bagging_frequency=5, boosting_type=gbdt, feature_fraction=0.5, min_child_weight=0.001, min_data_in_leaf=120\n",
            "[CV 2/3; 34/64] END bagging_fraction=0.8, bagging_frequency=5, boosting_type=gbdt, feature_fraction=0.5, min_child_weight=0.001, min_data_in_leaf=120;, score=0.028 total time=  23.5s\n",
            "[CV 3/3; 34/64] START bagging_fraction=0.8, bagging_frequency=5, boosting_type=gbdt, feature_fraction=0.5, min_child_weight=0.001, min_data_in_leaf=120\n",
            "[CV 3/3; 34/64] END bagging_fraction=0.8, bagging_frequency=5, boosting_type=gbdt, feature_fraction=0.5, min_child_weight=0.001, min_data_in_leaf=120;, score=-0.006 total time=  24.8s\n",
            "[CV 1/3; 35/64] START bagging_fraction=0.8, bagging_frequency=5, boosting_type=gbdt, feature_fraction=0.5, min_child_weight=0.01, min_data_in_leaf=90\n",
            "[CV 1/3; 35/64] END bagging_fraction=0.8, bagging_frequency=5, boosting_type=gbdt, feature_fraction=0.5, min_child_weight=0.01, min_data_in_leaf=90;, score=0.029 total time=  23.9s\n",
            "[CV 2/3; 35/64] START bagging_fraction=0.8, bagging_frequency=5, boosting_type=gbdt, feature_fraction=0.5, min_child_weight=0.01, min_data_in_leaf=90\n",
            "[CV 2/3; 35/64] END bagging_fraction=0.8, bagging_frequency=5, boosting_type=gbdt, feature_fraction=0.5, min_child_weight=0.01, min_data_in_leaf=90;, score=0.029 total time=  23.2s\n",
            "[CV 3/3; 35/64] START bagging_fraction=0.8, bagging_frequency=5, boosting_type=gbdt, feature_fraction=0.5, min_child_weight=0.01, min_data_in_leaf=90\n",
            "[CV 3/3; 35/64] END bagging_fraction=0.8, bagging_frequency=5, boosting_type=gbdt, feature_fraction=0.5, min_child_weight=0.01, min_data_in_leaf=90;, score=-0.010 total time=  24.1s\n",
            "[CV 1/3; 36/64] START bagging_fraction=0.8, bagging_frequency=5, boosting_type=gbdt, feature_fraction=0.5, min_child_weight=0.01, min_data_in_leaf=120\n",
            "[CV 1/3; 36/64] END bagging_fraction=0.8, bagging_frequency=5, boosting_type=gbdt, feature_fraction=0.5, min_child_weight=0.01, min_data_in_leaf=120;, score=0.029 total time=  24.6s\n",
            "[CV 2/3; 36/64] START bagging_fraction=0.8, bagging_frequency=5, boosting_type=gbdt, feature_fraction=0.5, min_child_weight=0.01, min_data_in_leaf=120\n",
            "[CV 2/3; 36/64] END bagging_fraction=0.8, bagging_frequency=5, boosting_type=gbdt, feature_fraction=0.5, min_child_weight=0.01, min_data_in_leaf=120;, score=0.028 total time=  23.7s\n",
            "[CV 3/3; 36/64] START bagging_fraction=0.8, bagging_frequency=5, boosting_type=gbdt, feature_fraction=0.5, min_child_weight=0.01, min_data_in_leaf=120\n",
            "[CV 3/3; 36/64] END bagging_fraction=0.8, bagging_frequency=5, boosting_type=gbdt, feature_fraction=0.5, min_child_weight=0.01, min_data_in_leaf=120;, score=-0.006 total time=  25.0s\n",
            "[CV 1/3; 37/64] START bagging_fraction=0.8, bagging_frequency=5, boosting_type=gbdt, feature_fraction=0.8, min_child_weight=0.001, min_data_in_leaf=90\n",
            "[CV 1/3; 37/64] END bagging_fraction=0.8, bagging_frequency=5, boosting_type=gbdt, feature_fraction=0.8, min_child_weight=0.001, min_data_in_leaf=90;, score=0.028 total time=  29.2s\n",
            "[CV 2/3; 37/64] START bagging_fraction=0.8, bagging_frequency=5, boosting_type=gbdt, feature_fraction=0.8, min_child_weight=0.001, min_data_in_leaf=90\n",
            "[CV 2/3; 37/64] END bagging_fraction=0.8, bagging_frequency=5, boosting_type=gbdt, feature_fraction=0.8, min_child_weight=0.001, min_data_in_leaf=90;, score=0.030 total time=  27.5s\n",
            "[CV 3/3; 37/64] START bagging_fraction=0.8, bagging_frequency=5, boosting_type=gbdt, feature_fraction=0.8, min_child_weight=0.001, min_data_in_leaf=90\n",
            "[CV 3/3; 37/64] END bagging_fraction=0.8, bagging_frequency=5, boosting_type=gbdt, feature_fraction=0.8, min_child_weight=0.001, min_data_in_leaf=90;, score=-0.009 total time=  28.6s\n",
            "[CV 1/3; 38/64] START bagging_fraction=0.8, bagging_frequency=5, boosting_type=gbdt, feature_fraction=0.8, min_child_weight=0.001, min_data_in_leaf=120\n",
            "[CV 1/3; 38/64] END bagging_fraction=0.8, bagging_frequency=5, boosting_type=gbdt, feature_fraction=0.8, min_child_weight=0.001, min_data_in_leaf=120;, score=0.028 total time=  29.8s\n",
            "[CV 2/3; 38/64] START bagging_fraction=0.8, bagging_frequency=5, boosting_type=gbdt, feature_fraction=0.8, min_child_weight=0.001, min_data_in_leaf=120\n",
            "[CV 2/3; 38/64] END bagging_fraction=0.8, bagging_frequency=5, boosting_type=gbdt, feature_fraction=0.8, min_child_weight=0.001, min_data_in_leaf=120;, score=0.026 total time=  28.8s\n",
            "[CV 3/3; 38/64] START bagging_fraction=0.8, bagging_frequency=5, boosting_type=gbdt, feature_fraction=0.8, min_child_weight=0.001, min_data_in_leaf=120\n",
            "[CV 3/3; 38/64] END bagging_fraction=0.8, bagging_frequency=5, boosting_type=gbdt, feature_fraction=0.8, min_child_weight=0.001, min_data_in_leaf=120;, score=-0.013 total time=  29.3s\n",
            "[CV 1/3; 39/64] START bagging_fraction=0.8, bagging_frequency=5, boosting_type=gbdt, feature_fraction=0.8, min_child_weight=0.01, min_data_in_leaf=90\n",
            "[CV 1/3; 39/64] END bagging_fraction=0.8, bagging_frequency=5, boosting_type=gbdt, feature_fraction=0.8, min_child_weight=0.01, min_data_in_leaf=90;, score=0.028 total time=  29.2s\n",
            "[CV 2/3; 39/64] START bagging_fraction=0.8, bagging_frequency=5, boosting_type=gbdt, feature_fraction=0.8, min_child_weight=0.01, min_data_in_leaf=90\n",
            "[CV 2/3; 39/64] END bagging_fraction=0.8, bagging_frequency=5, boosting_type=gbdt, feature_fraction=0.8, min_child_weight=0.01, min_data_in_leaf=90;, score=0.030 total time=  27.8s\n",
            "[CV 3/3; 39/64] START bagging_fraction=0.8, bagging_frequency=5, boosting_type=gbdt, feature_fraction=0.8, min_child_weight=0.01, min_data_in_leaf=90\n",
            "[CV 3/3; 39/64] END bagging_fraction=0.8, bagging_frequency=5, boosting_type=gbdt, feature_fraction=0.8, min_child_weight=0.01, min_data_in_leaf=90;, score=-0.009 total time=  28.5s\n",
            "[CV 1/3; 40/64] START bagging_fraction=0.8, bagging_frequency=5, boosting_type=gbdt, feature_fraction=0.8, min_child_weight=0.01, min_data_in_leaf=120\n",
            "[CV 1/3; 40/64] END bagging_fraction=0.8, bagging_frequency=5, boosting_type=gbdt, feature_fraction=0.8, min_child_weight=0.01, min_data_in_leaf=120;, score=0.028 total time=  29.6s\n",
            "[CV 2/3; 40/64] START bagging_fraction=0.8, bagging_frequency=5, boosting_type=gbdt, feature_fraction=0.8, min_child_weight=0.01, min_data_in_leaf=120\n",
            "[CV 2/3; 40/64] END bagging_fraction=0.8, bagging_frequency=5, boosting_type=gbdt, feature_fraction=0.8, min_child_weight=0.01, min_data_in_leaf=120;, score=0.026 total time=  29.1s\n",
            "[CV 3/3; 40/64] START bagging_fraction=0.8, bagging_frequency=5, boosting_type=gbdt, feature_fraction=0.8, min_child_weight=0.01, min_data_in_leaf=120\n",
            "[CV 3/3; 40/64] END bagging_fraction=0.8, bagging_frequency=5, boosting_type=gbdt, feature_fraction=0.8, min_child_weight=0.01, min_data_in_leaf=120;, score=-0.013 total time=  29.4s\n",
            "[CV 1/3; 41/64] START bagging_fraction=0.8, bagging_frequency=5, boosting_type=dart, feature_fraction=0.5, min_child_weight=0.001, min_data_in_leaf=90\n",
            "[CV 1/3; 41/64] END bagging_fraction=0.8, bagging_frequency=5, boosting_type=dart, feature_fraction=0.5, min_child_weight=0.001, min_data_in_leaf=90;, score=0.031 total time=  52.2s\n",
            "[CV 2/3; 41/64] START bagging_fraction=0.8, bagging_frequency=5, boosting_type=dart, feature_fraction=0.5, min_child_weight=0.001, min_data_in_leaf=90\n",
            "[CV 2/3; 41/64] END bagging_fraction=0.8, bagging_frequency=5, boosting_type=dart, feature_fraction=0.5, min_child_weight=0.001, min_data_in_leaf=90;, score=0.030 total time=  50.9s\n",
            "[CV 3/3; 41/64] START bagging_fraction=0.8, bagging_frequency=5, boosting_type=dart, feature_fraction=0.5, min_child_weight=0.001, min_data_in_leaf=90\n",
            "[CV 3/3; 41/64] END bagging_fraction=0.8, bagging_frequency=5, boosting_type=dart, feature_fraction=0.5, min_child_weight=0.001, min_data_in_leaf=90;, score=0.005 total time=  49.1s\n",
            "[CV 1/3; 42/64] START bagging_fraction=0.8, bagging_frequency=5, boosting_type=dart, feature_fraction=0.5, min_child_weight=0.001, min_data_in_leaf=120\n",
            "[CV 1/3; 42/64] END bagging_fraction=0.8, bagging_frequency=5, boosting_type=dart, feature_fraction=0.5, min_child_weight=0.001, min_data_in_leaf=120;, score=0.029 total time=  58.4s\n",
            "[CV 2/3; 42/64] START bagging_fraction=0.8, bagging_frequency=5, boosting_type=dart, feature_fraction=0.5, min_child_weight=0.001, min_data_in_leaf=120\n",
            "[CV 2/3; 42/64] END bagging_fraction=0.8, bagging_frequency=5, boosting_type=dart, feature_fraction=0.5, min_child_weight=0.001, min_data_in_leaf=120;, score=0.027 total time=  55.5s\n",
            "[CV 3/3; 42/64] START bagging_fraction=0.8, bagging_frequency=5, boosting_type=dart, feature_fraction=0.5, min_child_weight=0.001, min_data_in_leaf=120\n",
            "[CV 3/3; 42/64] END bagging_fraction=0.8, bagging_frequency=5, boosting_type=dart, feature_fraction=0.5, min_child_weight=0.001, min_data_in_leaf=120;, score=0.006 total time=  55.6s\n",
            "[CV 1/3; 43/64] START bagging_fraction=0.8, bagging_frequency=5, boosting_type=dart, feature_fraction=0.5, min_child_weight=0.01, min_data_in_leaf=90\n",
            "[CV 1/3; 43/64] END bagging_fraction=0.8, bagging_frequency=5, boosting_type=dart, feature_fraction=0.5, min_child_weight=0.01, min_data_in_leaf=90;, score=0.031 total time=  50.3s\n",
            "[CV 2/3; 43/64] START bagging_fraction=0.8, bagging_frequency=5, boosting_type=dart, feature_fraction=0.5, min_child_weight=0.01, min_data_in_leaf=90\n",
            "[CV 2/3; 43/64] END bagging_fraction=0.8, bagging_frequency=5, boosting_type=dart, feature_fraction=0.5, min_child_weight=0.01, min_data_in_leaf=90;, score=0.030 total time=  49.1s\n",
            "[CV 3/3; 43/64] START bagging_fraction=0.8, bagging_frequency=5, boosting_type=dart, feature_fraction=0.5, min_child_weight=0.01, min_data_in_leaf=90\n",
            "[CV 3/3; 43/64] END bagging_fraction=0.8, bagging_frequency=5, boosting_type=dart, feature_fraction=0.5, min_child_weight=0.01, min_data_in_leaf=90;, score=0.005 total time=  48.4s\n",
            "[CV 1/3; 44/64] START bagging_fraction=0.8, bagging_frequency=5, boosting_type=dart, feature_fraction=0.5, min_child_weight=0.01, min_data_in_leaf=120\n",
            "[CV 1/3; 44/64] END bagging_fraction=0.8, bagging_frequency=5, boosting_type=dart, feature_fraction=0.5, min_child_weight=0.01, min_data_in_leaf=120;, score=0.029 total time=  59.0s\n",
            "[CV 2/3; 44/64] START bagging_fraction=0.8, bagging_frequency=5, boosting_type=dart, feature_fraction=0.5, min_child_weight=0.01, min_data_in_leaf=120\n",
            "[CV 2/3; 44/64] END bagging_fraction=0.8, bagging_frequency=5, boosting_type=dart, feature_fraction=0.5, min_child_weight=0.01, min_data_in_leaf=120;, score=0.027 total time=  55.7s\n",
            "[CV 3/3; 44/64] START bagging_fraction=0.8, bagging_frequency=5, boosting_type=dart, feature_fraction=0.5, min_child_weight=0.01, min_data_in_leaf=120\n",
            "[CV 3/3; 44/64] END bagging_fraction=0.8, bagging_frequency=5, boosting_type=dart, feature_fraction=0.5, min_child_weight=0.01, min_data_in_leaf=120;, score=0.006 total time=  52.9s\n",
            "[CV 1/3; 45/64] START bagging_fraction=0.8, bagging_frequency=5, boosting_type=dart, feature_fraction=0.8, min_child_weight=0.001, min_data_in_leaf=90\n",
            "[CV 1/3; 45/64] END bagging_fraction=0.8, bagging_frequency=5, boosting_type=dart, feature_fraction=0.8, min_child_weight=0.001, min_data_in_leaf=90;, score=0.029 total time=  58.5s\n",
            "[CV 2/3; 45/64] START bagging_fraction=0.8, bagging_frequency=5, boosting_type=dart, feature_fraction=0.8, min_child_weight=0.001, min_data_in_leaf=90\n",
            "[CV 2/3; 45/64] END bagging_fraction=0.8, bagging_frequency=5, boosting_type=dart, feature_fraction=0.8, min_child_weight=0.001, min_data_in_leaf=90;, score=0.028 total time=  53.6s\n",
            "[CV 3/3; 45/64] START bagging_fraction=0.8, bagging_frequency=5, boosting_type=dart, feature_fraction=0.8, min_child_weight=0.001, min_data_in_leaf=90\n",
            "[CV 3/3; 45/64] END bagging_fraction=0.8, bagging_frequency=5, boosting_type=dart, feature_fraction=0.8, min_child_weight=0.001, min_data_in_leaf=90;, score=0.005 total time=  54.9s\n",
            "[CV 1/3; 46/64] START bagging_fraction=0.8, bagging_frequency=5, boosting_type=dart, feature_fraction=0.8, min_child_weight=0.001, min_data_in_leaf=120\n",
            "[CV 1/3; 46/64] END bagging_fraction=0.8, bagging_frequency=5, boosting_type=dart, feature_fraction=0.8, min_child_weight=0.001, min_data_in_leaf=120;, score=0.029 total time= 1.0min\n",
            "[CV 2/3; 46/64] START bagging_fraction=0.8, bagging_frequency=5, boosting_type=dart, feature_fraction=0.8, min_child_weight=0.001, min_data_in_leaf=120\n",
            "[CV 2/3; 46/64] END bagging_fraction=0.8, bagging_frequency=5, boosting_type=dart, feature_fraction=0.8, min_child_weight=0.001, min_data_in_leaf=120;, score=0.027 total time=  59.7s\n",
            "[CV 3/3; 46/64] START bagging_fraction=0.8, bagging_frequency=5, boosting_type=dart, feature_fraction=0.8, min_child_weight=0.001, min_data_in_leaf=120\n",
            "[CV 3/3; 46/64] END bagging_fraction=0.8, bagging_frequency=5, boosting_type=dart, feature_fraction=0.8, min_child_weight=0.001, min_data_in_leaf=120;, score=0.007 total time= 1.0min\n",
            "[CV 1/3; 47/64] START bagging_fraction=0.8, bagging_frequency=5, boosting_type=dart, feature_fraction=0.8, min_child_weight=0.01, min_data_in_leaf=90\n",
            "[CV 1/3; 47/64] END bagging_fraction=0.8, bagging_frequency=5, boosting_type=dart, feature_fraction=0.8, min_child_weight=0.01, min_data_in_leaf=90;, score=0.029 total time= 1.0min\n",
            "[CV 2/3; 47/64] START bagging_fraction=0.8, bagging_frequency=5, boosting_type=dart, feature_fraction=0.8, min_child_weight=0.01, min_data_in_leaf=90\n",
            "[CV 2/3; 47/64] END bagging_fraction=0.8, bagging_frequency=5, boosting_type=dart, feature_fraction=0.8, min_child_weight=0.01, min_data_in_leaf=90;, score=0.028 total time=  55.0s\n",
            "[CV 3/3; 47/64] START bagging_fraction=0.8, bagging_frequency=5, boosting_type=dart, feature_fraction=0.8, min_child_weight=0.01, min_data_in_leaf=90\n",
            "[CV 3/3; 47/64] END bagging_fraction=0.8, bagging_frequency=5, boosting_type=dart, feature_fraction=0.8, min_child_weight=0.01, min_data_in_leaf=90;, score=0.005 total time=  54.6s\n",
            "[CV 1/3; 48/64] START bagging_fraction=0.8, bagging_frequency=5, boosting_type=dart, feature_fraction=0.8, min_child_weight=0.01, min_data_in_leaf=120\n",
            "[CV 1/3; 48/64] END bagging_fraction=0.8, bagging_frequency=5, boosting_type=dart, feature_fraction=0.8, min_child_weight=0.01, min_data_in_leaf=120;, score=0.029 total time= 1.1min\n",
            "[CV 2/3; 48/64] START bagging_fraction=0.8, bagging_frequency=5, boosting_type=dart, feature_fraction=0.8, min_child_weight=0.01, min_data_in_leaf=120\n",
            "[CV 2/3; 48/64] END bagging_fraction=0.8, bagging_frequency=5, boosting_type=dart, feature_fraction=0.8, min_child_weight=0.01, min_data_in_leaf=120;, score=0.027 total time= 1.0min\n",
            "[CV 3/3; 48/64] START bagging_fraction=0.8, bagging_frequency=5, boosting_type=dart, feature_fraction=0.8, min_child_weight=0.01, min_data_in_leaf=120\n",
            "[CV 3/3; 48/64] END bagging_fraction=0.8, bagging_frequency=5, boosting_type=dart, feature_fraction=0.8, min_child_weight=0.01, min_data_in_leaf=120;, score=0.007 total time= 1.0min\n",
            "[CV 1/3; 49/64] START bagging_fraction=0.8, bagging_frequency=8, boosting_type=gbdt, feature_fraction=0.5, min_child_weight=0.001, min_data_in_leaf=90\n",
            "[CV 1/3; 49/64] END bagging_fraction=0.8, bagging_frequency=8, boosting_type=gbdt, feature_fraction=0.5, min_child_weight=0.001, min_data_in_leaf=90;, score=0.029 total time=  24.5s\n",
            "[CV 2/3; 49/64] START bagging_fraction=0.8, bagging_frequency=8, boosting_type=gbdt, feature_fraction=0.5, min_child_weight=0.001, min_data_in_leaf=90\n",
            "[CV 2/3; 49/64] END bagging_fraction=0.8, bagging_frequency=8, boosting_type=gbdt, feature_fraction=0.5, min_child_weight=0.001, min_data_in_leaf=90;, score=0.029 total time=  23.7s\n",
            "[CV 3/3; 49/64] START bagging_fraction=0.8, bagging_frequency=8, boosting_type=gbdt, feature_fraction=0.5, min_child_weight=0.001, min_data_in_leaf=90\n",
            "[CV 3/3; 49/64] END bagging_fraction=0.8, bagging_frequency=8, boosting_type=gbdt, feature_fraction=0.5, min_child_weight=0.001, min_data_in_leaf=90;, score=-0.010 total time=  24.5s\n",
            "[CV 1/3; 50/64] START bagging_fraction=0.8, bagging_frequency=8, boosting_type=gbdt, feature_fraction=0.5, min_child_weight=0.001, min_data_in_leaf=120\n",
            "[CV 1/3; 50/64] END bagging_fraction=0.8, bagging_frequency=8, boosting_type=gbdt, feature_fraction=0.5, min_child_weight=0.001, min_data_in_leaf=120;, score=0.029 total time=  25.4s\n",
            "[CV 2/3; 50/64] START bagging_fraction=0.8, bagging_frequency=8, boosting_type=gbdt, feature_fraction=0.5, min_child_weight=0.001, min_data_in_leaf=120\n",
            "[CV 2/3; 50/64] END bagging_fraction=0.8, bagging_frequency=8, boosting_type=gbdt, feature_fraction=0.5, min_child_weight=0.001, min_data_in_leaf=120;, score=0.028 total time=  24.1s\n",
            "[CV 3/3; 50/64] START bagging_fraction=0.8, bagging_frequency=8, boosting_type=gbdt, feature_fraction=0.5, min_child_weight=0.001, min_data_in_leaf=120\n",
            "[CV 3/3; 50/64] END bagging_fraction=0.8, bagging_frequency=8, boosting_type=gbdt, feature_fraction=0.5, min_child_weight=0.001, min_data_in_leaf=120;, score=-0.006 total time=  25.2s\n",
            "[CV 1/3; 51/64] START bagging_fraction=0.8, bagging_frequency=8, boosting_type=gbdt, feature_fraction=0.5, min_child_weight=0.01, min_data_in_leaf=90\n",
            "[CV 1/3; 51/64] END bagging_fraction=0.8, bagging_frequency=8, boosting_type=gbdt, feature_fraction=0.5, min_child_weight=0.01, min_data_in_leaf=90;, score=0.029 total time=  24.5s\n",
            "[CV 2/3; 51/64] START bagging_fraction=0.8, bagging_frequency=8, boosting_type=gbdt, feature_fraction=0.5, min_child_weight=0.01, min_data_in_leaf=90\n",
            "[CV 2/3; 51/64] END bagging_fraction=0.8, bagging_frequency=8, boosting_type=gbdt, feature_fraction=0.5, min_child_weight=0.01, min_data_in_leaf=90;, score=0.029 total time=  23.3s\n",
            "[CV 3/3; 51/64] START bagging_fraction=0.8, bagging_frequency=8, boosting_type=gbdt, feature_fraction=0.5, min_child_weight=0.01, min_data_in_leaf=90\n",
            "[CV 3/3; 51/64] END bagging_fraction=0.8, bagging_frequency=8, boosting_type=gbdt, feature_fraction=0.5, min_child_weight=0.01, min_data_in_leaf=90;, score=-0.010 total time=  24.4s\n",
            "[CV 1/3; 52/64] START bagging_fraction=0.8, bagging_frequency=8, boosting_type=gbdt, feature_fraction=0.5, min_child_weight=0.01, min_data_in_leaf=120\n",
            "[CV 1/3; 52/64] END bagging_fraction=0.8, bagging_frequency=8, boosting_type=gbdt, feature_fraction=0.5, min_child_weight=0.01, min_data_in_leaf=120;, score=0.029 total time=  24.8s\n",
            "[CV 2/3; 52/64] START bagging_fraction=0.8, bagging_frequency=8, boosting_type=gbdt, feature_fraction=0.5, min_child_weight=0.01, min_data_in_leaf=120\n",
            "[CV 2/3; 52/64] END bagging_fraction=0.8, bagging_frequency=8, boosting_type=gbdt, feature_fraction=0.5, min_child_weight=0.01, min_data_in_leaf=120;, score=0.028 total time=  23.7s\n",
            "[CV 3/3; 52/64] START bagging_fraction=0.8, bagging_frequency=8, boosting_type=gbdt, feature_fraction=0.5, min_child_weight=0.01, min_data_in_leaf=120\n",
            "[CV 3/3; 52/64] END bagging_fraction=0.8, bagging_frequency=8, boosting_type=gbdt, feature_fraction=0.5, min_child_weight=0.01, min_data_in_leaf=120;, score=-0.006 total time=  25.1s\n",
            "[CV 1/3; 53/64] START bagging_fraction=0.8, bagging_frequency=8, boosting_type=gbdt, feature_fraction=0.8, min_child_weight=0.001, min_data_in_leaf=90\n",
            "[CV 1/3; 53/64] END bagging_fraction=0.8, bagging_frequency=8, boosting_type=gbdt, feature_fraction=0.8, min_child_weight=0.001, min_data_in_leaf=90;, score=0.028 total time=  29.4s\n",
            "[CV 2/3; 53/64] START bagging_fraction=0.8, bagging_frequency=8, boosting_type=gbdt, feature_fraction=0.8, min_child_weight=0.001, min_data_in_leaf=90\n",
            "[CV 2/3; 53/64] END bagging_fraction=0.8, bagging_frequency=8, boosting_type=gbdt, feature_fraction=0.8, min_child_weight=0.001, min_data_in_leaf=90;, score=0.030 total time=  27.8s\n",
            "[CV 3/3; 53/64] START bagging_fraction=0.8, bagging_frequency=8, boosting_type=gbdt, feature_fraction=0.8, min_child_weight=0.001, min_data_in_leaf=90\n",
            "[CV 3/3; 53/64] END bagging_fraction=0.8, bagging_frequency=8, boosting_type=gbdt, feature_fraction=0.8, min_child_weight=0.001, min_data_in_leaf=90;, score=-0.009 total time=  28.7s\n",
            "[CV 1/3; 54/64] START bagging_fraction=0.8, bagging_frequency=8, boosting_type=gbdt, feature_fraction=0.8, min_child_weight=0.001, min_data_in_leaf=120\n",
            "[CV 1/3; 54/64] END bagging_fraction=0.8, bagging_frequency=8, boosting_type=gbdt, feature_fraction=0.8, min_child_weight=0.001, min_data_in_leaf=120;, score=0.028 total time=  29.8s\n",
            "[CV 2/3; 54/64] START bagging_fraction=0.8, bagging_frequency=8, boosting_type=gbdt, feature_fraction=0.8, min_child_weight=0.001, min_data_in_leaf=120\n",
            "[CV 2/3; 54/64] END bagging_fraction=0.8, bagging_frequency=8, boosting_type=gbdt, feature_fraction=0.8, min_child_weight=0.001, min_data_in_leaf=120;, score=0.026 total time=  28.8s\n",
            "[CV 3/3; 54/64] START bagging_fraction=0.8, bagging_frequency=8, boosting_type=gbdt, feature_fraction=0.8, min_child_weight=0.001, min_data_in_leaf=120\n",
            "[CV 3/3; 54/64] END bagging_fraction=0.8, bagging_frequency=8, boosting_type=gbdt, feature_fraction=0.8, min_child_weight=0.001, min_data_in_leaf=120;, score=-0.013 total time=  29.3s\n",
            "[CV 1/3; 55/64] START bagging_fraction=0.8, bagging_frequency=8, boosting_type=gbdt, feature_fraction=0.8, min_child_weight=0.01, min_data_in_leaf=90\n",
            "[CV 1/3; 55/64] END bagging_fraction=0.8, bagging_frequency=8, boosting_type=gbdt, feature_fraction=0.8, min_child_weight=0.01, min_data_in_leaf=90;, score=0.028 total time=  29.4s\n",
            "[CV 2/3; 55/64] START bagging_fraction=0.8, bagging_frequency=8, boosting_type=gbdt, feature_fraction=0.8, min_child_weight=0.01, min_data_in_leaf=90\n",
            "[CV 2/3; 55/64] END bagging_fraction=0.8, bagging_frequency=8, boosting_type=gbdt, feature_fraction=0.8, min_child_weight=0.01, min_data_in_leaf=90;, score=0.030 total time=  27.9s\n",
            "[CV 3/3; 55/64] START bagging_fraction=0.8, bagging_frequency=8, boosting_type=gbdt, feature_fraction=0.8, min_child_weight=0.01, min_data_in_leaf=90\n",
            "[CV 3/3; 55/64] END bagging_fraction=0.8, bagging_frequency=8, boosting_type=gbdt, feature_fraction=0.8, min_child_weight=0.01, min_data_in_leaf=90;, score=-0.009 total time=  28.8s\n",
            "[CV 1/3; 56/64] START bagging_fraction=0.8, bagging_frequency=8, boosting_type=gbdt, feature_fraction=0.8, min_child_weight=0.01, min_data_in_leaf=120\n",
            "[CV 1/3; 56/64] END bagging_fraction=0.8, bagging_frequency=8, boosting_type=gbdt, feature_fraction=0.8, min_child_weight=0.01, min_data_in_leaf=120;, score=0.028 total time=  30.0s\n",
            "[CV 2/3; 56/64] START bagging_fraction=0.8, bagging_frequency=8, boosting_type=gbdt, feature_fraction=0.8, min_child_weight=0.01, min_data_in_leaf=120\n",
            "[CV 2/3; 56/64] END bagging_fraction=0.8, bagging_frequency=8, boosting_type=gbdt, feature_fraction=0.8, min_child_weight=0.01, min_data_in_leaf=120;, score=0.026 total time=  29.0s\n",
            "[CV 3/3; 56/64] START bagging_fraction=0.8, bagging_frequency=8, boosting_type=gbdt, feature_fraction=0.8, min_child_weight=0.01, min_data_in_leaf=120\n",
            "[CV 3/3; 56/64] END bagging_fraction=0.8, bagging_frequency=8, boosting_type=gbdt, feature_fraction=0.8, min_child_weight=0.01, min_data_in_leaf=120;, score=-0.013 total time=  29.3s\n",
            "[CV 1/3; 57/64] START bagging_fraction=0.8, bagging_frequency=8, boosting_type=dart, feature_fraction=0.5, min_child_weight=0.001, min_data_in_leaf=90\n",
            "[CV 1/3; 57/64] END bagging_fraction=0.8, bagging_frequency=8, boosting_type=dart, feature_fraction=0.5, min_child_weight=0.001, min_data_in_leaf=90;, score=0.031 total time=  52.6s\n",
            "[CV 2/3; 57/64] START bagging_fraction=0.8, bagging_frequency=8, boosting_type=dart, feature_fraction=0.5, min_child_weight=0.001, min_data_in_leaf=90\n",
            "[CV 2/3; 57/64] END bagging_fraction=0.8, bagging_frequency=8, boosting_type=dart, feature_fraction=0.5, min_child_weight=0.001, min_data_in_leaf=90;, score=0.030 total time=  48.8s\n",
            "[CV 3/3; 57/64] START bagging_fraction=0.8, bagging_frequency=8, boosting_type=dart, feature_fraction=0.5, min_child_weight=0.001, min_data_in_leaf=90\n",
            "[CV 3/3; 57/64] END bagging_fraction=0.8, bagging_frequency=8, boosting_type=dart, feature_fraction=0.5, min_child_weight=0.001, min_data_in_leaf=90;, score=0.005 total time=  48.9s\n",
            "[CV 1/3; 58/64] START bagging_fraction=0.8, bagging_frequency=8, boosting_type=dart, feature_fraction=0.5, min_child_weight=0.001, min_data_in_leaf=120\n",
            "[CV 1/3; 58/64] END bagging_fraction=0.8, bagging_frequency=8, boosting_type=dart, feature_fraction=0.5, min_child_weight=0.001, min_data_in_leaf=120;, score=0.029 total time=  55.2s\n",
            "[CV 2/3; 58/64] START bagging_fraction=0.8, bagging_frequency=8, boosting_type=dart, feature_fraction=0.5, min_child_weight=0.001, min_data_in_leaf=120\n",
            "[CV 2/3; 58/64] END bagging_fraction=0.8, bagging_frequency=8, boosting_type=dart, feature_fraction=0.5, min_child_weight=0.001, min_data_in_leaf=120;, score=0.027 total time=  52.7s\n",
            "[CV 3/3; 58/64] START bagging_fraction=0.8, bagging_frequency=8, boosting_type=dart, feature_fraction=0.5, min_child_weight=0.001, min_data_in_leaf=120\n",
            "[CV 3/3; 58/64] END bagging_fraction=0.8, bagging_frequency=8, boosting_type=dart, feature_fraction=0.5, min_child_weight=0.001, min_data_in_leaf=120;, score=0.006 total time=  54.2s\n",
            "[CV 1/3; 59/64] START bagging_fraction=0.8, bagging_frequency=8, boosting_type=dart, feature_fraction=0.5, min_child_weight=0.01, min_data_in_leaf=90\n",
            "[CV 1/3; 59/64] END bagging_fraction=0.8, bagging_frequency=8, boosting_type=dart, feature_fraction=0.5, min_child_weight=0.01, min_data_in_leaf=90;, score=0.031 total time=  52.1s\n",
            "[CV 2/3; 59/64] START bagging_fraction=0.8, bagging_frequency=8, boosting_type=dart, feature_fraction=0.5, min_child_weight=0.01, min_data_in_leaf=90\n",
            "[CV 2/3; 59/64] END bagging_fraction=0.8, bagging_frequency=8, boosting_type=dart, feature_fraction=0.5, min_child_weight=0.01, min_data_in_leaf=90;, score=0.030 total time=  50.3s\n",
            "[CV 3/3; 59/64] START bagging_fraction=0.8, bagging_frequency=8, boosting_type=dart, feature_fraction=0.5, min_child_weight=0.01, min_data_in_leaf=90\n",
            "[CV 3/3; 59/64] END bagging_fraction=0.8, bagging_frequency=8, boosting_type=dart, feature_fraction=0.5, min_child_weight=0.01, min_data_in_leaf=90;, score=0.005 total time=  48.6s\n",
            "[CV 1/3; 60/64] START bagging_fraction=0.8, bagging_frequency=8, boosting_type=dart, feature_fraction=0.5, min_child_weight=0.01, min_data_in_leaf=120\n",
            "[CV 1/3; 60/64] END bagging_fraction=0.8, bagging_frequency=8, boosting_type=dart, feature_fraction=0.5, min_child_weight=0.01, min_data_in_leaf=120;, score=0.029 total time=  58.8s\n",
            "[CV 2/3; 60/64] START bagging_fraction=0.8, bagging_frequency=8, boosting_type=dart, feature_fraction=0.5, min_child_weight=0.01, min_data_in_leaf=120\n",
            "[CV 2/3; 60/64] END bagging_fraction=0.8, bagging_frequency=8, boosting_type=dart, feature_fraction=0.5, min_child_weight=0.01, min_data_in_leaf=120;, score=0.027 total time=  52.9s\n",
            "[CV 3/3; 60/64] START bagging_fraction=0.8, bagging_frequency=8, boosting_type=dart, feature_fraction=0.5, min_child_weight=0.01, min_data_in_leaf=120\n",
            "[CV 3/3; 60/64] END bagging_fraction=0.8, bagging_frequency=8, boosting_type=dart, feature_fraction=0.5, min_child_weight=0.01, min_data_in_leaf=120;, score=0.006 total time=  53.6s\n",
            "[CV 1/3; 61/64] START bagging_fraction=0.8, bagging_frequency=8, boosting_type=dart, feature_fraction=0.8, min_child_weight=0.001, min_data_in_leaf=90\n",
            "[CV 1/3; 61/64] END bagging_fraction=0.8, bagging_frequency=8, boosting_type=dart, feature_fraction=0.8, min_child_weight=0.001, min_data_in_leaf=90;, score=0.029 total time=  58.7s\n",
            "[CV 2/3; 61/64] START bagging_fraction=0.8, bagging_frequency=8, boosting_type=dart, feature_fraction=0.8, min_child_weight=0.001, min_data_in_leaf=90\n",
            "[CV 2/3; 61/64] END bagging_fraction=0.8, bagging_frequency=8, boosting_type=dart, feature_fraction=0.8, min_child_weight=0.001, min_data_in_leaf=90;, score=0.028 total time=  52.7s\n",
            "[CV 3/3; 61/64] START bagging_fraction=0.8, bagging_frequency=8, boosting_type=dart, feature_fraction=0.8, min_child_weight=0.001, min_data_in_leaf=90\n",
            "[CV 3/3; 61/64] END bagging_fraction=0.8, bagging_frequency=8, boosting_type=dart, feature_fraction=0.8, min_child_weight=0.001, min_data_in_leaf=90;, score=0.005 total time=  54.2s\n",
            "[CV 1/3; 62/64] START bagging_fraction=0.8, bagging_frequency=8, boosting_type=dart, feature_fraction=0.8, min_child_weight=0.001, min_data_in_leaf=120\n",
            "[CV 1/3; 62/64] END bagging_fraction=0.8, bagging_frequency=8, boosting_type=dart, feature_fraction=0.8, min_child_weight=0.001, min_data_in_leaf=120;, score=0.029 total time= 1.1min\n",
            "[CV 2/3; 62/64] START bagging_fraction=0.8, bagging_frequency=8, boosting_type=dart, feature_fraction=0.8, min_child_weight=0.001, min_data_in_leaf=120\n",
            "[CV 2/3; 62/64] END bagging_fraction=0.8, bagging_frequency=8, boosting_type=dart, feature_fraction=0.8, min_child_weight=0.001, min_data_in_leaf=120;, score=0.027 total time=  58.3s\n",
            "[CV 3/3; 62/64] START bagging_fraction=0.8, bagging_frequency=8, boosting_type=dart, feature_fraction=0.8, min_child_weight=0.001, min_data_in_leaf=120\n",
            "[CV 3/3; 62/64] END bagging_fraction=0.8, bagging_frequency=8, boosting_type=dart, feature_fraction=0.8, min_child_weight=0.001, min_data_in_leaf=120;, score=0.007 total time= 1.0min\n",
            "[CV 1/3; 63/64] START bagging_fraction=0.8, bagging_frequency=8, boosting_type=dart, feature_fraction=0.8, min_child_weight=0.01, min_data_in_leaf=90\n",
            "[CV 1/3; 63/64] END bagging_fraction=0.8, bagging_frequency=8, boosting_type=dart, feature_fraction=0.8, min_child_weight=0.01, min_data_in_leaf=90;, score=0.029 total time=  58.9s\n",
            "[CV 2/3; 63/64] START bagging_fraction=0.8, bagging_frequency=8, boosting_type=dart, feature_fraction=0.8, min_child_weight=0.01, min_data_in_leaf=90\n",
            "[CV 2/3; 63/64] END bagging_fraction=0.8, bagging_frequency=8, boosting_type=dart, feature_fraction=0.8, min_child_weight=0.01, min_data_in_leaf=90;, score=0.028 total time=  53.5s\n",
            "[CV 3/3; 63/64] START bagging_fraction=0.8, bagging_frequency=8, boosting_type=dart, feature_fraction=0.8, min_child_weight=0.01, min_data_in_leaf=90\n",
            "[CV 3/3; 63/64] END bagging_fraction=0.8, bagging_frequency=8, boosting_type=dart, feature_fraction=0.8, min_child_weight=0.01, min_data_in_leaf=90;, score=0.005 total time=  52.2s\n",
            "[CV 1/3; 64/64] START bagging_fraction=0.8, bagging_frequency=8, boosting_type=dart, feature_fraction=0.8, min_child_weight=0.01, min_data_in_leaf=120\n",
            "[CV 1/3; 64/64] END bagging_fraction=0.8, bagging_frequency=8, boosting_type=dart, feature_fraction=0.8, min_child_weight=0.01, min_data_in_leaf=120;, score=0.029 total time= 1.0min\n",
            "[CV 2/3; 64/64] START bagging_fraction=0.8, bagging_frequency=8, boosting_type=dart, feature_fraction=0.8, min_child_weight=0.01, min_data_in_leaf=120\n",
            "[CV 2/3; 64/64] END bagging_fraction=0.8, bagging_frequency=8, boosting_type=dart, feature_fraction=0.8, min_child_weight=0.01, min_data_in_leaf=120;, score=0.027 total time=  59.3s\n",
            "[CV 3/3; 64/64] START bagging_fraction=0.8, bagging_frequency=8, boosting_type=dart, feature_fraction=0.8, min_child_weight=0.01, min_data_in_leaf=120\n",
            "[CV 3/3; 64/64] END bagging_fraction=0.8, bagging_frequency=8, boosting_type=dart, feature_fraction=0.8, min_child_weight=0.01, min_data_in_leaf=120;, score=0.007 total time= 1.0min\n"
          ]
        }
      ]
    },
    {
      "cell_type": "code",
      "source": [
        "search.best_params_"
      ],
      "metadata": {
        "colab": {
          "base_uri": "https://localhost:8080/"
        },
        "id": "riSL7ooAi8y3",
        "outputId": "47207779-f4ed-40bb-87c7-8647ae2515a3"
      },
      "execution_count": null,
      "outputs": [
        {
          "output_type": "execute_result",
          "data": {
            "text/plain": [
              "{'min_data_in_leaf': 90,\n",
              " 'min_child_weight': 0.001,\n",
              " 'feature_fraction': 0.5,\n",
              " 'boosting_type': 'dart',\n",
              " 'bagging_frequency': 5,\n",
              " 'bagging_fraction': 0.5}"
            ]
          },
          "metadata": {},
          "execution_count": 78
        }
      ]
    },
    {
      "cell_type": "code",
      "source": [
        "search.best_score_"
      ],
      "metadata": {
        "colab": {
          "base_uri": "https://localhost:8080/"
        },
        "id": "7paj4jwTtTPF",
        "outputId": "5ccc0fba-15be-4b0f-9cfa-3eae144aa229"
      },
      "execution_count": null,
      "outputs": [
        {
          "output_type": "execute_result",
          "data": {
            "text/plain": [
              "0.021849578437470707"
            ]
          },
          "metadata": {},
          "execution_count": 79
        }
      ]
    },
    {
      "cell_type": "code",
      "source": [
        "model = lgb.LGBMRegressor(max_depth=-1)\n",
        "model.set_params(**search.best_params_)\n",
        "model.fit(train.drop(['target'],axis=1), train['target'])"
      ],
      "metadata": {
        "colab": {
          "base_uri": "https://localhost:8080/"
        },
        "id": "iOO6buRMuzr9",
        "outputId": "3f78e9b6-1c58-4750-b0d9-30bc8d9f05c5"
      },
      "execution_count": null,
      "outputs": [
        {
          "output_type": "execute_result",
          "data": {
            "text/plain": [
              "LGBMRegressor(bagging_fraction=0.5, bagging_frequency=5, boosting_type='dart',\n",
              "              feature_fraction=0.5, min_data_in_leaf=90)"
            ]
          },
          "metadata": {},
          "execution_count": 80
        }
      ]
    },
    {
      "cell_type": "markdown",
      "source": [
        "# 8.&nbsp;Predict output"
      ],
      "metadata": {
        "id": "UTA3HqUPbg1Y"
      }
    },
    {
      "cell_type": "code",
      "source": [
        "%%time\n",
        "test = getTimeFramewithFeatures(test_df, test_df['date'].min())\n",
        "test.drop(columns=percent_unused_cols[1:], inplace=True)\n",
        "test.shape"
      ],
      "metadata": {
        "colab": {
          "base_uri": "https://localhost:8080/"
        },
        "id": "7N7hrrJa5eIZ",
        "outputId": "99c1c994-f606-4785-9845-ba14b5b2c582"
      },
      "execution_count": null,
      "outputs": [
        {
          "output_type": "stream",
          "name": "stdout",
          "text": [
            "CPU times: user 42.4 s, sys: 157 ms, total: 42.6 s\n",
            "Wall time: 42.6 s\n"
          ]
        },
        {
          "output_type": "execute_result",
          "data": {
            "text/plain": [
              "(296530, 42)"
            ]
          },
          "metadata": {},
          "execution_count": 81
        }
      ]
    },
    {
      "cell_type": "code",
      "source": [
        "%%time\n",
        "y_pred = model.predict(test.drop(['target', 'fullVisitorId'], axis=1))\n",
        "prediction = pd.DataFrame(zip(test['fullVisitorId'], y_pred), columns = ['fullVisitorId', 'PredictedLogRevenue'])\n",
        "prediction['PredictedLogRevenue'][prediction['PredictedLogRevenue'] < 0] = 0\n",
        "\n",
        "prediction.to_csv('output/prediction.csv', index=False)\n",
        "prediction"
      ],
      "metadata": {
        "colab": {
          "base_uri": "https://localhost:8080/"
        },
        "id": "affaHnpiaWvr",
        "outputId": "24f551d0-b5d3-43b5-eb80-fd4afd0fc1cf"
      },
      "execution_count": null,
      "outputs": [
        {
          "output_type": "stream",
          "name": "stdout",
          "text": [
            "CPU times: user 2.76 s, sys: 34 ms, total: 2.79 s\n",
            "Wall time: 2.67 s\n"
          ]
        },
        {
          "output_type": "execute_result",
          "data": {
            "text/plain": [
              "              fullVisitorId  PredictedLogRevenue\n",
              "0       0000018966949534117             0.003037\n",
              "1       0036693306580175184             0.003037\n",
              "2       0037203376062803825             0.095187\n",
              "3       0051869652803526521             0.003037\n",
              "4       0066480182734334520             0.003037\n",
              "...                     ...                  ...\n",
              "296525   992838595332277097             0.001249\n",
              "296526  7047034012929122042             0.001249\n",
              "296527  0308499825805587947             0.001705\n",
              "296528  1447216801700455400             0.001249\n",
              "296529   389230150380472988             0.001249\n",
              "\n",
              "[296530 rows x 2 columns]"
            ],
            "text/html": [
              "\n",
              "  <div id=\"df-ec5858be-8417-479d-b7f4-fdaeb2f4a174\">\n",
              "    <div class=\"colab-df-container\">\n",
              "      <div>\n",
              "<style scoped>\n",
              "    .dataframe tbody tr th:only-of-type {\n",
              "        vertical-align: middle;\n",
              "    }\n",
              "\n",
              "    .dataframe tbody tr th {\n",
              "        vertical-align: top;\n",
              "    }\n",
              "\n",
              "    .dataframe thead th {\n",
              "        text-align: right;\n",
              "    }\n",
              "</style>\n",
              "<table border=\"1\" class=\"dataframe\">\n",
              "  <thead>\n",
              "    <tr style=\"text-align: right;\">\n",
              "      <th></th>\n",
              "      <th>fullVisitorId</th>\n",
              "      <th>PredictedLogRevenue</th>\n",
              "    </tr>\n",
              "  </thead>\n",
              "  <tbody>\n",
              "    <tr>\n",
              "      <th>0</th>\n",
              "      <td>0000018966949534117</td>\n",
              "      <td>0.003037</td>\n",
              "    </tr>\n",
              "    <tr>\n",
              "      <th>1</th>\n",
              "      <td>0036693306580175184</td>\n",
              "      <td>0.003037</td>\n",
              "    </tr>\n",
              "    <tr>\n",
              "      <th>2</th>\n",
              "      <td>0037203376062803825</td>\n",
              "      <td>0.095187</td>\n",
              "    </tr>\n",
              "    <tr>\n",
              "      <th>3</th>\n",
              "      <td>0051869652803526521</td>\n",
              "      <td>0.003037</td>\n",
              "    </tr>\n",
              "    <tr>\n",
              "      <th>4</th>\n",
              "      <td>0066480182734334520</td>\n",
              "      <td>0.003037</td>\n",
              "    </tr>\n",
              "    <tr>\n",
              "      <th>...</th>\n",
              "      <td>...</td>\n",
              "      <td>...</td>\n",
              "    </tr>\n",
              "    <tr>\n",
              "      <th>296525</th>\n",
              "      <td>992838595332277097</td>\n",
              "      <td>0.001249</td>\n",
              "    </tr>\n",
              "    <tr>\n",
              "      <th>296526</th>\n",
              "      <td>7047034012929122042</td>\n",
              "      <td>0.001249</td>\n",
              "    </tr>\n",
              "    <tr>\n",
              "      <th>296527</th>\n",
              "      <td>0308499825805587947</td>\n",
              "      <td>0.001705</td>\n",
              "    </tr>\n",
              "    <tr>\n",
              "      <th>296528</th>\n",
              "      <td>1447216801700455400</td>\n",
              "      <td>0.001249</td>\n",
              "    </tr>\n",
              "    <tr>\n",
              "      <th>296529</th>\n",
              "      <td>389230150380472988</td>\n",
              "      <td>0.001249</td>\n",
              "    </tr>\n",
              "  </tbody>\n",
              "</table>\n",
              "<p>296530 rows × 2 columns</p>\n",
              "</div>\n",
              "      <button class=\"colab-df-convert\" onclick=\"convertToInteractive('df-ec5858be-8417-479d-b7f4-fdaeb2f4a174')\"\n",
              "              title=\"Convert this dataframe to an interactive table.\"\n",
              "              style=\"display:none;\">\n",
              "        \n",
              "  <svg xmlns=\"http://www.w3.org/2000/svg\" height=\"24px\"viewBox=\"0 0 24 24\"\n",
              "       width=\"24px\">\n",
              "    <path d=\"M0 0h24v24H0V0z\" fill=\"none\"/>\n",
              "    <path d=\"M18.56 5.44l.94 2.06.94-2.06 2.06-.94-2.06-.94-.94-2.06-.94 2.06-2.06.94zm-11 1L8.5 8.5l.94-2.06 2.06-.94-2.06-.94L8.5 2.5l-.94 2.06-2.06.94zm10 10l.94 2.06.94-2.06 2.06-.94-2.06-.94-.94-2.06-.94 2.06-2.06.94z\"/><path d=\"M17.41 7.96l-1.37-1.37c-.4-.4-.92-.59-1.43-.59-.52 0-1.04.2-1.43.59L10.3 9.45l-7.72 7.72c-.78.78-.78 2.05 0 2.83L4 21.41c.39.39.9.59 1.41.59.51 0 1.02-.2 1.41-.59l7.78-7.78 2.81-2.81c.8-.78.8-2.07 0-2.86zM5.41 20L4 18.59l7.72-7.72 1.47 1.35L5.41 20z\"/>\n",
              "  </svg>\n",
              "      </button>\n",
              "      \n",
              "  <style>\n",
              "    .colab-df-container {\n",
              "      display:flex;\n",
              "      flex-wrap:wrap;\n",
              "      gap: 12px;\n",
              "    }\n",
              "\n",
              "    .colab-df-convert {\n",
              "      background-color: #E8F0FE;\n",
              "      border: none;\n",
              "      border-radius: 50%;\n",
              "      cursor: pointer;\n",
              "      display: none;\n",
              "      fill: #1967D2;\n",
              "      height: 32px;\n",
              "      padding: 0 0 0 0;\n",
              "      width: 32px;\n",
              "    }\n",
              "\n",
              "    .colab-df-convert:hover {\n",
              "      background-color: #E2EBFA;\n",
              "      box-shadow: 0px 1px 2px rgba(60, 64, 67, 0.3), 0px 1px 3px 1px rgba(60, 64, 67, 0.15);\n",
              "      fill: #174EA6;\n",
              "    }\n",
              "\n",
              "    [theme=dark] .colab-df-convert {\n",
              "      background-color: #3B4455;\n",
              "      fill: #D2E3FC;\n",
              "    }\n",
              "\n",
              "    [theme=dark] .colab-df-convert:hover {\n",
              "      background-color: #434B5C;\n",
              "      box-shadow: 0px 1px 3px 1px rgba(0, 0, 0, 0.15);\n",
              "      filter: drop-shadow(0px 1px 2px rgba(0, 0, 0, 0.3));\n",
              "      fill: #FFFFFF;\n",
              "    }\n",
              "  </style>\n",
              "\n",
              "      <script>\n",
              "        const buttonEl =\n",
              "          document.querySelector('#df-ec5858be-8417-479d-b7f4-fdaeb2f4a174 button.colab-df-convert');\n",
              "        buttonEl.style.display =\n",
              "          google.colab.kernel.accessAllowed ? 'block' : 'none';\n",
              "\n",
              "        async function convertToInteractive(key) {\n",
              "          const element = document.querySelector('#df-ec5858be-8417-479d-b7f4-fdaeb2f4a174');\n",
              "          const dataTable =\n",
              "            await google.colab.kernel.invokeFunction('convertToInteractive',\n",
              "                                                     [key], {});\n",
              "          if (!dataTable) return;\n",
              "\n",
              "          const docLinkHtml = 'Like what you see? Visit the ' +\n",
              "            '<a target=\"_blank\" href=https://colab.research.google.com/notebooks/data_table.ipynb>data table notebook</a>'\n",
              "            + ' to learn more about interactive tables.';\n",
              "          element.innerHTML = '';\n",
              "          dataTable['output_type'] = 'display_data';\n",
              "          await google.colab.output.renderOutput(dataTable, element);\n",
              "          const docLink = document.createElement('div');\n",
              "          docLink.innerHTML = docLinkHtml;\n",
              "          element.appendChild(docLink);\n",
              "        }\n",
              "      </script>\n",
              "    </div>\n",
              "  </div>\n",
              "  "
            ]
          },
          "metadata": {},
          "execution_count": 82
        }
      ]
    },
    {
      "cell_type": "code",
      "source": [
        ""
      ],
      "metadata": {
        "id": "ZCRnIYUslE6b"
      },
      "execution_count": null,
      "outputs": []
    },
    {
      "cell_type": "markdown",
      "source": [
        "# 9 . Reflection\n",
        "Vũ Công Minh:\n",
        "- Học hỏi được nhiều điều mới:\n",
        "  + Cách xử lý bộ dữ liệu lớn (sử dụng chunksize)\n",
        "  + Cách xử lý những cột categories\n",
        "  + Cách làm giả lập timeframe của tác giả\n",
        "  + Cách train model chia làm 2 model của tác giả (classify and regression)\n",
        "- Khó khăn:\n",
        "  + Chọn đề tài phù hợp.\n",
        "  + Quá nhiều dữ liệu.\n",
        "\n",
        "Võ Ngọc Minh:\n",
        "- Tìm hiểu cách xử lý bộ dữ liệu lớn\n",
        "- Rèn luyện tính cận thẩn trong lúc làm việc\n",
        "- Khó khăn:\n",
        "  + Tìm hiểu nhiều hướng giải quyết khác nhau.\n",
        "\n",
        "Nâng cấp\n",
        "- Tune thêm nhiều hyperparameters mới để tăng độ chính xác\n",
        "- Có thể bỏ bớt một số cột không quan trọng \n",
        "- Ensemble các model lại"
      ],
      "metadata": {
        "id": "ZzMEluCksgeh"
      }
    }
  ]
}